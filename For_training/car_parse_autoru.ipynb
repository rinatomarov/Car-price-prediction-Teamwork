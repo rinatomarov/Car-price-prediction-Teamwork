{
 "cells": [
  {
   "cell_type": "code",
   "execution_count": 1,
   "metadata": {
    "_cell_guid": "b1076dfc-b9ad-4769-8c92-a6c4dae69d19",
    "_uuid": "8f2839f25d086af736a60e9eeb907d3b93b6e0e5"
   },
   "outputs": [],
   "source": [
    "# This Python 3 environment comes with many helpful analytics libraries installed\n",
    "# It is defined by the kaggle/python Docker image: https://github.com/kaggle/docker-python\n",
    "# For example, here's several helpful packages to load\n",
    "\n",
    "import numpy as np # linear algebra\n",
    "import pandas as pd # data processing, CSV file I/O (e.g. pd.read_csv)\n",
    "\n",
    "# Input data files are available in the read-only \"../input/\" directory\n",
    "# For example, running this (by clicking run or pressing Shift+Enter) will list all files under the input directory\n",
    "\n",
    "import os\n",
    "for dirname, _, filenames in os.walk('/kaggle/input'):\n",
    "    for filename in filenames:\n",
    "        print(os.path.join(dirname, filename))\n",
    "\n",
    "# You can write up to 20GB to the current directory (/kaggle/working/) that gets preserved as output when you create a version using \"Save & Run All\" \n",
    "# You can also write temporary files to /kaggle/temp/, but they won't be saved outside of the current session"
   ]
  },
  {
   "cell_type": "code",
   "execution_count": 4,
   "metadata": {},
   "outputs": [],
   "source": [
    "# test = pd.read_csv('/kaggle/input/test-data/test.csv')"
   ]
  },
  {
   "cell_type": "code",
   "execution_count": null,
   "metadata": {},
   "outputs": [],
   "source": [
    "test['brand'].value_counts()"
   ]
  },
  {
   "cell_type": "code",
   "execution_count": 2,
   "metadata": {},
   "outputs": [],
   "source": [
    "import pandas as pd\n",
    "import requests\n",
    "import numpy as np\n",
    "import matplotlib.pyplot as plt\n",
    "import seaborn as sns\n",
    "import datetime as dt\n",
    "import os\n",
    "\n",
    "from bs4 import BeautifulSoup\n",
    "from tqdm.notebook import tqdm\n",
    "from catboost import CatBoostRegressor\n",
    "from sklearn.model_selection import train_test_split\n",
    "from sklearn.model_selection import KFold\n",
    "from sklearn.ensemble import RandomForestRegressor\n",
    "from sklearn.linear_model import LinearRegression\n",
    "from sklearn.base import clone\n",
    "\n",
    "%matplotlib inline"
   ]
  },
  {
   "cell_type": "code",
   "execution_count": null,
   "metadata": {
    "_cell_guid": "79c7e3d0-c299-4dcb-8224-4455121ee9b0",
    "_uuid": "d629ff2d2480ee46fbb7e2d37f6b5fab8052498a"
   },
   "outputs": [],
   "source": []
  },
  {
   "cell_type": "code",
   "execution_count": 3,
   "metadata": {},
   "outputs": [],
   "source": [
    "import requests\n",
    "import numpy as np\n",
    "import pandas as pd\n",
    "import time\n",
    "from bs4 import BeautifulSoup\n",
    "import socket\n",
    "import matplotlib.pyplot as plt\n",
    "import seaborn as sns\n",
    "import datetime as dt\n",
    "import os\n",
    "from tqdm.notebook import tqdm\n",
    "import asyncio"
   ]
  },
  {
   "cell_type": "code",
   "execution_count": null,
   "metadata": {},
   "outputs": [],
   "source": [
    "model_url_list = [\n",
    "'https://auto.ru/cars/bmw/1er/used/',\n",
    "'https://auto.ru/cars/bmw/2er/used/',       \n",
    "'https://auto.ru/cars/bmw/3er/used/',\n",
    "'https://auto.ru/cars/bmw/4/used/',\n",
    "'https://auto.ru/cars/bmw/5er/used/',\n",
    "'https://auto.ru/cars/bmw/6er/used/',\n",
    "'https://auto.ru/cars/bmw/7er/used/',\n",
    "'https://auto.ru/cars/bmw/8er/used/',\n",
    "'https://auto.ru/cars/bmw/i3/used/',\n",
    "'https://auto.ru/cars/bmw/m3/used/',\n",
    "'https://auto.ru/cars/bmw/m5/used/',\n",
    "'https://auto.ru/cars/bmw/m6/used/',\n",
    "'https://auto.ru/cars/bmw/x1/used/',\n",
    "'https://auto.ru/cars/bmw/x2/used/',\n",
    "'https://auto.ru/cars/bmw/x3/used/',\n",
    "'https://auto.ru/cars/bmw/x4/used/',\n",
    "'https://auto.ru/cars/bmw/x4_m/used/',\n",
    "'https://auto.ru/cars/bmw/x5/used/',\n",
    "'https://auto.ru/cars/bmw/x5_m/used/',\n",
    "'https://auto.ru/cars/bmw/x6/used/',\n",
    "'https://auto.ru/cars/bmw/x6_m/used/',\n",
    "'https://auto.ru/cars/bmw/x7/used/',\n",
    "'https://auto.ru/cars/bmw/z4/used/',\n",
    "]"
   ]
  },
  {
   "cell_type": "code",
   "execution_count": null,
   "metadata": {},
   "outputs": [],
   "source": [
    "model_url_list2 = [\n",
    "    'https://auto.ru/moskva/cars/volkswagen/amarok/used/',\n",
    "    'https://auto.ru/moskva/cars/volkswagen/beetle/used/',\n",
    "    'https://auto.ru/moskva/cars/volkswagen/bora/used/',\n",
    "    'https://auto.ru/moskva/cars/volkswagen/caddy/used/',\n",
    "    'https://auto.ru/moskva/cars/volkswagen/caravelle/used/',\n",
    "    'https://auto.ru/moskva/cars/volkswagen/eurovan/used/',\n",
    "    'https://auto.ru/moskva/cars/volkswagen/golf/used/',\n",
    "    'https://auto.ru/moskva/cars/volkswagen/jetta/used/',\n",
    "    'https://auto.ru/moskva/cars/volkswagen/multivan/used/',\n",
    "    'https://auto.ru/moskva/cars/volkswagen/passat/used/',\n",
    "    'https://auto.ru/moskva/cars/volkswagen/passat_cc/used/',\n",
    "    'https://auto.ru/moskva/cars/volkswagen/tiguan/used/'\n",
    "]"
   ]
  },
  {
   "cell_type": "code",
   "execution_count": null,
   "metadata": {},
   "outputs": [],
   "source": [
    "model_url_list3 = [\n",
    "    'https://auto.ru/moskva/cars/nissan/almera/used/',\n",
    "    'https://auto.ru/moskva/cars/nissan/almera_classic/used/',\n",
    "    'https://auto.ru/moskva/cars/nissan/juke/used/',\n",
    "    'https://auto.ru/moskva/cars/nissan/murano/used/',\n",
    "    'https://auto.ru/moskva/cars/nissan/pathfinder/used/',\n",
    "    'https://auto.ru/moskva/cars/nissan/primera/used/',\n",
    "    'https://auto.ru/moskva/cars/nissan/qashqai/used/',\n",
    "    'https://auto.ru/moskva/cars/nissan/teana/used/',\n",
    "    'https://auto.ru/moskva/cars/nissan/x_trail/used/',\n",
    "    'https://auto.ru/moskva/cars/nissan/terrano/used/',\n",
    "    'https://auto.ru/moskva/cars/nissan/tiida/used/'\n",
    "]"
   ]
  },
  {
   "cell_type": "code",
   "execution_count": null,
   "metadata": {},
   "outputs": [],
   "source": [
    "model_url_list4 = [\n",
    "    'https://auto.ru/moskva/cars/mercedes/c_klasse/used/',\n",
    "    'https://auto.ru/moskva/cars/mercedes/e_klasse/used/',\n",
    "    'https://auto.ru/moskva/cars/mercedes/g_klasse/used/',\n",
    "    'https://auto.ru/moskva/cars/mercedes/gl_klasse/used/',\n",
    "    'https://auto.ru/moskva/cars/mercedes/gla_class/used/',\n",
    "    'https://auto.ru/moskva/cars/mercedes/glc_klasse/used/',\n",
    "    'https://auto.ru/moskva/cars/mercedes/gle_klasse/used/',\n",
    "    'https://auto.ru/moskva/cars/mercedes/glk_klasse/used/',\n",
    "    'https://auto.ru/moskva/cars/mercedes/gls_klasse/used/'\n",
    "]"
   ]
  },
  {
   "cell_type": "code",
   "execution_count": null,
   "metadata": {},
   "outputs": [],
   "source": [
    "model_url_list5 = [\n",
    "    'https://auto.ru/moskva/cars/toyota/camry/used/',\n",
    "    'https://auto.ru/moskva/cars/toyota/corolla/used/',\n",
    "    'https://auto.ru/moskva/cars/toyota/land_cruiser_prado/used/',\n",
    "    'https://auto.ru/moskva/cars/toyota/land_cruiser/used/',\n",
    "    'https://auto.ru/moskva/cars/toyota/avensis/used/',\n",
    "    'https://auto.ru/moskva/cars/toyota/rav_4/used/'\n",
    "]"
   ]
  },
  {
   "cell_type": "code",
   "execution_count": null,
   "metadata": {},
   "outputs": [],
   "source": [
    "model_url_list6 = [\n",
    "    'https://auto.ru/moskva/cars/audi/a3/used/',\n",
    "    'https://auto.ru/moskva/cars/audi/80/used/',\n",
    "    'https://auto.ru/moskva/cars/audi/100/used/',\n",
    "    'https://auto.ru/moskva/cars/audi/a4/used/',\n",
    "    'https://auto.ru/moskva/cars/audi/a5/used/',\n",
    "    'https://auto.ru/moskva/cars/audi/a6/used/',\n",
    "    'https://auto.ru/moskva/cars/audi/a7/used/',\n",
    "    'https://auto.ru/moskva/cars/audi/a8/used/',\n",
    "    'https://auto.ru/moskva/cars/audi/q3/used/',\n",
    "    'https://auto.ru/moskva/cars/audi/q5/used/',\n",
    "    'https://auto.ru/moskva/cars/audi/q7/used/'\n",
    "]"
   ]
  },
  {
   "cell_type": "code",
   "execution_count": null,
   "metadata": {},
   "outputs": [],
   "source": [
    "model_url_list7 = [\n",
    "    'https://auto.ru/moskva/cars/mitsubishi/asx/used/',\n",
    "    'https://auto.ru/moskva/cars/mitsubishi/carisma/used/',\n",
    "    'https://auto.ru/moskva/cars/mitsubishi/colt/used/',\n",
    "    'https://auto.ru/moskva/cars/mitsubishi/galant/used/',\n",
    "    'https://auto.ru/moskva/cars/mitsubishi/l200/used/',\n",
    "    'https://auto.ru/moskva/cars/mitsubishi/lancer/used/',\n",
    "    'https://auto.ru/moskva/cars/mitsubishi/montero_sport/used/',\n",
    "    'https://auto.ru/moskva/cars/mitsubishi/outlander/used/',\n",
    "    'https://auto.ru/moskva/cars/mitsubishi/pajero/used/',\n",
    "    'https://auto.ru/moskva/cars/mitsubishi/pajero_sport/used/',\n",
    "    'https://auto.ru/moskva/cars/mitsubishi/space_star/used/'\n",
    "]"
   ]
  },
  {
   "cell_type": "code",
   "execution_count": null,
   "metadata": {},
   "outputs": [],
   "source": [
    "model_url_list8 = [\n",
    "    'https://auto.ru/moskva/cars/skoda/fabia/used/',\n",
    "    'https://auto.ru/moskva/cars/skoda/favorit/used/',\n",
    "    'https://auto.ru/moskva/cars/skoda/felicia/used/',\n",
    "    'https://auto.ru/moskva/cars/skoda/kodiaq/used/',\n",
    "    'https://auto.ru/moskva/cars/skoda/octavia/used/',\n",
    "    'https://auto.ru/moskva/cars/skoda/octavia_rs/used/',\n",
    "    'https://auto.ru/moskva/cars/skoda/rapid/used/',\n",
    "    'https://auto.ru/moskva/cars/skoda/roomster/used/',\n",
    "    'https://auto.ru/moskva/cars/skoda/superb/used/',\n",
    "    'https://auto.ru/moskva/cars/skoda/yeti/used/'\n",
    "]"
   ]
  },
  {
   "cell_type": "code",
   "execution_count": null,
   "metadata": {},
   "outputs": [],
   "source": [
    "model_url_list9 = [\n",
    "    'https://auto.ru/moskva/cars/volvo/850/used/',\n",
    "    'https://auto.ru/moskva/cars/volvo/940/used/',\n",
    "    'https://auto.ru/moskva/cars/volvo/c30/used/',\n",
    "    'https://auto.ru/moskva/cars/volvo/s40/used/',\n",
    "    'https://auto.ru/moskva/cars/volvo/s60/used/',\n",
    "    'https://auto.ru/moskva/cars/volvo/s80/used/',\n",
    "    'https://auto.ru/moskva/cars/volvo/s90/used/',\n",
    "    'https://auto.ru/moskva/cars/volvo/v40_cc/used/',\n",
    "    'https://auto.ru/moskva/cars/volvo/xc60/used/',\n",
    "    'https://auto.ru/moskva/cars/volvo/xc70/used/',\n",
    "    'https://auto.ru/moskva/cars/volvo/xc90/used/'\n",
    "]"
   ]
  },
  {
   "cell_type": "code",
   "execution_count": 5,
   "metadata": {},
   "outputs": [],
   "source": [
    "model_url_list10 = [\n",
    "    'https://auto.ru/moskva/cars/honda/accord/used/',\n",
    "    'https://auto.ru/moskva/cars/honda/civic/used/',\n",
    "    'https://auto.ru/moskva/cars/honda/cr_v/used/',\n",
    "    'https://auto.ru/moskva/cars/honda/crosstour/used/',\n",
    "    'https://auto.ru/moskva/cars/honda/fit/used/',\n",
    "    'https://auto.ru/moskva/cars/honda/hr_v/used/',\n",
    "    'https://auto.ru/moskva/cars/honda/jazz/used/',\n",
    "    'https://auto.ru/moskva/cars/honda/legend/used/',\n",
    "    'https://auto.ru/moskva/cars/honda/pilot/used/',\n",
    "    'https://auto.ru/moskva/cars/honda/prelude/used/',\n",
    "    'https://auto.ru/moskva/cars/honda/stepwagon/used/'\n",
    "]"
   ]
  },
  {
   "cell_type": "code",
   "execution_count": 17,
   "metadata": {},
   "outputs": [],
   "source": [
    "model_url_list11=['https://auto.ru/cars/infiniti/used/']"
   ]
  },
  {
   "cell_type": "code",
   "execution_count": 4,
   "metadata": {},
   "outputs": [],
   "source": [
    "model_url_list12=['https://auto.ru/cars/lexus/used/']"
   ]
  },
  {
   "cell_type": "code",
   "execution_count": 21,
   "metadata": {},
   "outputs": [],
   "source": [
    "model_url_list13= ['https://auto.ru/cars/volvo/used/']"
   ]
  },
  {
   "cell_type": "code",
   "execution_count": 35,
   "metadata": {},
   "outputs": [],
   "source": [
    "model_url_list14= ['https://auto.ru/cars/honda/used/']"
   ]
  },
  {
   "cell_type": "code",
   "execution_count": 22,
   "metadata": {},
   "outputs": [],
   "source": [
    "def pages_counter(model_url):\n",
    "    response = requests.get(model_url)\n",
    "    page = BeautifulSoup(response.text, 'html.parser')\n",
    "    total_pages = page.find_all(class_ = \"Button Button_color_whiteHoverBlue Button_size_s Button_type_link Button_width_default ListingPagination-module__page\")\n",
    "    if total_pages == []:\n",
    "        return 1\n",
    "    else:\n",
    "        return int(total_pages[-1].find(class_ = \"Button__text\").text)"
   ]
  },
  {
   "cell_type": "code",
   "execution_count": 36,
   "metadata": {},
   "outputs": [],
   "source": [
    "card_url_list = []"
   ]
  },
  {
   "cell_type": "code",
   "execution_count": 37,
   "metadata": {},
   "outputs": [
    {
     "data": {
      "text/plain": [
       "[]"
      ]
     },
     "execution_count": 37,
     "metadata": {},
     "output_type": "execute_result"
    }
   ],
   "source": [
    "card_url_list"
   ]
  },
  {
   "cell_type": "code",
   "execution_count": 38,
   "metadata": {},
   "outputs": [],
   "source": [
    "def card_url_parser(model_url):\n",
    "    response = requests.get(model_url)\n",
    "    page = BeautifulSoup(response.text, 'html.parser')\n",
    "    pages_for_model = pages_counter(model_url)\n",
    "    for parsed_page in range(1, pages_for_model):\n",
    "        if parsed_page == 1:\n",
    "            for card_url in page.find_all(class_=\"Link ListingItemTitle-module__link\"):\n",
    "                card_url_list.append(card_url['href'])\n",
    "        else:\n",
    "            page_url = model_url + '?page=' + str(parsed_page)\n",
    "            response = requests.get(page_url)\n",
    "            page = BeautifulSoup(response.text, 'html.parser')\n",
    "            for card_url in page.find_all(class_=\"Link ListingItemTitle-module__link\"):\n",
    "                card_url_list.append(card_url['href'])"
   ]
  },
  {
   "cell_type": "code",
   "execution_count": 39,
   "metadata": {},
   "outputs": [],
   "source": [
    "for model_url in model_url_list14:\n",
    "    card_url_parser(model_url)\n"
   ]
  },
  {
   "cell_type": "code",
   "execution_count": null,
   "metadata": {},
   "outputs": [],
   "source": []
  },
  {
   "cell_type": "code",
   "execution_count": 40,
   "metadata": {},
   "outputs": [
    {
     "data": {
      "text/plain": [
       "<bound method NDFrame.head of                                                       0\n",
       "0     https://auto.ru/cars/used/sale/honda/cr_v/1102...\n",
       "1     https://auto.ru/cars/used/sale/honda/odyssey_n...\n",
       "2     https://auto.ru/cars/used/sale/honda/s660/1101...\n",
       "3     https://auto.ru/cars/used/sale/honda/pilot/110...\n",
       "4     https://auto.ru/cars/used/sale/honda/stepwagon...\n",
       "...                                                 ...\n",
       "3631  https://auto.ru/cars/used/sale/honda/pilot/109...\n",
       "3632  https://auto.ru/cars/used/sale/honda/civic/110...\n",
       "3633  https://auto.ru/cars/used/sale/honda/stepwagon...\n",
       "3634  https://auto.ru/cars/used/sale/honda/hr_v/1101...\n",
       "3635  https://auto.ru/cars/used/sale/honda/inspire/1...\n",
       "\n",
       "[3636 rows x 1 columns]>"
      ]
     },
     "execution_count": 40,
     "metadata": {},
     "output_type": "execute_result"
    }
   ],
   "source": [
    "card_url_data = pd.DataFrame(card_url_list)\n",
    "card_url_data.head"
   ]
  },
  {
   "cell_type": "code",
   "execution_count": 23,
   "metadata": {},
   "outputs": [],
   "source": [
    "# card_url_data.to_csv('infiniti_urls.csv')"
   ]
  },
  {
   "cell_type": "code",
   "execution_count": 31,
   "metadata": {},
   "outputs": [],
   "source": [
    "# card_url_data.to_csv('lexus_urls.csv')"
   ]
  },
  {
   "cell_type": "code",
   "execution_count": 28,
   "metadata": {},
   "outputs": [],
   "source": [
    "# card_url_data.to_csv('volvo_urls.csv')"
   ]
  },
  {
   "cell_type": "code",
   "execution_count": 41,
   "metadata": {},
   "outputs": [],
   "source": [
    "card_url_data.to_csv('honda2_urls.csv')"
   ]
  },
  {
   "cell_type": "code",
   "execution_count": null,
   "metadata": {},
   "outputs": [],
   "source": [
    "# card_url_data.to_csv('bmw_urls.csv')"
   ]
  },
  {
   "cell_type": "code",
   "execution_count": 48,
   "metadata": {},
   "outputs": [],
   "source": [
    "card_urls = pd.read_csv('honda2_urls.csv')\n"
   ]
  },
  {
   "cell_type": "code",
   "execution_count": 6,
   "metadata": {},
   "outputs": [],
   "source": [
    "card_urls = pd.read_csv('lexus_urls.csv')\n"
   ]
  },
  {
   "cell_type": "code",
   "execution_count": 49,
   "metadata": {},
   "outputs": [],
   "source": [
    "card_urls = card_urls.drop('Unnamed: 0', axis=1)"
   ]
  },
  {
   "cell_type": "code",
   "execution_count": 50,
   "metadata": {},
   "outputs": [
    {
     "data": {
      "text/html": [
       "<div>\n",
       "<style scoped>\n",
       "    .dataframe tbody tr th:only-of-type {\n",
       "        vertical-align: middle;\n",
       "    }\n",
       "\n",
       "    .dataframe tbody tr th {\n",
       "        vertical-align: top;\n",
       "    }\n",
       "\n",
       "    .dataframe thead th {\n",
       "        text-align: right;\n",
       "    }\n",
       "</style>\n",
       "<table border=\"1\" class=\"dataframe\">\n",
       "  <thead>\n",
       "    <tr style=\"text-align: right;\">\n",
       "      <th></th>\n",
       "      <th>0</th>\n",
       "    </tr>\n",
       "  </thead>\n",
       "  <tbody>\n",
       "    <tr>\n",
       "      <th>0</th>\n",
       "      <td>https://auto.ru/cars/used/sale/honda/cr_v/1102...</td>\n",
       "    </tr>\n",
       "    <tr>\n",
       "      <th>1</th>\n",
       "      <td>https://auto.ru/cars/used/sale/honda/odyssey_n...</td>\n",
       "    </tr>\n",
       "    <tr>\n",
       "      <th>2</th>\n",
       "      <td>https://auto.ru/cars/used/sale/honda/s660/1101...</td>\n",
       "    </tr>\n",
       "    <tr>\n",
       "      <th>3</th>\n",
       "      <td>https://auto.ru/cars/used/sale/honda/pilot/110...</td>\n",
       "    </tr>\n",
       "    <tr>\n",
       "      <th>4</th>\n",
       "      <td>https://auto.ru/cars/used/sale/honda/stepwagon...</td>\n",
       "    </tr>\n",
       "    <tr>\n",
       "      <th>...</th>\n",
       "      <td>...</td>\n",
       "    </tr>\n",
       "    <tr>\n",
       "      <th>3631</th>\n",
       "      <td>https://auto.ru/cars/used/sale/honda/pilot/109...</td>\n",
       "    </tr>\n",
       "    <tr>\n",
       "      <th>3632</th>\n",
       "      <td>https://auto.ru/cars/used/sale/honda/civic/110...</td>\n",
       "    </tr>\n",
       "    <tr>\n",
       "      <th>3633</th>\n",
       "      <td>https://auto.ru/cars/used/sale/honda/stepwagon...</td>\n",
       "    </tr>\n",
       "    <tr>\n",
       "      <th>3634</th>\n",
       "      <td>https://auto.ru/cars/used/sale/honda/hr_v/1101...</td>\n",
       "    </tr>\n",
       "    <tr>\n",
       "      <th>3635</th>\n",
       "      <td>https://auto.ru/cars/used/sale/honda/inspire/1...</td>\n",
       "    </tr>\n",
       "  </tbody>\n",
       "</table>\n",
       "<p>3636 rows × 1 columns</p>\n",
       "</div>"
      ],
      "text/plain": [
       "                                                      0\n",
       "0     https://auto.ru/cars/used/sale/honda/cr_v/1102...\n",
       "1     https://auto.ru/cars/used/sale/honda/odyssey_n...\n",
       "2     https://auto.ru/cars/used/sale/honda/s660/1101...\n",
       "3     https://auto.ru/cars/used/sale/honda/pilot/110...\n",
       "4     https://auto.ru/cars/used/sale/honda/stepwagon...\n",
       "...                                                 ...\n",
       "3631  https://auto.ru/cars/used/sale/honda/pilot/109...\n",
       "3632  https://auto.ru/cars/used/sale/honda/civic/110...\n",
       "3633  https://auto.ru/cars/used/sale/honda/stepwagon...\n",
       "3634  https://auto.ru/cars/used/sale/honda/hr_v/1101...\n",
       "3635  https://auto.ru/cars/used/sale/honda/inspire/1...\n",
       "\n",
       "[3636 rows x 1 columns]"
      ]
     },
     "execution_count": 50,
     "metadata": {},
     "output_type": "execute_result"
    }
   ],
   "source": [
    "card_urls"
   ]
  },
  {
   "cell_type": "code",
   "execution_count": 51,
   "metadata": {},
   "outputs": [],
   "source": [
    "\n",
    "def features_parser(url_list):\n",
    "    data_train = pd.DataFrame()\n",
    "    counter = 0\n",
    "    for card_url in url_list:\n",
    "        response = requests.get(card_url)\n",
    "        response.encoding = 'utf-8'\n",
    "        page = BeautifulSoup(response.text, 'html.parser')\n",
    "\n",
    "        # body type\n",
    "        body = page.find(itemprop='bodyType')\n",
    "        if body is None:\n",
    "            data_train.at[counter, 'bodyType'] = None\n",
    "        else:\n",
    "            data_train.at[counter, 'bodyType'] = body['content']\n",
    "\n",
    "        # color\n",
    "        color = page.find(itemprop='color')\n",
    "        if color is None:\n",
    "            data_train.at[counter, 'color'] = None\n",
    "        else:\n",
    "            data_train.at[counter, 'color'] = color['content']\n",
    "\n",
    "        # fuel type\n",
    "        fuel = page.find(itemprop='fuelType')\n",
    "        if fuel is None:\n",
    "            data_train.at[counter, 'fuelType'] = None\n",
    "        else:\n",
    "            data_train.at[counter, 'fuelType'] = fuel['content']\n",
    "\n",
    "        # model date\n",
    "        model_date = page.find(itemprop='modelDate')\n",
    "        if model_date is None:\n",
    "            data_train.at[counter, 'modelDate'] = None\n",
    "        else:\n",
    "            data_train.at[counter, 'modelDate'] = model_date['content']\n",
    "\n",
    "        # number of doors\n",
    "        doors = page.find(itemprop='numberOfDoors')\n",
    "        if doors is None:\n",
    "            data_train.at[counter, 'numberOfDoors'] = None\n",
    "        else:\n",
    "            data_train.at[counter, 'numberOfDoors'] = doors['content']\n",
    "\n",
    "        # production date\n",
    "        prod_date = page.find(itemprop='productionDate')\n",
    "        if prod_date is None:\n",
    "            data_train.at[counter, 'productionDate'] = None\n",
    "        else:\n",
    "            data_train.at[counter, 'productionDate'] = prod_date['content']\n",
    "\n",
    "        # vehicle transmission\n",
    "        trans = page.find(itemprop='vehicleTransmission')\n",
    "        if trans is None:\n",
    "            data_train.at[counter, 'vehicleTransmission'] = None\n",
    "        else:\n",
    "            data_train.at[counter, 'vehicleTransmission'] = trans['content']\n",
    "\n",
    "        # engine displacement\n",
    "        engine_ltr = page.find(itemprop='engineDisplacement')\n",
    "        if engine_ltr is None:\n",
    "            data_train.at[counter, 'engineDisplacement'] = None\n",
    "        else:\n",
    "            data_train.at[counter, 'engineDisplacement'] = engine_ltr['content']\n",
    "\n",
    "        # engine power\n",
    "        engine_pwr = page.find(itemprop='enginePower')\n",
    "        if engine_pwr is None:\n",
    "            data_train.at[counter, 'enginePower'] = None\n",
    "        else:\n",
    "            data_train.at[counter, 'enginePower'] = engine_pwr['content']\n",
    "\n",
    "        # mileage\n",
    "        mileage = page.find(class_='CardInfoRow CardInfoRow_kmAge')\n",
    "        if mileage is None:\n",
    "            data_train.at[counter, 'mileage'] = None\n",
    "        else:\n",
    "            mileage = mileage.text.replace('Пробег', '')\n",
    "            mileage = mileage.replace('\\xa0', '')\n",
    "            mileage = mileage.replace('км', '')\n",
    "            data_train.at[counter, 'mileage'] = mileage\n",
    "\n",
    "        # drive type\n",
    "        drive = page.find(class_='CardInfoRow CardInfoRow_drive')\n",
    "        if drive is None:\n",
    "            data_train.at[counter, 'Привод'] = None\n",
    "        else:\n",
    "            drive = drive.text.replace('Привод', '')\n",
    "            data_train.at[counter, 'Привод'] = drive\n",
    "\n",
    "        # wheel\n",
    "        wheel = page.find(class_='CardInfoRow CardInfoRow_wheel')\n",
    "        if wheel is None:\n",
    "            data_train.at[counter, 'Руль'] = None\n",
    "        else:\n",
    "            wheel = wheel.text.replace('Руль', '')\n",
    "            data_train.at[counter, 'Руль'] = wheel\n",
    "\n",
    "        # owners\n",
    "        owners = page.find(class_='CardInfoRow CardInfoRow_ownersCount')\n",
    "        if owners is None:\n",
    "            data_train.at[counter, 'Владельцы'] = None\n",
    "        else:\n",
    "            owners = owners.text.replace('Владельцы', '')\n",
    "            owners = owners.replace('\\xa0', '')\n",
    "            data_train.at[counter, 'Владельцы'] = owners\n",
    "\n",
    "        # vehicle certificate\n",
    "        certificate = page.find(class_='CardInfoRow CardInfoRow_pts')\n",
    "        if certificate is None:\n",
    "            data_train.at[counter, 'ПТС'] = None\n",
    "        else:\n",
    "            certificate = certificate.text.replace('ПТС', '')\n",
    "            data_train.at[counter, 'ПТС'] = certificate\n",
    "\n",
    "        # price\n",
    "        price = page.find(class_='OfferPriceCaption__price')\n",
    "        if price is None:\n",
    "            data_train.at[counter, 'price'] = None\n",
    "        else:\n",
    "            price = price.text.replace('\\xa0', '')\n",
    "            price = price.replace('₽', '')\n",
    "            data_train.at[counter, 'price'] = price\n",
    "\n",
    "        # counter up\n",
    "        counter += 1\n",
    "        # print(data_train)\n",
    "    return data_train\n",
    "\n"
   ]
  },
  {
   "cell_type": "code",
   "execution_count": 52,
   "metadata": {},
   "outputs": [],
   "source": [
    "lst_urls = []\n",
    "for i in range(len(card_urls)):\n",
    "    lst_urls.append(card_urls.iloc[i][0])"
   ]
  },
  {
   "cell_type": "code",
   "execution_count": null,
   "metadata": {},
   "outputs": [],
   "source": []
  },
  {
   "cell_type": "code",
   "execution_count": 57,
   "metadata": {},
   "outputs": [
    {
     "ename": "KeyError",
     "evalue": "'content'",
     "output_type": "error",
     "traceback": [
      "\u001b[1;31m---------------------------------------------------------------------------\u001b[0m",
      "\u001b[1;31mKeyError\u001b[0m                                  Traceback (most recent call last)",
      "\u001b[1;32m<ipython-input-57-d76b5d636ee7>\u001b[0m in \u001b[0;36m<module>\u001b[1;34m\u001b[0m\n\u001b[1;32m----> 1\u001b[1;33m \u001b[0mdata_trains4\u001b[0m \u001b[1;33m=\u001b[0m \u001b[0mfeatures_parser\u001b[0m\u001b[1;33m(\u001b[0m\u001b[0mlst_urls\u001b[0m\u001b[1;33m[\u001b[0m\u001b[1;33m:\u001b[0m\u001b[1;36m2000\u001b[0m\u001b[1;33m]\u001b[0m\u001b[1;33m)\u001b[0m\u001b[1;33m\u001b[0m\u001b[1;33m\u001b[0m\u001b[0m\n\u001b[0m\u001b[0;32m      2\u001b[0m \u001b[0mdata_trains4\u001b[0m\u001b[1;33m.\u001b[0m\u001b[0mto_csv\u001b[0m\u001b[1;33m(\u001b[0m\u001b[1;34m'honda2.csv'\u001b[0m\u001b[1;33m)\u001b[0m\u001b[1;33m\u001b[0m\u001b[1;33m\u001b[0m\u001b[0m\n",
      "\u001b[1;32m<ipython-input-51-496cb8796c40>\u001b[0m in \u001b[0;36mfeatures_parser\u001b[1;34m(url_list)\u001b[0m\n\u001b[0;32m     54\u001b[0m             \u001b[0mdata_train\u001b[0m\u001b[1;33m.\u001b[0m\u001b[0mat\u001b[0m\u001b[1;33m[\u001b[0m\u001b[0mcounter\u001b[0m\u001b[1;33m,\u001b[0m \u001b[1;34m'vehicleTransmission'\u001b[0m\u001b[1;33m]\u001b[0m \u001b[1;33m=\u001b[0m \u001b[1;32mNone\u001b[0m\u001b[1;33m\u001b[0m\u001b[1;33m\u001b[0m\u001b[0m\n\u001b[0;32m     55\u001b[0m         \u001b[1;32melse\u001b[0m\u001b[1;33m:\u001b[0m\u001b[1;33m\u001b[0m\u001b[1;33m\u001b[0m\u001b[0m\n\u001b[1;32m---> 56\u001b[1;33m             \u001b[0mdata_train\u001b[0m\u001b[1;33m.\u001b[0m\u001b[0mat\u001b[0m\u001b[1;33m[\u001b[0m\u001b[0mcounter\u001b[0m\u001b[1;33m,\u001b[0m \u001b[1;34m'vehicleTransmission'\u001b[0m\u001b[1;33m]\u001b[0m \u001b[1;33m=\u001b[0m \u001b[0mtrans\u001b[0m\u001b[1;33m[\u001b[0m\u001b[1;34m'content'\u001b[0m\u001b[1;33m]\u001b[0m\u001b[1;33m\u001b[0m\u001b[1;33m\u001b[0m\u001b[0m\n\u001b[0m\u001b[0;32m     57\u001b[0m \u001b[1;33m\u001b[0m\u001b[0m\n\u001b[0;32m     58\u001b[0m         \u001b[1;31m# engine displacement\u001b[0m\u001b[1;33m\u001b[0m\u001b[1;33m\u001b[0m\u001b[1;33m\u001b[0m\u001b[0m\n",
      "\u001b[1;32m~\\anaconda3\\lib\\site-packages\\bs4\\element.py\u001b[0m in \u001b[0;36m__getitem__\u001b[1;34m(self, key)\u001b[0m\n\u001b[0;32m   1404\u001b[0m         \"\"\"tag[key] returns the value of the 'key' attribute for the Tag,\n\u001b[0;32m   1405\u001b[0m         and throws an exception if it's not there.\"\"\"\n\u001b[1;32m-> 1406\u001b[1;33m         \u001b[1;32mreturn\u001b[0m \u001b[0mself\u001b[0m\u001b[1;33m.\u001b[0m\u001b[0mattrs\u001b[0m\u001b[1;33m[\u001b[0m\u001b[0mkey\u001b[0m\u001b[1;33m]\u001b[0m\u001b[1;33m\u001b[0m\u001b[1;33m\u001b[0m\u001b[0m\n\u001b[0m\u001b[0;32m   1407\u001b[0m \u001b[1;33m\u001b[0m\u001b[0m\n\u001b[0;32m   1408\u001b[0m     \u001b[1;32mdef\u001b[0m \u001b[0m__iter__\u001b[0m\u001b[1;33m(\u001b[0m\u001b[0mself\u001b[0m\u001b[1;33m)\u001b[0m\u001b[1;33m:\u001b[0m\u001b[1;33m\u001b[0m\u001b[1;33m\u001b[0m\u001b[0m\n",
      "\u001b[1;31mKeyError\u001b[0m: 'content'"
     ]
    }
   ],
   "source": [
    "data_trains4 = features_parser(lst_urls[:2000])\n",
    "data_trains4.to_csv('honda2.csv')"
   ]
  },
  {
   "cell_type": "code",
   "execution_count": null,
   "metadata": {},
   "outputs": [],
   "source": [
    "data_trains4"
   ]
  },
  {
   "cell_type": "code",
   "execution_count": null,
   "metadata": {},
   "outputs": [],
   "source": []
  },
  {
   "cell_type": "code",
   "execution_count": 32,
   "metadata": {},
   "outputs": [],
   "source": [
    "# lst_urls"
   ]
  },
  {
   "cell_type": "code",
   "execution_count": 24,
   "metadata": {},
   "outputs": [],
   "source": [
    "# data_trains1 = features_parser(card_url_list)\n",
    "# data_trains1.to_csv('infiniti.csv')"
   ]
  },
  {
   "cell_type": "code",
   "execution_count": null,
   "metadata": {},
   "outputs": [],
   "source": []
  },
  {
   "cell_type": "code",
   "execution_count": null,
   "metadata": {},
   "outputs": [],
   "source": [
    "# data_trains2 = features_parser(card_url_list)\n",
    "# data_trains2.to_csv('volvo.csv')"
   ]
  },
  {
   "cell_type": "code",
   "execution_count": null,
   "metadata": {},
   "outputs": [],
   "source": []
  },
  {
   "cell_type": "code",
   "execution_count": 30,
   "metadata": {},
   "outputs": [],
   "source": [
    "data_trains2 = features_parser(card_url_list)\n",
    "data_trains2.to_csv('volvo.csv')"
   ]
  },
  {
   "cell_type": "code",
   "execution_count": 34,
   "metadata": {},
   "outputs": [],
   "source": [
    "# data_trains2"
   ]
  },
  {
   "cell_type": "code",
   "execution_count": null,
   "metadata": {},
   "outputs": [],
   "source": []
  },
  {
   "cell_type": "code",
   "execution_count": null,
   "metadata": {},
   "outputs": [],
   "source": []
  },
  {
   "cell_type": "code",
   "execution_count": null,
   "metadata": {},
   "outputs": [],
   "source": [
    "data_trains1 = features_parser(lst_urls[0])\n",
    "data_trains1.to_csv('lexus.csv')"
   ]
  },
  {
   "cell_type": "code",
   "execution_count": 13,
   "metadata": {},
   "outputs": [],
   "source": [
    "data = features_parser(lst_urls)"
   ]
  },
  {
   "cell_type": "code",
   "execution_count": 14,
   "metadata": {},
   "outputs": [],
   "source": [
    "data.to_csv('lexus.csv')"
   ]
  },
  {
   "cell_type": "code",
   "execution_count": 15,
   "metadata": {},
   "outputs": [
    {
     "name": "stdout",
     "output_type": "stream",
     "text": [
      "<class 'pandas.core.frame.DataFrame'>\n",
      "Int64Index: 2928 entries, 0 to 2927\n",
      "Data columns (total 15 columns):\n",
      " #   Column               Non-Null Count  Dtype \n",
      "---  ------               --------------  ----- \n",
      " 0   bodyType             2928 non-null   object\n",
      " 1   color                2928 non-null   object\n",
      " 2   fuelType             2928 non-null   object\n",
      " 3   modelDate            2928 non-null   object\n",
      " 4   numberOfDoors        2928 non-null   object\n",
      " 5   productionDate       2928 non-null   object\n",
      " 6   vehicleTransmission  2928 non-null   object\n",
      " 7   engineDisplacement   2928 non-null   object\n",
      " 8   enginePower          2928 non-null   object\n",
      " 9   mileage              2928 non-null   object\n",
      " 10  Привод               2928 non-null   object\n",
      " 11  Руль                 2928 non-null   object\n",
      " 12  Владельцы            2927 non-null   object\n",
      " 13  ПТС                  2928 non-null   object\n",
      " 14  price                2890 non-null   object\n",
      "dtypes: object(15)\n",
      "memory usage: 446.0+ KB\n"
     ]
    }
   ],
   "source": [
    "data.info()"
   ]
  },
  {
   "cell_type": "code",
   "execution_count": 17,
   "metadata": {},
   "outputs": [],
   "source": [
    "final = pd.read_csv('final1hi.csv')"
   ]
  },
  {
   "cell_type": "code",
   "execution_count": 20,
   "metadata": {},
   "outputs": [
    {
     "data": {
      "text/plain": [
       "BMW           12300\n",
       "NISSAN         2565\n",
       "MERCEDES       2302\n",
       "VOLKSWAGEN     2265\n",
       "AUDI           2045\n",
       "TOYOTA         1968\n",
       "SKODA          1967\n",
       "INFINITI       1668\n",
       "MITSUBISHI     1486\n",
       "VOLVO           669\n",
       "HONDA           447\n",
       "Name: brand, dtype: int64"
      ]
     },
     "execution_count": 20,
     "metadata": {},
     "output_type": "execute_result"
    }
   ],
   "source": [
    "final.brand.value_counts()"
   ]
  },
  {
   "cell_type": "code",
   "execution_count": null,
   "metadata": {},
   "outputs": [],
   "source": []
  }
 ],
 "metadata": {
  "kernelspec": {
   "display_name": "Python 3",
   "language": "python",
   "name": "python3"
  },
  "language_info": {
   "codemirror_mode": {
    "name": "ipython",
    "version": 3
   },
   "file_extension": ".py",
   "mimetype": "text/x-python",
   "name": "python",
   "nbconvert_exporter": "python",
   "pygments_lexer": "ipython3",
   "version": "3.8.5"
  }
 },
 "nbformat": 4,
 "nbformat_minor": 4
}
