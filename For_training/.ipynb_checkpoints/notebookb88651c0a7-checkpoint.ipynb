{
 "cells": [
  {
   "cell_type": "markdown",
   "metadata": {},
   "source": [
    "# Import Python Library and Algorithms"
   ]
  },
  {
   "cell_type": "code",
   "execution_count": 1,
   "metadata": {
    "_cell_guid": "b1076dfc-b9ad-4769-8c92-a6c4dae69d19",
    "_uuid": "8f2839f25d086af736a60e9eeb907d3b93b6e0e5"
   },
   "outputs": [
    {
     "name": "stdout",
     "output_type": "stream",
     "text": [
      "/kaggle/input/train3/finalfinal.csv\n",
      "/kaggle/input/traindataset/all_auto_ru_09_09_2020.csv\n",
      "/kaggle/input/traindataset/all_auto_ru_14_11_2020.csv\n",
      "/kaggle/input/test-data/sample_submission.csv\n",
      "/kaggle/input/test-data/test.csv\n"
     ]
    }
   ],
   "source": [
    "# This Python 3 environment comes with many helpful analytics libraries installed\n",
    "# It is defined by the kaggle/python Docker image: https://github.com/kaggle/docker-python\n",
    "# For example, here's several helpful packages to load\n",
    "\n",
    "import numpy as np # linear algebra\n",
    "import pandas as pd # data processing, CSV file I/O (e.g. pd.read_csv)\n",
    "\n",
    "# Input data files are available in the read-only \"../input/\" directory\n",
    "# For example, running this (by clicking run or pressing Shift+Enter) will list all files under the input directory\n",
    "\n",
    "import os\n",
    "for dirname, _, filenames in os.walk('/kaggle/input'):\n",
    "    for filename in filenames:\n",
    "        print(os.path.join(dirname, filename))\n",
    "\n",
    "# You can write up to 20GB to the current directory (/kaggle/working/) that gets preserved as output when you create a version using \"Save & Run All\" \n",
    "# You can also write temporary files to /kaggle/temp/, but they won't be saved outside of the current session"
   ]
  },
  {
   "cell_type": "code",
   "execution_count": 2,
   "metadata": {},
   "outputs": [],
   "source": [
    "import numpy as np # linear algebra\n",
    "import pandas as pd # data processing, CSV file I/O (e.g. pd.read_csv)\n",
    "import sys\n",
    "import seaborn as sns\n",
    "%matplotlib inline\n",
    "import matplotlib.pyplot as plt\n",
    "\n",
    "import string\n",
    "from nltk.util import ngrams\n",
    "from collections import Counter\n",
    "from sklearn.preprocessing import PolynomialFeatures\n",
    "\n",
    "\n",
    "from sklearn.model_selection import train_test_split\n",
    "from sklearn.model_selection import KFold\n",
    "from tqdm.notebook import tqdm\n",
    "from catboost import CatBoostRegressor\n",
    "from sklearn.preprocessing import LabelEncoder\n",
    "from sklearn.ensemble import GradientBoostingRegressor, ExtraTreesRegressor, RandomForestRegressor\n",
    "from sklearn.linear_model import LogisticRegression\n"
   ]
  },
  {
   "cell_type": "code",
   "execution_count": 3,
   "metadata": {},
   "outputs": [],
   "source": [
    "import re"
   ]
  },
  {
   "cell_type": "code",
   "execution_count": 4,
   "metadata": {},
   "outputs": [],
   "source": [
    "RANDOM_SEED = 42 \n",
    "VAL_SIZE   = 0.2 # train = 0.8"
   ]
  },
  {
   "cell_type": "markdown",
   "metadata": {},
   "source": [
    "# Import Data"
   ]
  },
  {
   "cell_type": "code",
   "execution_count": 5,
   "metadata": {},
   "outputs": [],
   "source": [
    "train1 = pd.read_csv('../input/traindataset/all_auto_ru_09_09_2020.csv', low_memory=False) \n",
    "train2 = pd.read_csv('../input/traindataset/all_auto_ru_14_11_2020.csv', low_memory=False)\n",
    "train3 = pd.read_csv('../input/train3/finalfinal.csv') #new parse data from auto.ru\n"
   ]
  },
  {
   "cell_type": "code",
   "execution_count": 6,
   "metadata": {},
   "outputs": [],
   "source": [
    "test = pd.read_csv('../input/test-data/test.csv')\n",
    "sample_submission = pd.read_csv('../input/test-data/sample_submission.csv')"
   ]
  },
  {
   "cell_type": "markdown",
   "metadata": {},
   "source": [
    "# Data Preprocessing"
   ]
  },
  {
   "cell_type": "code",
   "execution_count": 7,
   "metadata": {},
   "outputs": [
    {
     "name": "stdout",
     "output_type": "stream",
     "text": [
      "<class 'pandas.core.frame.DataFrame'>\n",
      "RangeIndex: 89378 entries, 0 to 89377\n",
      "Data columns (total 26 columns):\n",
      " #   Column                Non-Null Count  Dtype  \n",
      "---  ------                --------------  -----  \n",
      " 0   bodyType              89377 non-null  object \n",
      " 1   brand                 89378 non-null  object \n",
      " 2   color                 89378 non-null  object \n",
      " 3   fuelType              89378 non-null  object \n",
      " 4   modelDate             89377 non-null  float64\n",
      " 5   name                  89377 non-null  object \n",
      " 6   numberOfDoors         89377 non-null  float64\n",
      " 7   productionDate        89378 non-null  int64  \n",
      " 8   vehicleConfiguration  89377 non-null  object \n",
      " 9   vehicleTransmission   89377 non-null  object \n",
      " 10  engineDisplacement    89377 non-null  object \n",
      " 11  enginePower           89377 non-null  float64\n",
      " 12  description           86124 non-null  object \n",
      " 13  mileage               89378 non-null  int64  \n",
      " 14  Комплектация          89378 non-null  object \n",
      " 15  Привод                89377 non-null  object \n",
      " 16  Руль                  89378 non-null  object \n",
      " 17  Состояние             0 non-null      float64\n",
      " 18  Владельцы             75790 non-null  float64\n",
      " 19  ПТС                   89017 non-null  object \n",
      " 20  Таможня               89378 non-null  bool   \n",
      " 21  Владение              29201 non-null  object \n",
      " 22  price                 88968 non-null  float64\n",
      " 23  start_date            89378 non-null  object \n",
      " 24  hidden                0 non-null      float64\n",
      " 25  model                 89378 non-null  object \n",
      "dtypes: bool(1), float64(7), int64(2), object(16)\n",
      "memory usage: 17.1+ MB\n",
      "<class 'pandas.core.frame.DataFrame'>\n",
      "RangeIndex: 77449 entries, 0 to 77448\n",
      "Data columns (total 34 columns):\n",
      " #   Column                Non-Null Count  Dtype  \n",
      "---  ------                --------------  -----  \n",
      " 0   bodyType              77447 non-null  object \n",
      " 1   brand                 77449 non-null  object \n",
      " 2   color                 77449 non-null  object \n",
      " 3   complectation_dict    77449 non-null  object \n",
      " 4   description           74782 non-null  object \n",
      " 5   engineDisplacement    77449 non-null  object \n",
      " 6   enginePower           77447 non-null  float64\n",
      " 7   equipment_dict        77449 non-null  object \n",
      " 8   fuelType              77449 non-null  object \n",
      " 9   image                 77449 non-null  int64  \n",
      " 10  mileage               77449 non-null  int64  \n",
      " 11  modelDate             77447 non-null  float64\n",
      " 12  model_info            77449 non-null  object \n",
      " 13  model_name            77449 non-null  object \n",
      " 14  name                  77447 non-null  object \n",
      " 15  numberOfDoors         77447 non-null  float64\n",
      " 16  start_date            77449 non-null  object \n",
      " 17  priceCurrency         77152 non-null  object \n",
      " 18  productionDate        77449 non-null  int64  \n",
      " 19  sell_id               77449 non-null  int64  \n",
      " 20  super_gen             77447 non-null  object \n",
      " 21  vehicleConfiguration  77447 non-null  object \n",
      " 22  vehicleTransmission   77447 non-null  object \n",
      " 23  vendor                77449 non-null  object \n",
      " 24  Владельцы             61521 non-null  float64\n",
      " 25  Владение              20314 non-null  object \n",
      " 26  ПТС                   76998 non-null  object \n",
      " 27  Привод                77447 non-null  object \n",
      " 28  Руль                  77449 non-null  object \n",
      " 29  Состояние             77449 non-null  bool   \n",
      " 30  Таможня               77449 non-null  bool   \n",
      " 31  price                 77152 non-null  float64\n",
      " 32  price_EUR             77152 non-null  float64\n",
      " 33  price_USD             77152 non-null  float64\n",
      "dtypes: bool(2), float64(7), int64(4), object(21)\n",
      "memory usage: 19.1+ MB\n",
      "<class 'pandas.core.frame.DataFrame'>\n",
      "RangeIndex: 35271 entries, 0 to 35270\n",
      "Data columns (total 18 columns):\n",
      " #   Column               Non-Null Count  Dtype  \n",
      "---  ------               --------------  -----  \n",
      " 0   Unnamed: 0           35271 non-null  int64  \n",
      " 1   bodyType             35270 non-null  object \n",
      " 2   color                35270 non-null  object \n",
      " 3   fuelType             35270 non-null  object \n",
      " 4   modelDate            35270 non-null  float64\n",
      " 5   numberOfDoors        35270 non-null  float64\n",
      " 6   productionDate       35270 non-null  float64\n",
      " 7   vehicleTransmission  35270 non-null  object \n",
      " 8   engineDisplacement   35270 non-null  object \n",
      " 9   enginePower          35270 non-null  object \n",
      " 10  mileage              35267 non-null  float64\n",
      " 11  Привод               35267 non-null  object \n",
      " 12  Руль                 35267 non-null  object \n",
      " 13  Владельцы            35264 non-null  object \n",
      " 14  ПТС                  35266 non-null  object \n",
      " 15  price                34959 non-null  float64\n",
      " 16  model_name           35268 non-null  object \n",
      " 17  brand                35271 non-null  object \n",
      "dtypes: float64(5), int64(1), object(12)\n",
      "memory usage: 4.8+ MB\n"
     ]
    },
    {
     "data": {
      "text/plain": [
       "(None, None, None)"
      ]
     },
     "execution_count": 7,
     "metadata": {},
     "output_type": "execute_result"
    }
   ],
   "source": [
    "train1.info(), train2.info(), train3.info()"
   ]
  },
  {
   "cell_type": "code",
   "execution_count": 8,
   "metadata": {},
   "outputs": [],
   "source": [
    "columns_drop = ['Unnamed: 0']\n",
    "train3 = train3.drop(columns_drop, axis=1)"
   ]
  },
  {
   "cell_type": "markdown",
   "metadata": {},
   "source": [
    "**Concatenation Train data**"
   ]
  },
  {
   "cell_type": "code",
   "execution_count": 9,
   "metadata": {},
   "outputs": [],
   "source": [
    "train = pd.concat([train1, train2,train3])"
   ]
  },
  {
   "cell_type": "code",
   "execution_count": 10,
   "metadata": {},
   "outputs": [
    {
     "data": {
      "text/html": [
       "<div>\n",
       "<style scoped>\n",
       "    .dataframe tbody tr th:only-of-type {\n",
       "        vertical-align: middle;\n",
       "    }\n",
       "\n",
       "    .dataframe tbody tr th {\n",
       "        vertical-align: top;\n",
       "    }\n",
       "\n",
       "    .dataframe thead th {\n",
       "        text-align: right;\n",
       "    }\n",
       "</style>\n",
       "<table border=\"1\" class=\"dataframe\">\n",
       "  <thead>\n",
       "    <tr style=\"text-align: right;\">\n",
       "      <th></th>\n",
       "      <th>bodyType</th>\n",
       "      <th>brand</th>\n",
       "      <th>color</th>\n",
       "      <th>fuelType</th>\n",
       "      <th>modelDate</th>\n",
       "      <th>name</th>\n",
       "      <th>numberOfDoors</th>\n",
       "      <th>productionDate</th>\n",
       "      <th>vehicleConfiguration</th>\n",
       "      <th>vehicleTransmission</th>\n",
       "      <th>...</th>\n",
       "      <th>equipment_dict</th>\n",
       "      <th>image</th>\n",
       "      <th>model_info</th>\n",
       "      <th>model_name</th>\n",
       "      <th>priceCurrency</th>\n",
       "      <th>sell_id</th>\n",
       "      <th>super_gen</th>\n",
       "      <th>vendor</th>\n",
       "      <th>price_EUR</th>\n",
       "      <th>price_USD</th>\n",
       "    </tr>\n",
       "  </thead>\n",
       "  <tbody>\n",
       "    <tr>\n",
       "      <th>0</th>\n",
       "      <td>Седан</td>\n",
       "      <td>AUDI</td>\n",
       "      <td>040001</td>\n",
       "      <td>бензин</td>\n",
       "      <td>1990.0</td>\n",
       "      <td>2.8 MT (174 л.с.) 4WD</td>\n",
       "      <td>4.0</td>\n",
       "      <td>1991.0</td>\n",
       "      <td>SEDAN MECHANICAL 2.8</td>\n",
       "      <td>MECHANICAL</td>\n",
       "      <td>...</td>\n",
       "      <td>NaN</td>\n",
       "      <td>NaN</td>\n",
       "      <td>NaN</td>\n",
       "      <td>NaN</td>\n",
       "      <td>NaN</td>\n",
       "      <td>NaN</td>\n",
       "      <td>NaN</td>\n",
       "      <td>NaN</td>\n",
       "      <td>NaN</td>\n",
       "      <td>NaN</td>\n",
       "    </tr>\n",
       "    <tr>\n",
       "      <th>1</th>\n",
       "      <td>Седан</td>\n",
       "      <td>AUDI</td>\n",
       "      <td>EE1D19</td>\n",
       "      <td>бензин</td>\n",
       "      <td>1982.0</td>\n",
       "      <td>1.8 MT (90 л.с.)</td>\n",
       "      <td>4.0</td>\n",
       "      <td>1986.0</td>\n",
       "      <td>SEDAN MECHANICAL 1.8</td>\n",
       "      <td>MECHANICAL</td>\n",
       "      <td>...</td>\n",
       "      <td>NaN</td>\n",
       "      <td>NaN</td>\n",
       "      <td>NaN</td>\n",
       "      <td>NaN</td>\n",
       "      <td>NaN</td>\n",
       "      <td>NaN</td>\n",
       "      <td>NaN</td>\n",
       "      <td>NaN</td>\n",
       "      <td>NaN</td>\n",
       "      <td>NaN</td>\n",
       "    </tr>\n",
       "    <tr>\n",
       "      <th>2</th>\n",
       "      <td>Универсал 5 дв.</td>\n",
       "      <td>AUDI</td>\n",
       "      <td>0000CC</td>\n",
       "      <td>бензин</td>\n",
       "      <td>1988.0</td>\n",
       "      <td>2.3 MT (136 л.с.) 4WD</td>\n",
       "      <td>5.0</td>\n",
       "      <td>1989.0</td>\n",
       "      <td>WAGON_5_DOORS MECHANICAL 2.3</td>\n",
       "      <td>MECHANICAL</td>\n",
       "      <td>...</td>\n",
       "      <td>NaN</td>\n",
       "      <td>NaN</td>\n",
       "      <td>NaN</td>\n",
       "      <td>NaN</td>\n",
       "      <td>NaN</td>\n",
       "      <td>NaN</td>\n",
       "      <td>NaN</td>\n",
       "      <td>NaN</td>\n",
       "      <td>NaN</td>\n",
       "      <td>NaN</td>\n",
       "    </tr>\n",
       "    <tr>\n",
       "      <th>3</th>\n",
       "      <td>Седан</td>\n",
       "      <td>AUDI</td>\n",
       "      <td>CACECB</td>\n",
       "      <td>бензин</td>\n",
       "      <td>1988.0</td>\n",
       "      <td>1.8 MT (90 л.с.)</td>\n",
       "      <td>4.0</td>\n",
       "      <td>1989.0</td>\n",
       "      <td>SEDAN MECHANICAL 1.8</td>\n",
       "      <td>MECHANICAL</td>\n",
       "      <td>...</td>\n",
       "      <td>NaN</td>\n",
       "      <td>NaN</td>\n",
       "      <td>NaN</td>\n",
       "      <td>NaN</td>\n",
       "      <td>NaN</td>\n",
       "      <td>NaN</td>\n",
       "      <td>NaN</td>\n",
       "      <td>NaN</td>\n",
       "      <td>NaN</td>\n",
       "      <td>NaN</td>\n",
       "    </tr>\n",
       "    <tr>\n",
       "      <th>4</th>\n",
       "      <td>Седан</td>\n",
       "      <td>AUDI</td>\n",
       "      <td>040001</td>\n",
       "      <td>бензин</td>\n",
       "      <td>1990.0</td>\n",
       "      <td>2.0 MT (101 л.с.)</td>\n",
       "      <td>4.0</td>\n",
       "      <td>1991.0</td>\n",
       "      <td>SEDAN MECHANICAL 2.0</td>\n",
       "      <td>MECHANICAL</td>\n",
       "      <td>...</td>\n",
       "      <td>NaN</td>\n",
       "      <td>NaN</td>\n",
       "      <td>NaN</td>\n",
       "      <td>NaN</td>\n",
       "      <td>NaN</td>\n",
       "      <td>NaN</td>\n",
       "      <td>NaN</td>\n",
       "      <td>NaN</td>\n",
       "      <td>NaN</td>\n",
       "      <td>NaN</td>\n",
       "    </tr>\n",
       "    <tr>\n",
       "      <th>...</th>\n",
       "      <td>...</td>\n",
       "      <td>...</td>\n",
       "      <td>...</td>\n",
       "      <td>...</td>\n",
       "      <td>...</td>\n",
       "      <td>...</td>\n",
       "      <td>...</td>\n",
       "      <td>...</td>\n",
       "      <td>...</td>\n",
       "      <td>...</td>\n",
       "      <td>...</td>\n",
       "      <td>...</td>\n",
       "      <td>...</td>\n",
       "      <td>...</td>\n",
       "      <td>...</td>\n",
       "      <td>...</td>\n",
       "      <td>...</td>\n",
       "      <td>...</td>\n",
       "      <td>...</td>\n",
       "      <td>...</td>\n",
       "      <td>...</td>\n",
       "    </tr>\n",
       "    <tr>\n",
       "      <th>35266</th>\n",
       "      <td>седан</td>\n",
       "      <td>VOLVO</td>\n",
       "      <td>синий</td>\n",
       "      <td>бензин</td>\n",
       "      <td>2000.0</td>\n",
       "      <td>NaN</td>\n",
       "      <td>4.0</td>\n",
       "      <td>2003.0</td>\n",
       "      <td>NaN</td>\n",
       "      <td>автоматическая</td>\n",
       "      <td>...</td>\n",
       "      <td>NaN</td>\n",
       "      <td>NaN</td>\n",
       "      <td>NaN</td>\n",
       "      <td>S60</td>\n",
       "      <td>NaN</td>\n",
       "      <td>NaN</td>\n",
       "      <td>NaN</td>\n",
       "      <td>NaN</td>\n",
       "      <td>NaN</td>\n",
       "      <td>NaN</td>\n",
       "    </tr>\n",
       "    <tr>\n",
       "      <th>35267</th>\n",
       "      <td>универсал 5 дв.</td>\n",
       "      <td>VOLVO</td>\n",
       "      <td>чёрный</td>\n",
       "      <td>бензин</td>\n",
       "      <td>1995.0</td>\n",
       "      <td>NaN</td>\n",
       "      <td>5.0</td>\n",
       "      <td>1998.0</td>\n",
       "      <td>NaN</td>\n",
       "      <td>механическая</td>\n",
       "      <td>...</td>\n",
       "      <td>NaN</td>\n",
       "      <td>NaN</td>\n",
       "      <td>NaN</td>\n",
       "      <td>V40</td>\n",
       "      <td>NaN</td>\n",
       "      <td>NaN</td>\n",
       "      <td>NaN</td>\n",
       "      <td>NaN</td>\n",
       "      <td>NaN</td>\n",
       "      <td>NaN</td>\n",
       "    </tr>\n",
       "    <tr>\n",
       "      <th>35268</th>\n",
       "      <td>седан</td>\n",
       "      <td>VOLVO</td>\n",
       "      <td>серебристый</td>\n",
       "      <td>бензин</td>\n",
       "      <td>1983.0</td>\n",
       "      <td>NaN</td>\n",
       "      <td>4.0</td>\n",
       "      <td>1985.0</td>\n",
       "      <td>NaN</td>\n",
       "      <td>механическая</td>\n",
       "      <td>...</td>\n",
       "      <td>NaN</td>\n",
       "      <td>NaN</td>\n",
       "      <td>NaN</td>\n",
       "      <td>740</td>\n",
       "      <td>NaN</td>\n",
       "      <td>NaN</td>\n",
       "      <td>NaN</td>\n",
       "      <td>NaN</td>\n",
       "      <td>NaN</td>\n",
       "      <td>NaN</td>\n",
       "    </tr>\n",
       "    <tr>\n",
       "      <th>35269</th>\n",
       "      <td>седан</td>\n",
       "      <td>VOLVO</td>\n",
       "      <td>чёрный</td>\n",
       "      <td>бензин</td>\n",
       "      <td>1999.0</td>\n",
       "      <td>NaN</td>\n",
       "      <td>4.0</td>\n",
       "      <td>2001.0</td>\n",
       "      <td>NaN</td>\n",
       "      <td>механическая</td>\n",
       "      <td>...</td>\n",
       "      <td>NaN</td>\n",
       "      <td>NaN</td>\n",
       "      <td>NaN</td>\n",
       "      <td>S40</td>\n",
       "      <td>NaN</td>\n",
       "      <td>NaN</td>\n",
       "      <td>NaN</td>\n",
       "      <td>NaN</td>\n",
       "      <td>NaN</td>\n",
       "      <td>NaN</td>\n",
       "    </tr>\n",
       "    <tr>\n",
       "      <th>35270</th>\n",
       "      <td>седан</td>\n",
       "      <td>VOLVO</td>\n",
       "      <td>оранжевый</td>\n",
       "      <td>бензин</td>\n",
       "      <td>2010.0</td>\n",
       "      <td>NaN</td>\n",
       "      <td>4.0</td>\n",
       "      <td>2011.0</td>\n",
       "      <td>NaN</td>\n",
       "      <td>автоматическая</td>\n",
       "      <td>...</td>\n",
       "      <td>NaN</td>\n",
       "      <td>NaN</td>\n",
       "      <td>NaN</td>\n",
       "      <td>S60</td>\n",
       "      <td>NaN</td>\n",
       "      <td>NaN</td>\n",
       "      <td>NaN</td>\n",
       "      <td>NaN</td>\n",
       "      <td>NaN</td>\n",
       "      <td>NaN</td>\n",
       "    </tr>\n",
       "  </tbody>\n",
       "</table>\n",
       "<p>202098 rows × 37 columns</p>\n",
       "</div>"
      ],
      "text/plain": [
       "              bodyType  brand        color fuelType  modelDate  \\\n",
       "0                Седан   AUDI       040001   бензин     1990.0   \n",
       "1                Седан   AUDI       EE1D19   бензин     1982.0   \n",
       "2      Универсал 5 дв.   AUDI       0000CC   бензин     1988.0   \n",
       "3                Седан   AUDI       CACECB   бензин     1988.0   \n",
       "4                Седан   AUDI       040001   бензин     1990.0   \n",
       "...                ...    ...          ...      ...        ...   \n",
       "35266            седан  VOLVO        синий   бензин     2000.0   \n",
       "35267  универсал 5 дв.  VOLVO       чёрный   бензин     1995.0   \n",
       "35268            седан  VOLVO  серебристый   бензин     1983.0   \n",
       "35269            седан  VOLVO       чёрный   бензин     1999.0   \n",
       "35270            седан  VOLVO    оранжевый   бензин     2010.0   \n",
       "\n",
       "                        name  numberOfDoors  productionDate  \\\n",
       "0      2.8 MT (174 л.с.) 4WD            4.0          1991.0   \n",
       "1           1.8 MT (90 л.с.)            4.0          1986.0   \n",
       "2      2.3 MT (136 л.с.) 4WD            5.0          1989.0   \n",
       "3           1.8 MT (90 л.с.)            4.0          1989.0   \n",
       "4          2.0 MT (101 л.с.)            4.0          1991.0   \n",
       "...                      ...            ...             ...   \n",
       "35266                    NaN            4.0          2003.0   \n",
       "35267                    NaN            5.0          1998.0   \n",
       "35268                    NaN            4.0          1985.0   \n",
       "35269                    NaN            4.0          2001.0   \n",
       "35270                    NaN            4.0          2011.0   \n",
       "\n",
       "               vehicleConfiguration vehicleTransmission  ... equipment_dict  \\\n",
       "0              SEDAN MECHANICAL 2.8          MECHANICAL  ...            NaN   \n",
       "1              SEDAN MECHANICAL 1.8          MECHANICAL  ...            NaN   \n",
       "2      WAGON_5_DOORS MECHANICAL 2.3          MECHANICAL  ...            NaN   \n",
       "3              SEDAN MECHANICAL 1.8          MECHANICAL  ...            NaN   \n",
       "4              SEDAN MECHANICAL 2.0          MECHANICAL  ...            NaN   \n",
       "...                             ...                 ...  ...            ...   \n",
       "35266                           NaN      автоматическая  ...            NaN   \n",
       "35267                           NaN        механическая  ...            NaN   \n",
       "35268                           NaN        механическая  ...            NaN   \n",
       "35269                           NaN        механическая  ...            NaN   \n",
       "35270                           NaN      автоматическая  ...            NaN   \n",
       "\n",
       "      image model_info  model_name priceCurrency sell_id super_gen vendor  \\\n",
       "0       NaN        NaN         NaN           NaN     NaN       NaN    NaN   \n",
       "1       NaN        NaN         NaN           NaN     NaN       NaN    NaN   \n",
       "2       NaN        NaN         NaN           NaN     NaN       NaN    NaN   \n",
       "3       NaN        NaN         NaN           NaN     NaN       NaN    NaN   \n",
       "4       NaN        NaN         NaN           NaN     NaN       NaN    NaN   \n",
       "...     ...        ...         ...           ...     ...       ...    ...   \n",
       "35266   NaN        NaN         S60           NaN     NaN       NaN    NaN   \n",
       "35267   NaN        NaN         V40           NaN     NaN       NaN    NaN   \n",
       "35268   NaN        NaN         740           NaN     NaN       NaN    NaN   \n",
       "35269   NaN        NaN         S40           NaN     NaN       NaN    NaN   \n",
       "35270   NaN        NaN         S60           NaN     NaN       NaN    NaN   \n",
       "\n",
       "      price_EUR price_USD  \n",
       "0           NaN       NaN  \n",
       "1           NaN       NaN  \n",
       "2           NaN       NaN  \n",
       "3           NaN       NaN  \n",
       "4           NaN       NaN  \n",
       "...         ...       ...  \n",
       "35266       NaN       NaN  \n",
       "35267       NaN       NaN  \n",
       "35268       NaN       NaN  \n",
       "35269       NaN       NaN  \n",
       "35270       NaN       NaN  \n",
       "\n",
       "[202098 rows x 37 columns]"
      ]
     },
     "execution_count": 10,
     "metadata": {},
     "output_type": "execute_result"
    }
   ],
   "source": [
    "train"
   ]
  },
  {
   "cell_type": "markdown",
   "metadata": {},
   "source": [
    "**Drop duplicates and cleaning train dataset**"
   ]
  },
  {
   "cell_type": "code",
   "execution_count": 11,
   "metadata": {},
   "outputs": [],
   "source": [
    "train = train.drop_duplicates()"
   ]
  },
  {
   "cell_type": "code",
   "execution_count": 12,
   "metadata": {},
   "outputs": [
    {
     "name": "stdout",
     "output_type": "stream",
     "text": [
      "<class 'pandas.core.frame.DataFrame'>\n",
      "Int64Index: 197686 entries, 0 to 35270\n",
      "Data columns (total 37 columns):\n",
      " #   Column                Non-Null Count   Dtype  \n",
      "---  ------                --------------   -----  \n",
      " 0   bodyType              197682 non-null  object \n",
      " 1   brand                 197686 non-null  object \n",
      " 2   color                 197685 non-null  object \n",
      " 3   fuelType              197685 non-null  object \n",
      " 4   modelDate             197682 non-null  float64\n",
      " 5   name                  163204 non-null  object \n",
      " 6   numberOfDoors         197682 non-null  float64\n",
      " 7   productionDate        197685 non-null  float64\n",
      " 8   vehicleConfiguration  163204 non-null  object \n",
      " 9   vehicleTransmission   197682 non-null  object \n",
      " 10  engineDisplacement    197684 non-null  object \n",
      " 11  enginePower           197682 non-null  object \n",
      " 12  description           157351 non-null  object \n",
      " 13  mileage               197682 non-null  float64\n",
      " 14  Комплектация          87264 non-null   object \n",
      " 15  Привод                197679 non-null  object \n",
      " 16  Руль                  197682 non-null  object \n",
      " 17  Состояние             75943 non-null   object \n",
      " 18  Владельцы             169970 non-null  object \n",
      " 19  ПТС                   196874 non-null  object \n",
      " 20  Таможня               163207 non-null  object \n",
      " 21  Владение              48874 non-null   object \n",
      " 22  price                 196668 non-null  float64\n",
      " 23  start_date            163207 non-null  object \n",
      " 24  hidden                0 non-null       float64\n",
      " 25  model                 87264 non-null   object \n",
      " 26  complectation_dict    75943 non-null   object \n",
      " 27  equipment_dict        75943 non-null   object \n",
      " 28  image                 75943 non-null   float64\n",
      " 29  model_info            75943 non-null   object \n",
      " 30  model_name            110419 non-null  object \n",
      " 31  priceCurrency         75647 non-null   object \n",
      " 32  sell_id               75943 non-null   float64\n",
      " 33  super_gen             75941 non-null   object \n",
      " 34  vendor                75943 non-null   object \n",
      " 35  price_EUR             75647 non-null   float64\n",
      " 36  price_USD             75647 non-null   float64\n",
      "dtypes: float64(10), object(27)\n",
      "memory usage: 57.3+ MB\n"
     ]
    }
   ],
   "source": [
    "train.info()"
   ]
  },
  {
   "cell_type": "code",
   "execution_count": 13,
   "metadata": {},
   "outputs": [
    {
     "data": {
      "text/plain": [
       "bodyType                     4\n",
       "brand                        0\n",
       "color                        1\n",
       "fuelType                     1\n",
       "modelDate                    4\n",
       "name                     34482\n",
       "numberOfDoors                4\n",
       "productionDate               1\n",
       "vehicleConfiguration     34482\n",
       "vehicleTransmission          4\n",
       "engineDisplacement           2\n",
       "enginePower                  4\n",
       "description              40335\n",
       "mileage                      4\n",
       "Комплектация            110422\n",
       "Привод                       7\n",
       "Руль                         4\n",
       "Состояние               121743\n",
       "Владельцы                27716\n",
       "ПТС                        812\n",
       "Таможня                  34479\n",
       "Владение                148812\n",
       "price                     1018\n",
       "start_date               34479\n",
       "hidden                  197686\n",
       "model                   110422\n",
       "complectation_dict      121743\n",
       "equipment_dict          121743\n",
       "image                   121743\n",
       "model_info              121743\n",
       "model_name               87267\n",
       "priceCurrency           122039\n",
       "sell_id                 121743\n",
       "super_gen               121745\n",
       "vendor                  121743\n",
       "price_EUR               122039\n",
       "price_USD               122039\n",
       "dtype: int64"
      ]
     },
     "execution_count": 13,
     "metadata": {},
     "output_type": "execute_result"
    }
   ],
   "source": [
    "train.isna().sum()"
   ]
  },
  {
   "cell_type": "markdown",
   "metadata": {},
   "source": [
    "**У признака Price есть пропущенные значения. Сразу удаляем их и почистим строки**"
   ]
  },
  {
   "cell_type": "code",
   "execution_count": 14,
   "metadata": {},
   "outputs": [
    {
     "name": "stderr",
     "output_type": "stream",
     "text": [
      "/opt/conda/lib/python3.7/site-packages/ipykernel_launcher.py:1: SettingWithCopyWarning: \n",
      "A value is trying to be set on a copy of a slice from a DataFrame\n",
      "\n",
      "See the caveats in the documentation: https://pandas.pydata.org/pandas-docs/stable/user_guide/indexing.html#returning-a-view-versus-a-copy\n",
      "  \"\"\"Entry point for launching an IPython kernel.\n"
     ]
    }
   ],
   "source": [
    "train.dropna(subset=['price', 'Привод', 'Руль'], inplace=True)"
   ]
  },
  {
   "cell_type": "code",
   "execution_count": 15,
   "metadata": {},
   "outputs": [
    {
     "data": {
      "text/html": [
       "<div>\n",
       "<style scoped>\n",
       "    .dataframe tbody tr th:only-of-type {\n",
       "        vertical-align: middle;\n",
       "    }\n",
       "\n",
       "    .dataframe tbody tr th {\n",
       "        vertical-align: top;\n",
       "    }\n",
       "\n",
       "    .dataframe thead th {\n",
       "        text-align: right;\n",
       "    }\n",
       "</style>\n",
       "<table border=\"1\" class=\"dataframe\">\n",
       "  <thead>\n",
       "    <tr style=\"text-align: right;\">\n",
       "      <th></th>\n",
       "      <th>0</th>\n",
       "      <th>1</th>\n",
       "      <th>2</th>\n",
       "    </tr>\n",
       "  </thead>\n",
       "  <tbody>\n",
       "    <tr>\n",
       "      <th>bodyType</th>\n",
       "      <td>лифтбек</td>\n",
       "      <td>лифтбек</td>\n",
       "      <td>лифтбек</td>\n",
       "    </tr>\n",
       "    <tr>\n",
       "      <th>brand</th>\n",
       "      <td>SKODA</td>\n",
       "      <td>SKODA</td>\n",
       "      <td>SKODA</td>\n",
       "    </tr>\n",
       "    <tr>\n",
       "      <th>car_url</th>\n",
       "      <td>https://auto.ru/cars/used/sale/skoda/octavia/1...</td>\n",
       "      <td>https://auto.ru/cars/used/sale/skoda/octavia/1...</td>\n",
       "      <td>https://auto.ru/cars/used/sale/skoda/superb/11...</td>\n",
       "    </tr>\n",
       "    <tr>\n",
       "      <th>color</th>\n",
       "      <td>синий</td>\n",
       "      <td>чёрный</td>\n",
       "      <td>серый</td>\n",
       "    </tr>\n",
       "    <tr>\n",
       "      <th>complectation_dict</th>\n",
       "      <td>NaN</td>\n",
       "      <td>NaN</td>\n",
       "      <td>{\"id\":\"20026336\",\"name\":\"Ambition\",\"available_...</td>\n",
       "    </tr>\n",
       "    <tr>\n",
       "      <th>description</th>\n",
       "      <td>Все автомобили, представленные в продаже, прох...</td>\n",
       "      <td>ЛОТ: 01217195\\nАвтопрага Север\\nДанный автомоб...</td>\n",
       "      <td>Все автомобили, представленные в продаже, прох...</td>\n",
       "    </tr>\n",
       "    <tr>\n",
       "      <th>engineDisplacement</th>\n",
       "      <td>1.2 LTR</td>\n",
       "      <td>1.6 LTR</td>\n",
       "      <td>1.8 LTR</td>\n",
       "    </tr>\n",
       "    <tr>\n",
       "      <th>enginePower</th>\n",
       "      <td>105 N12</td>\n",
       "      <td>110 N12</td>\n",
       "      <td>152 N12</td>\n",
       "    </tr>\n",
       "    <tr>\n",
       "      <th>equipment_dict</th>\n",
       "      <td>{\"engine-proof\":true,\"tinted-glass\":true,\"airb...</td>\n",
       "      <td>{\"cruise-control\":true,\"asr\":true,\"esp\":true,\"...</td>\n",
       "      <td>{\"cruise-control\":true,\"tinted-glass\":true,\"es...</td>\n",
       "    </tr>\n",
       "    <tr>\n",
       "      <th>fuelType</th>\n",
       "      <td>бензин</td>\n",
       "      <td>бензин</td>\n",
       "      <td>бензин</td>\n",
       "    </tr>\n",
       "    <tr>\n",
       "      <th>image</th>\n",
       "      <td>https://autoru.naydex.net/o9DBXQ270/5ac010hAY0...</td>\n",
       "      <td>https://autoru.naydex.net/o9DBXQ270/5ac010hAY0...</td>\n",
       "      <td>https://avatars.mds.yandex.net/get-autoru-vos/...</td>\n",
       "    </tr>\n",
       "    <tr>\n",
       "      <th>mileage</th>\n",
       "      <td>74000</td>\n",
       "      <td>60563</td>\n",
       "      <td>88000</td>\n",
       "    </tr>\n",
       "    <tr>\n",
       "      <th>modelDate</th>\n",
       "      <td>2013</td>\n",
       "      <td>2017</td>\n",
       "      <td>2013</td>\n",
       "    </tr>\n",
       "    <tr>\n",
       "      <th>model_info</th>\n",
       "      <td>{\"code\":\"OCTAVIA\",\"name\":\"Octavia\",\"ru_name\":\"...</td>\n",
       "      <td>{\"code\":\"OCTAVIA\",\"name\":\"Octavia\",\"ru_name\":\"...</td>\n",
       "      <td>{\"code\":\"SUPERB\",\"name\":\"Superb\",\"ru_name\":\"Су...</td>\n",
       "    </tr>\n",
       "    <tr>\n",
       "      <th>model_name</th>\n",
       "      <td>OCTAVIA</td>\n",
       "      <td>OCTAVIA</td>\n",
       "      <td>SUPERB</td>\n",
       "    </tr>\n",
       "    <tr>\n",
       "      <th>name</th>\n",
       "      <td>1.2 AMT (105 л.с.)</td>\n",
       "      <td>1.6 MT (110 л.с.)</td>\n",
       "      <td>DSG 1.8 AMT (152 л.с.)</td>\n",
       "    </tr>\n",
       "    <tr>\n",
       "      <th>numberOfDoors</th>\n",
       "      <td>5</td>\n",
       "      <td>5</td>\n",
       "      <td>5</td>\n",
       "    </tr>\n",
       "    <tr>\n",
       "      <th>parsing_unixtime</th>\n",
       "      <td>1603226273</td>\n",
       "      <td>1603226277</td>\n",
       "      <td>1603226280</td>\n",
       "    </tr>\n",
       "    <tr>\n",
       "      <th>priceCurrency</th>\n",
       "      <td>RUB</td>\n",
       "      <td>RUB</td>\n",
       "      <td>RUB</td>\n",
       "    </tr>\n",
       "    <tr>\n",
       "      <th>productionDate</th>\n",
       "      <td>2014</td>\n",
       "      <td>2017</td>\n",
       "      <td>2014</td>\n",
       "    </tr>\n",
       "    <tr>\n",
       "      <th>sell_id</th>\n",
       "      <td>1100575026</td>\n",
       "      <td>1100549428</td>\n",
       "      <td>1100658222</td>\n",
       "    </tr>\n",
       "    <tr>\n",
       "      <th>super_gen</th>\n",
       "      <td>{\"id\":\"10373605\",\"displacement\":1197,\"engine_t...</td>\n",
       "      <td>{\"id\":\"20913311\",\"displacement\":1598,\"engine_t...</td>\n",
       "      <td>{\"id\":\"20026323\",\"nameplate\":\"DSG\",\"displaceme...</td>\n",
       "    </tr>\n",
       "    <tr>\n",
       "      <th>vehicleConfiguration</th>\n",
       "      <td>LIFTBACK ROBOT 1.2</td>\n",
       "      <td>LIFTBACK MECHANICAL 1.6</td>\n",
       "      <td>LIFTBACK ROBOT 1.8</td>\n",
       "    </tr>\n",
       "    <tr>\n",
       "      <th>vehicleTransmission</th>\n",
       "      <td>роботизированная</td>\n",
       "      <td>механическая</td>\n",
       "      <td>роботизированная</td>\n",
       "    </tr>\n",
       "    <tr>\n",
       "      <th>vendor</th>\n",
       "      <td>EUROPEAN</td>\n",
       "      <td>EUROPEAN</td>\n",
       "      <td>EUROPEAN</td>\n",
       "    </tr>\n",
       "    <tr>\n",
       "      <th>Владельцы</th>\n",
       "      <td>3 или более</td>\n",
       "      <td>1 владелец</td>\n",
       "      <td>1 владелец</td>\n",
       "    </tr>\n",
       "    <tr>\n",
       "      <th>Владение</th>\n",
       "      <td>NaN</td>\n",
       "      <td>NaN</td>\n",
       "      <td>NaN</td>\n",
       "    </tr>\n",
       "    <tr>\n",
       "      <th>ПТС</th>\n",
       "      <td>Оригинал</td>\n",
       "      <td>Оригинал</td>\n",
       "      <td>Оригинал</td>\n",
       "    </tr>\n",
       "    <tr>\n",
       "      <th>Привод</th>\n",
       "      <td>передний</td>\n",
       "      <td>передний</td>\n",
       "      <td>передний</td>\n",
       "    </tr>\n",
       "    <tr>\n",
       "      <th>Руль</th>\n",
       "      <td>Левый</td>\n",
       "      <td>Левый</td>\n",
       "      <td>Левый</td>\n",
       "    </tr>\n",
       "    <tr>\n",
       "      <th>Состояние</th>\n",
       "      <td>Не требует ремонта</td>\n",
       "      <td>Не требует ремонта</td>\n",
       "      <td>Не требует ремонта</td>\n",
       "    </tr>\n",
       "    <tr>\n",
       "      <th>Таможня</th>\n",
       "      <td>Растаможен</td>\n",
       "      <td>Растаможен</td>\n",
       "      <td>Растаможен</td>\n",
       "    </tr>\n",
       "  </tbody>\n",
       "</table>\n",
       "</div>"
      ],
      "text/plain": [
       "                                                                      0  \\\n",
       "bodyType                                                        лифтбек   \n",
       "brand                                                             SKODA   \n",
       "car_url               https://auto.ru/cars/used/sale/skoda/octavia/1...   \n",
       "color                                                             синий   \n",
       "complectation_dict                                                  NaN   \n",
       "description           Все автомобили, представленные в продаже, прох...   \n",
       "engineDisplacement                                              1.2 LTR   \n",
       "enginePower                                                     105 N12   \n",
       "equipment_dict        {\"engine-proof\":true,\"tinted-glass\":true,\"airb...   \n",
       "fuelType                                                         бензин   \n",
       "image                 https://autoru.naydex.net/o9DBXQ270/5ac010hAY0...   \n",
       "mileage                                                           74000   \n",
       "modelDate                                                          2013   \n",
       "model_info            {\"code\":\"OCTAVIA\",\"name\":\"Octavia\",\"ru_name\":\"...   \n",
       "model_name                                                      OCTAVIA   \n",
       "name                                                 1.2 AMT (105 л.с.)   \n",
       "numberOfDoors                                                         5   \n",
       "parsing_unixtime                                             1603226273   \n",
       "priceCurrency                                                       RUB   \n",
       "productionDate                                                     2014   \n",
       "sell_id                                                      1100575026   \n",
       "super_gen             {\"id\":\"10373605\",\"displacement\":1197,\"engine_t...   \n",
       "vehicleConfiguration                                 LIFTBACK ROBOT 1.2   \n",
       "vehicleTransmission                                    роботизированная   \n",
       "vendor                                                         EUROPEAN   \n",
       "Владельцы                                                   3 или более   \n",
       "Владение                                                            NaN   \n",
       "ПТС                                                            Оригинал   \n",
       "Привод                                                         передний   \n",
       "Руль                                                              Левый   \n",
       "Состояние                                            Не требует ремонта   \n",
       "Таможня                                                      Растаможен   \n",
       "\n",
       "                                                                      1  \\\n",
       "bodyType                                                        лифтбек   \n",
       "brand                                                             SKODA   \n",
       "car_url               https://auto.ru/cars/used/sale/skoda/octavia/1...   \n",
       "color                                                            чёрный   \n",
       "complectation_dict                                                  NaN   \n",
       "description           ЛОТ: 01217195\\nАвтопрага Север\\nДанный автомоб...   \n",
       "engineDisplacement                                              1.6 LTR   \n",
       "enginePower                                                     110 N12   \n",
       "equipment_dict        {\"cruise-control\":true,\"asr\":true,\"esp\":true,\"...   \n",
       "fuelType                                                         бензин   \n",
       "image                 https://autoru.naydex.net/o9DBXQ270/5ac010hAY0...   \n",
       "mileage                                                           60563   \n",
       "modelDate                                                          2017   \n",
       "model_info            {\"code\":\"OCTAVIA\",\"name\":\"Octavia\",\"ru_name\":\"...   \n",
       "model_name                                                      OCTAVIA   \n",
       "name                                                  1.6 MT (110 л.с.)   \n",
       "numberOfDoors                                                         5   \n",
       "parsing_unixtime                                             1603226277   \n",
       "priceCurrency                                                       RUB   \n",
       "productionDate                                                     2017   \n",
       "sell_id                                                      1100549428   \n",
       "super_gen             {\"id\":\"20913311\",\"displacement\":1598,\"engine_t...   \n",
       "vehicleConfiguration                            LIFTBACK MECHANICAL 1.6   \n",
       "vehicleTransmission                                        механическая   \n",
       "vendor                                                         EUROPEAN   \n",
       "Владельцы                                                    1 владелец   \n",
       "Владение                                                            NaN   \n",
       "ПТС                                                            Оригинал   \n",
       "Привод                                                         передний   \n",
       "Руль                                                              Левый   \n",
       "Состояние                                            Не требует ремонта   \n",
       "Таможня                                                      Растаможен   \n",
       "\n",
       "                                                                      2  \n",
       "bodyType                                                        лифтбек  \n",
       "brand                                                             SKODA  \n",
       "car_url               https://auto.ru/cars/used/sale/skoda/superb/11...  \n",
       "color                                                             серый  \n",
       "complectation_dict    {\"id\":\"20026336\",\"name\":\"Ambition\",\"available_...  \n",
       "description           Все автомобили, представленные в продаже, прох...  \n",
       "engineDisplacement                                              1.8 LTR  \n",
       "enginePower                                                     152 N12  \n",
       "equipment_dict        {\"cruise-control\":true,\"tinted-glass\":true,\"es...  \n",
       "fuelType                                                         бензин  \n",
       "image                 https://avatars.mds.yandex.net/get-autoru-vos/...  \n",
       "mileage                                                           88000  \n",
       "modelDate                                                          2013  \n",
       "model_info            {\"code\":\"SUPERB\",\"name\":\"Superb\",\"ru_name\":\"Су...  \n",
       "model_name                                                       SUPERB  \n",
       "name                                             DSG 1.8 AMT (152 л.с.)  \n",
       "numberOfDoors                                                         5  \n",
       "parsing_unixtime                                             1603226280  \n",
       "priceCurrency                                                       RUB  \n",
       "productionDate                                                     2014  \n",
       "sell_id                                                      1100658222  \n",
       "super_gen             {\"id\":\"20026323\",\"nameplate\":\"DSG\",\"displaceme...  \n",
       "vehicleConfiguration                                 LIFTBACK ROBOT 1.8  \n",
       "vehicleTransmission                                    роботизированная  \n",
       "vendor                                                         EUROPEAN  \n",
       "Владельцы                                                    1 владелец  \n",
       "Владение                                                            NaN  \n",
       "ПТС                                                            Оригинал  \n",
       "Привод                                                         передний  \n",
       "Руль                                                              Левый  \n",
       "Состояние                                            Не требует ремонта  \n",
       "Таможня                                                      Растаможен  "
      ]
     },
     "execution_count": 15,
     "metadata": {},
     "output_type": "execute_result"
    }
   ],
   "source": [
    "test.head(3).T\n"
   ]
  },
  {
   "cell_type": "code",
   "execution_count": 16,
   "metadata": {},
   "outputs": [
    {
     "name": "stdout",
     "output_type": "stream",
     "text": [
      "<class 'pandas.core.frame.DataFrame'>\n",
      "RangeIndex: 34686 entries, 0 to 34685\n",
      "Data columns (total 32 columns):\n",
      " #   Column                Non-Null Count  Dtype \n",
      "---  ------                --------------  ----- \n",
      " 0   bodyType              34686 non-null  object\n",
      " 1   brand                 34686 non-null  object\n",
      " 2   car_url               34686 non-null  object\n",
      " 3   color                 34686 non-null  object\n",
      " 4   complectation_dict    6418 non-null   object\n",
      " 5   description           34686 non-null  object\n",
      " 6   engineDisplacement    34686 non-null  object\n",
      " 7   enginePower           34686 non-null  object\n",
      " 8   equipment_dict        24690 non-null  object\n",
      " 9   fuelType              34686 non-null  object\n",
      " 10  image                 34686 non-null  object\n",
      " 11  mileage               34686 non-null  int64 \n",
      " 12  modelDate             34686 non-null  int64 \n",
      " 13  model_info            34686 non-null  object\n",
      " 14  model_name            34686 non-null  object\n",
      " 15  name                  34686 non-null  object\n",
      " 16  numberOfDoors         34686 non-null  int64 \n",
      " 17  parsing_unixtime      34686 non-null  int64 \n",
      " 18  priceCurrency         34686 non-null  object\n",
      " 19  productionDate        34686 non-null  int64 \n",
      " 20  sell_id               34686 non-null  int64 \n",
      " 21  super_gen             34686 non-null  object\n",
      " 22  vehicleConfiguration  34686 non-null  object\n",
      " 23  vehicleTransmission   34686 non-null  object\n",
      " 24  vendor                34686 non-null  object\n",
      " 25  Владельцы             34686 non-null  object\n",
      " 26  Владение              11995 non-null  object\n",
      " 27  ПТС                   34685 non-null  object\n",
      " 28  Привод                34686 non-null  object\n",
      " 29  Руль                  34686 non-null  object\n",
      " 30  Состояние             34686 non-null  object\n",
      " 31  Таможня               34686 non-null  object\n",
      "dtypes: int64(6), object(26)\n",
      "memory usage: 8.5+ MB\n"
     ]
    },
    {
     "data": {
      "text/plain": [
       "(None,\n",
       " bodyType                    0\n",
       " brand                       0\n",
       " car_url                     0\n",
       " color                       0\n",
       " complectation_dict      28268\n",
       " description                 0\n",
       " engineDisplacement          0\n",
       " enginePower                 0\n",
       " equipment_dict           9996\n",
       " fuelType                    0\n",
       " image                       0\n",
       " mileage                     0\n",
       " modelDate                   0\n",
       " model_info                  0\n",
       " model_name                  0\n",
       " name                        0\n",
       " numberOfDoors               0\n",
       " parsing_unixtime            0\n",
       " priceCurrency               0\n",
       " productionDate              0\n",
       " sell_id                     0\n",
       " super_gen                   0\n",
       " vehicleConfiguration        0\n",
       " vehicleTransmission         0\n",
       " vendor                      0\n",
       " Владельцы                   0\n",
       " Владение                22691\n",
       " ПТС                         1\n",
       " Привод                      0\n",
       " Руль                        0\n",
       " Состояние                   0\n",
       " Таможня                     0\n",
       " dtype: int64)"
      ]
     },
     "execution_count": 16,
     "metadata": {},
     "output_type": "execute_result"
    }
   ],
   "source": [
    "test.info(), test.isna().sum()"
   ]
  },
  {
   "cell_type": "markdown",
   "metadata": {},
   "source": [
    "Тестовый датасет состоит из 32 признака и 34686 наблюдений.Из них dtypes: int64(6), object(26).А так же test имеет пропущенные данные."
   ]
  },
  {
   "cell_type": "code",
   "execution_count": 17,
   "metadata": {},
   "outputs": [],
   "source": [
    "categorical_feature = ['brand','color','fuelType','vehicleTransmission','vendor', 'bodyType']"
   ]
  },
  {
   "cell_type": "code",
   "execution_count": 18,
   "metadata": {},
   "outputs": [
    {
     "data": {
      "text/plain": [
       "brand                   36\n",
       "color                   32\n",
       "fuelType                 5\n",
       "vehicleTransmission      8\n",
       "vendor                   6\n",
       "bodyType               199\n",
       "dtype: int64"
      ]
     },
     "execution_count": 18,
     "metadata": {},
     "output_type": "execute_result"
    }
   ],
   "source": [
    "train[categorical_feature].nunique()"
   ]
  },
  {
   "cell_type": "markdown",
   "metadata": {},
   "source": [
    "# Data preprocessing"
   ]
  },
  {
   "cell_type": "markdown",
   "metadata": {},
   "source": [
    "**Создадим копии train и test . И будем работать с ними **"
   ]
  },
  {
   "cell_type": "code",
   "execution_count": 19,
   "metadata": {},
   "outputs": [],
   "source": [
    "traincc = train.copy()\n",
    "testcc = test.copy()"
   ]
  },
  {
   "cell_type": "code",
   "execution_count": 20,
   "metadata": {},
   "outputs": [],
   "source": [
    "def preprocessing_train(df_input):\n",
    "    \n",
    "    \n",
    "    df_output = df_input.copy()\n",
    "    \n",
    "    df_output.drop(['Состояние', 'Таможня', 'priceCurrency'], axis=1, inplace=True) #  все машины растаможены и в хорошем состояние\n",
    "    \n",
    "    \n",
    "    \n",
    "    # Feature Engineering \n",
    "    df_output['enginePower'] = df_output['enginePower'].apply(lambda x: int(re.findall('(\\d+)', str(x))[0]))\n",
    "    \n",
    "    # color\n",
    "    colors = {'040001': 'чёрный','FAFBFB': 'белый','97948F': 'серый','CACECB': 'серебристый','0000CC': 'синий',\n",
    "              'EE1D19': 'красный','200204': 'бордовый','007F00': 'зелёный','C49648': 'коричневый','22A0F8': 'голубой',\n",
    "              'DEA522': 'золотистый','FFD600': 'жёлтый','660099': 'пурпурный','4A2197': 'фиолетовый','FF8649': 'бежевый',\n",
    "              'FFC0CB': 'розовый'}\n",
    "    df_output['color'] = df_output['color'].replace(colors).apply(lambda x: x.lower())\n",
    "    \n",
    "    \n",
    "    # vehicleTransmission\n",
    "    \n",
    "    vehicle = {'AUTOMATIC':'автоматическая','MECHANICAL':'механическая',\n",
    "               'ROBOT':'роботизированная','VARIATOR':'вариатор'}\n",
    "    df_output['vehicleTransmission'] = df_output['vehicleTransmission'].replace(vehicle)\n",
    "    \n",
    "    # ПТС\n",
    "    df_output['ПТС'] = df_output['ПТС'].map({'ORIGINAL':'Оригинал','DUPLICATE':'Дубликат'})\n",
    "    df_output['ПТС'] = df_output['ПТС'].fillna('Оригинал') # Заменяем пустых на более встречающийся\n",
    "    \n",
    "    # В train есть пустые значение,заменим их как неизвестные.\n",
    "    \n",
    "    df_output['vendor'] = df_output['vendor'].fillna('V_UNKNOWN') # Заменяем пустых на V_UNKNOWN\n",
    "    \n",
    "    \n",
    "    # description\n",
    "    \n",
    "    df_output['description'] = df_output['description'].fillna('[]') \n",
    "    \n",
    "    df_output['description_word'] = df_output['description'].apply(lambda x: [str(i).lower() for i in x.split()])\n",
    "    \n",
    "    df_output['leather']= df_output['description_word'].apply(lambda x: \n",
    "                                                1 if ('темный' and 'салон') in x else 0)\n",
    "    df_output['carter']= df_output['description_word'].apply(lambda x: \n",
    "                                                1 if ('защита' and 'картера') in x else 0)\n",
    "    df_output['ABS']= df_output['description_word'].apply(lambda x: \n",
    "                                                1 if ('антиблокировочная' and 'система') in x else 0)\n",
    "    df_output['airbags']= df_output['description_word'].apply(lambda x: \n",
    "                                                1 if ('подушки' and 'безопасности') in x else 0)\n",
    "    df_output['immob']= df_output['description_word'].apply(lambda x: \n",
    "                                                1 if ('иммобилайзер') in x else 0)\n",
    "    df_output['central_locking']= df_output['description_word'].apply(lambda x: \n",
    "                                                1 if ('центральный' and 'замок') in x else 0)\n",
    "    df_output['on_board_computer']= df_output['description_word'].apply(lambda x: \n",
    "                                                1 if ('бортовой' and 'компьютер') in x else 0)\n",
    "    df_output['cruise_control']= df_output['description_word'].apply(lambda x: \n",
    "                                                1 if ('круиз-контроль') in x else 0)\n",
    "    df_output['climat_control']= df_output['description_word'].apply(lambda x: \n",
    "                                                1 if ('климат-контроль') in x else 0)\n",
    "    df_output['multi_rudder']= df_output['description_word'].apply(lambda x: \n",
    "                                                1 if ('мультифункциональный' and 'руль') in x else 0)\n",
    "    df_output['power_steering']= df_output['description_word'].apply(lambda x: \n",
    "                                                1 if ('гидроусилитель' or 'гидро' or 'усилитель' and 'руля') in x else 0)\n",
    "    df_output['light_and_rain_sensors']= df_output['description_word'].apply(lambda x: \n",
    "                                                1 if ('датчики' and 'света' and 'дождя') in x else 0)\n",
    "    df_output['сarbon_body_kits']= df_output['description_word'].apply(lambda x: \n",
    "                                                1 if ('карбоновые' and 'обвесы') in x else 0)\n",
    "    df_output['rear_diffuser_rkp']= df_output['description_word'].apply(lambda x: \n",
    "                                                1 if ('задний' and 'диффузор') in x else 0)\n",
    "    df_output['door_closers']= df_output['description_word'].apply(lambda x: \n",
    "                                                1 if ('доводчики' and 'дверей') in x else 0)\n",
    "    df_output['rear_view_camera']= df_output['description_word'].apply(lambda x: \n",
    "                                                1 if ('камера' or 'видеокамера' and 'заднего' and 'вида') in x else 0)\n",
    "    df_output['amg']= df_output['description_word'].apply(lambda x: \n",
    "                                                1 if ('amg') in x else 0)\n",
    "    df_output['bi_xenon_headlights']= df_output['description_word'].apply(lambda x: \n",
    "                                                1 if ('биксеноновые' and 'фары') in x else 0)\n",
    "    df_output['from_salon']= df_output['description_word'].apply(lambda x: \n",
    "                                                1 if ('рольф' or 'панавто' or 'дилер' or 'кредит' or 'ликвидация') in x else 0)\n",
    "    df_output['alloy_wheels']= df_output['description_word'].apply(lambda x: \n",
    "                                                1 if ('легкосплавные' or 'колесные' or 'диски') in x else 0)\n",
    "    df_output['parking_sensors']= df_output['description_word'].apply(lambda x: \n",
    "                                                1 if ('парктроник' or 'парктронник') in x else 0)\n",
    "    df_output['dents']= df_output['description_word'].apply(lambda x: \n",
    "                                                1 if ('вмятины' or 'вмятина' or 'царапина' or 'царапины' or 'трещина') in x else 0)\n",
    "    df_output['roof_with_panoramic_view']= df_output['description_word'].apply(lambda x: \n",
    "                                                1 if ('панорамная' and 'крыша') in x else 0)\n",
    "    \n",
    "    # ################### fix ############################################################## \n",
    "    df_output['productionDate'] = df_output['productionDate'].values.astype('int64')\n",
    "    df_output['sell_id'] = df_output['sell_id'].values.astype('int64')\n",
    "    df_output['modelDate'] = df_output['modelDate'].values.astype('int64')\n",
    "    df_output['numberOfDoors'] = df_output['numberOfDoors'].values.astype('int64')\n",
    "    df_output['mileage'] = df_output['mileage'].values.astype('int64')\n",
    "    df_output['mileageNAN'] = df_output['mileage'].apply(lambda x: 1 if x == 0 else 0)\n",
    "    \n",
    "    return df_output"
   ]
  },
  {
   "cell_type": "code",
   "execution_count": 21,
   "metadata": {},
   "outputs": [],
   "source": [
    "def preprocessing_test(df_input):\n",
    "    \n",
    "    \n",
    "    df_output = df_input.copy()\n",
    "    \n",
    "    df_output.drop(['Состояние', 'Таможня', 'priceCurrency'], axis=1, inplace=True) #  все машины растаможены и в хорошем состояние\n",
    "    \n",
    "    \n",
    "    \n",
    "    # Feature Engineering \n",
    "    df_output['enginePower'] = df_output['enginePower'].apply(lambda x: int(re.findall('(\\d+)', str(x))[0]))\n",
    "    \n",
    "    # description\n",
    "    \n",
    "    df_output['description'] = df_output['description'].fillna('[]') \n",
    "    \n",
    "    df_output['description_word'] = df_output['description'].apply(lambda x: [str(i).lower() for i in x.split()])\n",
    "    \n",
    "    df_output['leather']= df_output['description_word'].apply(lambda x: \n",
    "                                                1 if ('темный' and 'салон') in x else 0)\n",
    "    df_output['carter']= df_output['description_word'].apply(lambda x: \n",
    "                                                1 if ('защита' and 'картера') in x else 0)\n",
    "    df_output['ABS']= df_output['description_word'].apply(lambda x: \n",
    "                                                1 if ('антиблокировочная' and 'система') in x else 0)\n",
    "    df_output['airbags']= df_output['description_word'].apply(lambda x: \n",
    "                                                1 if ('подушки' and 'безопасности') in x else 0)\n",
    "    df_output['immob']= df_output['description_word'].apply(lambda x: \n",
    "                                                1 if ('иммобилайзер') in x else 0)\n",
    "    df_output['central_locking']= df_output['description_word'].apply(lambda x: \n",
    "                                                1 if ('центральный' and 'замок') in x else 0)\n",
    "    df_output['on_board_computer']= df_output['description_word'].apply(lambda x: \n",
    "                                                1 if ('бортовой' and 'компьютер') in x else 0)\n",
    "    df_output['cruise_control']= df_output['description_word'].apply(lambda x: \n",
    "                                                1 if ('круиз-контроль') in x else 0)\n",
    "    df_output['climat_control']= df_output['description_word'].apply(lambda x: \n",
    "                                                1 if ('климат-контроль') in x else 0)\n",
    "    df_output['multi_rudder']= df_output['description_word'].apply(lambda x: \n",
    "                                                1 if ('мультифункциональный' and 'руль') in x else 0)\n",
    "    df_output['power_steering']= df_output['description_word'].apply(lambda x: \n",
    "                                                1 if ('гидроусилитель' or 'гидро' or 'усилитель' and 'руля') in x else 0)\n",
    "    df_output['light_and_rain_sensors']= df_output['description_word'].apply(lambda x: \n",
    "                                                1 if ('датчики' and 'света' and 'дождя') in x else 0)\n",
    "    df_output['сarbon_body_kits']= df_output['description_word'].apply(lambda x: \n",
    "                                                1 if ('карбоновые' and 'обвесы') in x else 0)\n",
    "    df_output['rear_diffuser_rkp']= df_output['description_word'].apply(lambda x: \n",
    "                                                1 if ('задний' and 'диффузор') in x else 0)\n",
    "    df_output['door_closers']= df_output['description_word'].apply(lambda x: \n",
    "                                                1 if ('доводчики' and 'дверей') in x else 0)\n",
    "    df_output['rear_view_camera']= df_output['description_word'].apply(lambda x: \n",
    "                                                1 if ('камера' or 'видеокамера' and 'заднего' and 'вида') in x else 0)\n",
    "    df_output['amg']= df_output['description_word'].apply(lambda x: \n",
    "                                                1 if ('amg') in x else 0)\n",
    "    df_output['bi_xenon_headlights']= df_output['description_word'].apply(lambda x: \n",
    "                                                1 if ('биксеноновые' and 'фары') in x else 0)\n",
    "    df_output['from_salon']= df_output['description_word'].apply(lambda x: \n",
    "                                                1 if ('рольф' or 'панавто' or 'дилер' or 'кредит' or 'ликвидация') in x else 0)\n",
    "    df_output['alloy_wheels']= df_output['description_word'].apply(lambda x: \n",
    "                                                1 if ('легкосплавные' or 'колесные' or 'диски') in x else 0)\n",
    "    df_output['parking_sensors']= df_output['description_word'].apply(lambda x: \n",
    "                                                1 if ('парктроник' or 'парктронник') in x else 0)\n",
    "    df_output['dents']= df_output['description_word'].apply(lambda x: \n",
    "                                                1 if ('вмятины' or 'вмятина' or 'царапина' or 'царапины' or 'трещина') in x else 0)\n",
    "    df_output['roof_with_panoramic_view']= df_output['description_word'].apply(lambda x: \n",
    "                                                1 if ('панорамная' and 'крыша') in x else 0)\n",
    "    \n",
    "    return df_output"
   ]
  },
  {
   "cell_type": "code",
   "execution_count": 22,
   "metadata": {},
   "outputs": [],
   "source": [
    "traincc = preprocessing_train(traincc)\n",
    "testcc = preprocessing_test(testcc)\n"
   ]
  },
  {
   "cell_type": "code",
   "execution_count": 23,
   "metadata": {},
   "outputs": [
    {
     "name": "stdout",
     "output_type": "stream",
     "text": [
      "<class 'pandas.core.frame.DataFrame'>\n",
      "Int64Index: 196665 entries, 0 to 35270\n",
      "Data columns (total 59 columns):\n",
      " #   Column                    Non-Null Count   Dtype  \n",
      "---  ------                    --------------   -----  \n",
      " 0   bodyType                  196665 non-null  object \n",
      " 1   brand                     196665 non-null  object \n",
      " 2   color                     196665 non-null  object \n",
      " 3   fuelType                  196665 non-null  object \n",
      " 4   modelDate                 196665 non-null  int64  \n",
      " 5   name                      162498 non-null  object \n",
      " 6   numberOfDoors             196665 non-null  int64  \n",
      " 7   productionDate            196665 non-null  int64  \n",
      " 8   vehicleConfiguration      162498 non-null  object \n",
      " 9   vehicleTransmission       196665 non-null  object \n",
      " 10  engineDisplacement        196665 non-null  object \n",
      " 11  enginePower               196665 non-null  int64  \n",
      " 12  description               196665 non-null  object \n",
      " 13  mileage                   196665 non-null  int64  \n",
      " 14  Комплектация              86853 non-null   object \n",
      " 15  Привод                    196665 non-null  object \n",
      " 16  Руль                      196665 non-null  object \n",
      " 17  Владельцы                 168973 non-null  object \n",
      " 18  ПТС                       196665 non-null  object \n",
      " 19  Владение                  48591 non-null   object \n",
      " 20  price                     196665 non-null  float64\n",
      " 21  start_date                162498 non-null  object \n",
      " 22  hidden                    0 non-null       float64\n",
      " 23  model                     86853 non-null   object \n",
      " 24  complectation_dict        75645 non-null   object \n",
      " 25  equipment_dict            75645 non-null   object \n",
      " 26  image                     75645 non-null   float64\n",
      " 27  model_info                75645 non-null   object \n",
      " 28  model_name                109809 non-null  object \n",
      " 29  sell_id                   196665 non-null  int64  \n",
      " 30  super_gen                 75645 non-null   object \n",
      " 31  vendor                    196665 non-null  object \n",
      " 32  price_EUR                 75645 non-null   float64\n",
      " 33  price_USD                 75645 non-null   float64\n",
      " 34  description_word          196665 non-null  object \n",
      " 35  leather                   196665 non-null  int64  \n",
      " 36  carter                    196665 non-null  int64  \n",
      " 37  ABS                       196665 non-null  int64  \n",
      " 38  airbags                   196665 non-null  int64  \n",
      " 39  immob                     196665 non-null  int64  \n",
      " 40  central_locking           196665 non-null  int64  \n",
      " 41  on_board_computer         196665 non-null  int64  \n",
      " 42  cruise_control            196665 non-null  int64  \n",
      " 43  climat_control            196665 non-null  int64  \n",
      " 44  multi_rudder              196665 non-null  int64  \n",
      " 45  power_steering            196665 non-null  int64  \n",
      " 46  light_and_rain_sensors    196665 non-null  int64  \n",
      " 47  сarbon_body_kits          196665 non-null  int64  \n",
      " 48  rear_diffuser_rkp         196665 non-null  int64  \n",
      " 49  door_closers              196665 non-null  int64  \n",
      " 50  rear_view_camera          196665 non-null  int64  \n",
      " 51  amg                       196665 non-null  int64  \n",
      " 52  bi_xenon_headlights       196665 non-null  int64  \n",
      " 53  from_salon                196665 non-null  int64  \n",
      " 54  alloy_wheels              196665 non-null  int64  \n",
      " 55  parking_sensors           196665 non-null  int64  \n",
      " 56  dents                     196665 non-null  int64  \n",
      " 57  roof_with_panoramic_view  196665 non-null  int64  \n",
      " 58  mileageNAN                196665 non-null  int64  \n",
      "dtypes: float64(5), int64(30), object(24)\n",
      "memory usage: 90.0+ MB\n",
      "<class 'pandas.core.frame.DataFrame'>\n",
      "RangeIndex: 34686 entries, 0 to 34685\n",
      "Data columns (total 53 columns):\n",
      " #   Column                    Non-Null Count  Dtype \n",
      "---  ------                    --------------  ----- \n",
      " 0   bodyType                  34686 non-null  object\n",
      " 1   brand                     34686 non-null  object\n",
      " 2   car_url                   34686 non-null  object\n",
      " 3   color                     34686 non-null  object\n",
      " 4   complectation_dict        6418 non-null   object\n",
      " 5   description               34686 non-null  object\n",
      " 6   engineDisplacement        34686 non-null  object\n",
      " 7   enginePower               34686 non-null  int64 \n",
      " 8   equipment_dict            24690 non-null  object\n",
      " 9   fuelType                  34686 non-null  object\n",
      " 10  image                     34686 non-null  object\n",
      " 11  mileage                   34686 non-null  int64 \n",
      " 12  modelDate                 34686 non-null  int64 \n",
      " 13  model_info                34686 non-null  object\n",
      " 14  model_name                34686 non-null  object\n",
      " 15  name                      34686 non-null  object\n",
      " 16  numberOfDoors             34686 non-null  int64 \n",
      " 17  parsing_unixtime          34686 non-null  int64 \n",
      " 18  productionDate            34686 non-null  int64 \n",
      " 19  sell_id                   34686 non-null  int64 \n",
      " 20  super_gen                 34686 non-null  object\n",
      " 21  vehicleConfiguration      34686 non-null  object\n",
      " 22  vehicleTransmission       34686 non-null  object\n",
      " 23  vendor                    34686 non-null  object\n",
      " 24  Владельцы                 34686 non-null  object\n",
      " 25  Владение                  11995 non-null  object\n",
      " 26  ПТС                       34685 non-null  object\n",
      " 27  Привод                    34686 non-null  object\n",
      " 28  Руль                      34686 non-null  object\n",
      " 29  description_word          34686 non-null  object\n",
      " 30  leather                   34686 non-null  int64 \n",
      " 31  carter                    34686 non-null  int64 \n",
      " 32  ABS                       34686 non-null  int64 \n",
      " 33  airbags                   34686 non-null  int64 \n",
      " 34  immob                     34686 non-null  int64 \n",
      " 35  central_locking           34686 non-null  int64 \n",
      " 36  on_board_computer         34686 non-null  int64 \n",
      " 37  cruise_control            34686 non-null  int64 \n",
      " 38  climat_control            34686 non-null  int64 \n",
      " 39  multi_rudder              34686 non-null  int64 \n",
      " 40  power_steering            34686 non-null  int64 \n",
      " 41  light_and_rain_sensors    34686 non-null  int64 \n",
      " 42  сarbon_body_kits          34686 non-null  int64 \n",
      " 43  rear_diffuser_rkp         34686 non-null  int64 \n",
      " 44  door_closers              34686 non-null  int64 \n",
      " 45  rear_view_camera          34686 non-null  int64 \n",
      " 46  amg                       34686 non-null  int64 \n",
      " 47  bi_xenon_headlights       34686 non-null  int64 \n",
      " 48  from_salon                34686 non-null  int64 \n",
      " 49  alloy_wheels              34686 non-null  int64 \n",
      " 50  parking_sensors           34686 non-null  int64 \n",
      " 51  dents                     34686 non-null  int64 \n",
      " 52  roof_with_panoramic_view  34686 non-null  int64 \n",
      "dtypes: int64(30), object(23)\n",
      "memory usage: 14.0+ MB\n"
     ]
    },
    {
     "data": {
      "text/plain": [
       "(None, None)"
      ]
     },
     "execution_count": 23,
     "metadata": {},
     "output_type": "execute_result"
    }
   ],
   "source": [
    "traincc.info(), testcc.info()"
   ]
  },
  {
   "cell_type": "markdown",
   "metadata": {},
   "source": [
    "**Работаем с пустыми значениями**"
   ]
  },
  {
   "cell_type": "code",
   "execution_count": 24,
   "metadata": {},
   "outputs": [
    {
     "data": {
      "text/plain": [
       "(bodyType                         0\n",
       " brand                            0\n",
       " color                            0\n",
       " fuelType                         0\n",
       " modelDate                        0\n",
       " name                         34167\n",
       " numberOfDoors                    0\n",
       " productionDate                   0\n",
       " vehicleConfiguration         34167\n",
       " vehicleTransmission              0\n",
       " engineDisplacement               0\n",
       " enginePower                      0\n",
       " description                      0\n",
       " mileage                          0\n",
       " Комплектация                109812\n",
       " Привод                           0\n",
       " Руль                             0\n",
       " Владельцы                    27692\n",
       " ПТС                              0\n",
       " Владение                    148074\n",
       " price                            0\n",
       " start_date                   34167\n",
       " hidden                      196665\n",
       " model                       109812\n",
       " complectation_dict          121020\n",
       " equipment_dict              121020\n",
       " image                       121020\n",
       " model_info                  121020\n",
       " model_name                   86856\n",
       " sell_id                          0\n",
       " super_gen                   121020\n",
       " vendor                           0\n",
       " price_EUR                   121020\n",
       " price_USD                   121020\n",
       " description_word                 0\n",
       " leather                          0\n",
       " carter                           0\n",
       " ABS                              0\n",
       " airbags                          0\n",
       " immob                            0\n",
       " central_locking                  0\n",
       " on_board_computer                0\n",
       " cruise_control                   0\n",
       " climat_control                   0\n",
       " multi_rudder                     0\n",
       " power_steering                   0\n",
       " light_and_rain_sensors           0\n",
       " сarbon_body_kits                 0\n",
       " rear_diffuser_rkp                0\n",
       " door_closers                     0\n",
       " rear_view_camera                 0\n",
       " amg                              0\n",
       " bi_xenon_headlights              0\n",
       " from_salon                       0\n",
       " alloy_wheels                     0\n",
       " parking_sensors                  0\n",
       " dents                            0\n",
       " roof_with_panoramic_view         0\n",
       " mileageNAN                       0\n",
       " dtype: int64,\n",
       " bodyType                        0\n",
       " brand                           0\n",
       " car_url                         0\n",
       " color                           0\n",
       " complectation_dict          28268\n",
       " description                     0\n",
       " engineDisplacement              0\n",
       " enginePower                     0\n",
       " equipment_dict               9996\n",
       " fuelType                        0\n",
       " image                           0\n",
       " mileage                         0\n",
       " modelDate                       0\n",
       " model_info                      0\n",
       " model_name                      0\n",
       " name                            0\n",
       " numberOfDoors                   0\n",
       " parsing_unixtime                0\n",
       " productionDate                  0\n",
       " sell_id                         0\n",
       " super_gen                       0\n",
       " vehicleConfiguration            0\n",
       " vehicleTransmission             0\n",
       " vendor                          0\n",
       " Владельцы                       0\n",
       " Владение                    22691\n",
       " ПТС                             1\n",
       " Привод                          0\n",
       " Руль                            0\n",
       " description_word                0\n",
       " leather                         0\n",
       " carter                          0\n",
       " ABS                             0\n",
       " airbags                         0\n",
       " immob                           0\n",
       " central_locking                 0\n",
       " on_board_computer               0\n",
       " cruise_control                  0\n",
       " climat_control                  0\n",
       " multi_rudder                    0\n",
       " power_steering                  0\n",
       " light_and_rain_sensors          0\n",
       " сarbon_body_kits                0\n",
       " rear_diffuser_rkp               0\n",
       " door_closers                    0\n",
       " rear_view_camera                0\n",
       " amg                             0\n",
       " bi_xenon_headlights             0\n",
       " from_salon                      0\n",
       " alloy_wheels                    0\n",
       " parking_sensors                 0\n",
       " dents                           0\n",
       " roof_with_panoramic_view        0\n",
       " dtype: int64)"
      ]
     },
     "execution_count": 24,
     "metadata": {},
     "output_type": "execute_result"
    }
   ],
   "source": [
    "traincc.isna().sum() , testcc.isna().sum()"
   ]
  },
  {
   "cell_type": "code",
   "execution_count": 25,
   "metadata": {},
   "outputs": [],
   "source": [
    "testcc['ПТС'] = testcc['ПТС'].fillna('Оригинал')"
   ]
  },
  {
   "cell_type": "markdown",
   "metadata": {},
   "source": [
    "Сравним bodytype между train и test"
   ]
  },
  {
   "cell_type": "code",
   "execution_count": 26,
   "metadata": {},
   "outputs": [
    {
     "data": {
      "text/plain": [
       "седан                      13147\n",
       "внедорожник 5 дв.          12228\n",
       "лифтбек                     2232\n",
       "хэтчбек 5 дв.               2124\n",
       "универсал 5 дв.             1276\n",
       "минивэн                      995\n",
       "купе                         824\n",
       "компактвэн                   489\n",
       "хэтчбек 3 дв.                485\n",
       "пикап двойная кабина         280\n",
       "купе-хардтоп                 158\n",
       "внедорожник 3 дв.            115\n",
       "родстер                       99\n",
       "фургон                        97\n",
       "кабриолет                     90\n",
       "седан-хардтоп                 12\n",
       "микровэн                       7\n",
       "седан 2 дв.                    6\n",
       "лимузин                        6\n",
       "пикап полуторная кабина        5\n",
       "пикап одинарная кабина         5\n",
       "внедорожник открытый           3\n",
       "тарга                          2\n",
       "фастбек                        1\n",
       "Name: bodyType, dtype: int64"
      ]
     },
     "execution_count": 26,
     "metadata": {},
     "output_type": "execute_result"
    }
   ],
   "source": [
    "testcc['bodyType'].value_counts()"
   ]
  },
  {
   "cell_type": "code",
   "execution_count": 27,
   "metadata": {},
   "outputs": [],
   "source": [
    "traincc['bodyType'] = traincc['bodyType'].apply(lambda x: str(x).lower())"
   ]
  },
  {
   "cell_type": "code",
   "execution_count": 28,
   "metadata": {},
   "outputs": [],
   "source": [
    "def proc_bodyType(df_input):\n",
    "    df_output = df_input.copy()\n",
    "    df_output['bodyType'] = df_output['bodyType'].apply(lambda x: str(x))\n",
    "    def bodyType(row):\n",
    "        for body_type in ['седан', 'внедорожник 5 дв.', 'лифтбек','хэтчбек 5 дв.', \n",
    "                      'универсал 5 дв.','минивэн','купе','компактвэн','хэтчбек 3 дв.','пикап двойная кабина',\n",
    "                         'внедорожник 3 дв.','родстер','фургон','кабриолет','седан-хардтоп','микровэн',\n",
    "                         'седан 2 дв.','лимузин','пикап полуторная кабина','пикап одинарная кабина',\n",
    "                         'внедорожник открытый','тарга','фастбек']:\n",
    "            if row.lower().startswith(body_type):\n",
    "                return body_type\n",
    "    df_output['bodyType'] = df_output['bodyType'].apply(bodyType)\n",
    "    df_output['bodyType'] = df_output['bodyType'].apply(lambda x: 'купе' if x == 'купе-хардтоп' else x)\n",
    "    \n",
    "    return df_output"
   ]
  },
  {
   "cell_type": "code",
   "execution_count": 29,
   "metadata": {},
   "outputs": [],
   "source": [
    "traincc = proc_bodyType(traincc)"
   ]
  },
  {
   "cell_type": "code",
   "execution_count": 30,
   "metadata": {},
   "outputs": [
    {
     "data": {
      "text/plain": [
       "внедорожник 5 дв.          75458\n",
       "седан                      69521\n",
       "хэтчбек 5 дв.              17735\n",
       "лифтбек                     7843\n",
       "универсал 5 дв.             7482\n",
       "минивэн                     4814\n",
       "компактвэн                  3852\n",
       "хэтчбек 3 дв.               3539\n",
       "купе                        3479\n",
       "пикап двойная кабина        1040\n",
       "внедорожник 3 дв.            810\n",
       "кабриолет                    400\n",
       "родстер                      277\n",
       "фургон                       224\n",
       "микровэн                      44\n",
       "внедорожник открытый          41\n",
       "пикап полуторная кабина       40\n",
       "пикап одинарная кабина        27\n",
       "лимузин                       12\n",
       "тарга                         12\n",
       "фастбек                        5\n",
       "Name: bodyType, dtype: int64"
      ]
     },
     "execution_count": 30,
     "metadata": {},
     "output_type": "execute_result"
    }
   ],
   "source": [
    "traincc.bodyType.value_counts()"
   ]
  },
  {
   "cell_type": "code",
   "execution_count": 31,
   "metadata": {},
   "outputs": [
    {
     "data": {
      "text/plain": [
       "(10, 0)"
      ]
     },
     "execution_count": 31,
     "metadata": {},
     "output_type": "execute_result"
    }
   ],
   "source": [
    "traincc.bodyType.isna().sum(), testcc.bodyType.isna().sum()"
   ]
  },
  {
   "cell_type": "code",
   "execution_count": 32,
   "metadata": {},
   "outputs": [],
   "source": [
    "traincc['bodyType'] = traincc['bodyType'].fillna('other')"
   ]
  },
  {
   "cell_type": "code",
   "execution_count": 33,
   "metadata": {},
   "outputs": [
    {
     "name": "stdout",
     "output_type": "stream",
     "text": [
      "<class 'pandas.core.frame.DataFrame'>\n",
      "Int64Index: 196665 entries, 0 to 35270\n",
      "Data columns (total 59 columns):\n",
      " #   Column                    Non-Null Count   Dtype  \n",
      "---  ------                    --------------   -----  \n",
      " 0   bodyType                  196665 non-null  object \n",
      " 1   brand                     196665 non-null  object \n",
      " 2   color                     196665 non-null  object \n",
      " 3   fuelType                  196665 non-null  object \n",
      " 4   modelDate                 196665 non-null  int64  \n",
      " 5   name                      162498 non-null  object \n",
      " 6   numberOfDoors             196665 non-null  int64  \n",
      " 7   productionDate            196665 non-null  int64  \n",
      " 8   vehicleConfiguration      162498 non-null  object \n",
      " 9   vehicleTransmission       196665 non-null  object \n",
      " 10  engineDisplacement        196665 non-null  object \n",
      " 11  enginePower               196665 non-null  int64  \n",
      " 12  description               196665 non-null  object \n",
      " 13  mileage                   196665 non-null  int64  \n",
      " 14  Комплектация              86853 non-null   object \n",
      " 15  Привод                    196665 non-null  object \n",
      " 16  Руль                      196665 non-null  object \n",
      " 17  Владельцы                 168973 non-null  object \n",
      " 18  ПТС                       196665 non-null  object \n",
      " 19  Владение                  48591 non-null   object \n",
      " 20  price                     196665 non-null  float64\n",
      " 21  start_date                162498 non-null  object \n",
      " 22  hidden                    0 non-null       float64\n",
      " 23  model                     86853 non-null   object \n",
      " 24  complectation_dict        75645 non-null   object \n",
      " 25  equipment_dict            75645 non-null   object \n",
      " 26  image                     75645 non-null   float64\n",
      " 27  model_info                75645 non-null   object \n",
      " 28  model_name                109809 non-null  object \n",
      " 29  sell_id                   196665 non-null  int64  \n",
      " 30  super_gen                 75645 non-null   object \n",
      " 31  vendor                    196665 non-null  object \n",
      " 32  price_EUR                 75645 non-null   float64\n",
      " 33  price_USD                 75645 non-null   float64\n",
      " 34  description_word          196665 non-null  object \n",
      " 35  leather                   196665 non-null  int64  \n",
      " 36  carter                    196665 non-null  int64  \n",
      " 37  ABS                       196665 non-null  int64  \n",
      " 38  airbags                   196665 non-null  int64  \n",
      " 39  immob                     196665 non-null  int64  \n",
      " 40  central_locking           196665 non-null  int64  \n",
      " 41  on_board_computer         196665 non-null  int64  \n",
      " 42  cruise_control            196665 non-null  int64  \n",
      " 43  climat_control            196665 non-null  int64  \n",
      " 44  multi_rudder              196665 non-null  int64  \n",
      " 45  power_steering            196665 non-null  int64  \n",
      " 46  light_and_rain_sensors    196665 non-null  int64  \n",
      " 47  сarbon_body_kits          196665 non-null  int64  \n",
      " 48  rear_diffuser_rkp         196665 non-null  int64  \n",
      " 49  door_closers              196665 non-null  int64  \n",
      " 50  rear_view_camera          196665 non-null  int64  \n",
      " 51  amg                       196665 non-null  int64  \n",
      " 52  bi_xenon_headlights       196665 non-null  int64  \n",
      " 53  from_salon                196665 non-null  int64  \n",
      " 54  alloy_wheels              196665 non-null  int64  \n",
      " 55  parking_sensors           196665 non-null  int64  \n",
      " 56  dents                     196665 non-null  int64  \n",
      " 57  roof_with_panoramic_view  196665 non-null  int64  \n",
      " 58  mileageNAN                196665 non-null  int64  \n",
      "dtypes: float64(5), int64(30), object(24)\n",
      "memory usage: 90.0+ MB\n"
     ]
    }
   ],
   "source": [
    "traincc.info()"
   ]
  },
  {
   "cell_type": "markdown",
   "metadata": {},
   "source": [
    "**У нас стоимости машины разбросаны, поэтому построим зависимость от логарифма цены**"
   ]
  },
  {
   "cell_type": "code",
   "execution_count": 34,
   "metadata": {},
   "outputs": [],
   "source": [
    "traincc['log_price'] = np.log(traincc.price)"
   ]
  },
  {
   "cell_type": "code",
   "execution_count": 35,
   "metadata": {},
   "outputs": [
    {
     "data": {
      "image/png": "[encoded data removed]",
      "text/plain": [
       "<Figure size 576x360 with 1 Axes>"
      ]
     },
     "metadata": {
      "needs_background": "light"
     },
     "output_type": "display_data"
    }
   ],
   "source": [
    "plt.figure(figsize=(8, 5))\n",
    "g1 = sns.boxplot(y='log_price', x='bodyType', \n",
    "                  data=traincc, color='darkred')\n",
    "g1.set_title(\"price of bodyTypes\", fontsize=20)\n",
    "\n",
    "g1.set_ylabel(\"log_price\", fontsize=15)\n",
    "g1.set_xticklabels(g1.get_xticklabels(),rotation=45)\n",
    "plt.show()"
   ]
  },
  {
   "cell_type": "code",
   "execution_count": 36,
   "metadata": {},
   "outputs": [],
   "source": [
    "traincc = traincc.assign(bT_length = traincc['bodyType'].apply(len))\n",
    "testcc = testcc.assign(bT_length = testcc['bodyType'].apply(len))"
   ]
  },
  {
   "cell_type": "code",
   "execution_count": 37,
   "metadata": {},
   "outputs": [
    {
     "data": {
      "image/png": "[encoded data removed]",
      "text/plain": [
       "<Figure size 576x360 with 1 Axes>"
      ]
     },
     "metadata": {
      "needs_background": "light"
     },
     "output_type": "display_data"
    }
   ],
   "source": [
    "plt.figure(figsize=(8, 5))\n",
    "g1 = sns.boxplot(y='log_price', x='bT_length', \n",
    "                  data=traincc, color='darkblue')\n",
    "g1.set_title(\"price of bT_length\", fontsize=20)\n",
    "\n",
    "g1.set_ylabel(\"log_price\", fontsize=15)\n",
    "g1.set_xticklabels(g1.get_xticklabels(),rotation=45)\n",
    "plt.show()"
   ]
  },
  {
   "cell_type": "markdown",
   "metadata": {},
   "source": [
    "**enginePower**"
   ]
  },
  {
   "cell_type": "code",
   "execution_count": 38,
   "metadata": {},
   "outputs": [
    {
     "data": {
      "text/plain": [
       "(150    15643\n",
       " 249     9183\n",
       " 140     5729\n",
       " 184     4847\n",
       " 190     4470\n",
       "        ...  \n",
       " 410        1\n",
       " 437        1\n",
       " 412        1\n",
       " 417        1\n",
       " 702        1\n",
       " Name: enginePower, Length: 407, dtype: int64,\n",
       " 249    1708\n",
       " 150    1699\n",
       " 110    1039\n",
       " 170     977\n",
       " 105     955\n",
       "        ... \n",
       " 38        1\n",
       " 485       1\n",
       " 324       1\n",
       " 164       1\n",
       " 32        1\n",
       " Name: enginePower, Length: 315, dtype: int64)"
      ]
     },
     "execution_count": 38,
     "metadata": {},
     "output_type": "execute_result"
    }
   ],
   "source": [
    "traincc['enginePower'].value_counts(),testcc['enginePower'].value_counts()"
   ]
  },
  {
   "cell_type": "markdown",
   "metadata": {},
   "source": [
    "**Brand**"
   ]
  },
  {
   "cell_type": "code",
   "execution_count": 39,
   "metadata": {},
   "outputs": [
    {
     "data": {
      "text/plain": [
       "(36, 12)"
      ]
     },
     "execution_count": 39,
     "metadata": {},
     "output_type": "execute_result"
    }
   ],
   "source": [
    "len(traincc.brand.value_counts()),len(testcc.brand.value_counts())\n",
    "\n"
   ]
  },
  {
   "cell_type": "code",
   "execution_count": 40,
   "metadata": {},
   "outputs": [
    {
     "data": {
      "text/plain": [
       "BMW           4473\n",
       "VOLKSWAGEN    4404\n",
       "NISSAN        4393\n",
       "MERCEDES      4180\n",
       "TOYOTA        3913\n",
       "AUDI          3421\n",
       "MITSUBISHI    2843\n",
       "SKODA         2741\n",
       "VOLVO         1463\n",
       "HONDA         1150\n",
       "INFINITI       871\n",
       "LEXUS          834\n",
       "Name: brand, dtype: int64"
      ]
     },
     "execution_count": 40,
     "metadata": {},
     "output_type": "execute_result"
    }
   ],
   "source": [
    "brand = testcc.brand.value_counts()\n",
    "brand"
   ]
  },
  {
   "cell_type": "markdown",
   "metadata": {},
   "source": [
    "*Сравним с тестом оставим по брендам с теста , а остальных объединим как otherBrand*"
   ]
  },
  {
   "cell_type": "code",
   "execution_count": 41,
   "metadata": {},
   "outputs": [],
   "source": [
    "traincc['brand'] = traincc['brand'].apply(lambda x: x if x in brand else 'otherBrand')"
   ]
  },
  {
   "cell_type": "code",
   "execution_count": 42,
   "metadata": {},
   "outputs": [
    {
     "data": {
      "text/plain": [
       "otherBrand    72803\n",
       "BMW           25008\n",
       "MERCEDES      19738\n",
       "VOLKSWAGEN    14890\n",
       "NISSAN        12591\n",
       "TOYOTA         9774\n",
       "AUDI           9433\n",
       "MITSUBISHI     7915\n",
       "SKODA          7137\n",
       "VOLVO          6696\n",
       "LEXUS          4786\n",
       "INFINITI       3440\n",
       "HONDA          2454\n",
       "Name: brand, dtype: int64"
      ]
     },
     "execution_count": 42,
     "metadata": {},
     "output_type": "execute_result"
    }
   ],
   "source": [
    "traincc['brand'].value_counts()"
   ]
  },
  {
   "cell_type": "code",
   "execution_count": 43,
   "metadata": {},
   "outputs": [
    {
     "data": {
      "text/html": [
       "<div>\n",
       "<style scoped>\n",
       "    .dataframe tbody tr th:only-of-type {\n",
       "        vertical-align: middle;\n",
       "    }\n",
       "\n",
       "    .dataframe tbody tr th {\n",
       "        vertical-align: top;\n",
       "    }\n",
       "\n",
       "    .dataframe thead th {\n",
       "        text-align: right;\n",
       "    }\n",
       "</style>\n",
       "<table border=\"1\" class=\"dataframe\">\n",
       "  <thead>\n",
       "    <tr style=\"text-align: right;\">\n",
       "      <th></th>\n",
       "      <th>count</th>\n",
       "      <th>mean</th>\n",
       "      <th>std</th>\n",
       "      <th>min</th>\n",
       "      <th>25%</th>\n",
       "      <th>50%</th>\n",
       "      <th>75%</th>\n",
       "      <th>max</th>\n",
       "    </tr>\n",
       "    <tr>\n",
       "      <th>brand</th>\n",
       "      <th></th>\n",
       "      <th></th>\n",
       "      <th></th>\n",
       "      <th></th>\n",
       "      <th></th>\n",
       "      <th></th>\n",
       "      <th></th>\n",
       "      <th></th>\n",
       "    </tr>\n",
       "  </thead>\n",
       "  <tbody>\n",
       "    <tr>\n",
       "      <th>AUDI</th>\n",
       "      <td>9433.0</td>\n",
       "      <td>1.522357e+06</td>\n",
       "      <td>1.561080e+06</td>\n",
       "      <td>25000.0</td>\n",
       "      <td>490000.0</td>\n",
       "      <td>999000.0</td>\n",
       "      <td>1949000.00</td>\n",
       "      <td>14898500.0</td>\n",
       "    </tr>\n",
       "    <tr>\n",
       "      <th>BMW</th>\n",
       "      <td>25008.0</td>\n",
       "      <td>2.089682e+06</td>\n",
       "      <td>2.117583e+06</td>\n",
       "      <td>45000.0</td>\n",
       "      <td>680000.0</td>\n",
       "      <td>1349000.0</td>\n",
       "      <td>2915250.00</td>\n",
       "      <td>16290000.0</td>\n",
       "    </tr>\n",
       "    <tr>\n",
       "      <th>HONDA</th>\n",
       "      <td>2454.0</td>\n",
       "      <td>6.525764e+05</td>\n",
       "      <td>5.241758e+05</td>\n",
       "      <td>40000.0</td>\n",
       "      <td>340000.0</td>\n",
       "      <td>500000.0</td>\n",
       "      <td>840000.00</td>\n",
       "      <td>5697338.0</td>\n",
       "    </tr>\n",
       "    <tr>\n",
       "      <th>INFINITI</th>\n",
       "      <td>3440.0</td>\n",
       "      <td>1.478583e+06</td>\n",
       "      <td>9.872982e+05</td>\n",
       "      <td>105000.0</td>\n",
       "      <td>760000.0</td>\n",
       "      <td>1268500.0</td>\n",
       "      <td>1800000.00</td>\n",
       "      <td>6849262.0</td>\n",
       "    </tr>\n",
       "    <tr>\n",
       "      <th>LEXUS</th>\n",
       "      <td>4786.0</td>\n",
       "      <td>2.169833e+06</td>\n",
       "      <td>1.574467e+06</td>\n",
       "      <td>65000.0</td>\n",
       "      <td>950000.0</td>\n",
       "      <td>1799000.0</td>\n",
       "      <td>2980000.00</td>\n",
       "      <td>17450000.0</td>\n",
       "    </tr>\n",
       "    <tr>\n",
       "      <th>MERCEDES</th>\n",
       "      <td>19738.0</td>\n",
       "      <td>3.993114e+06</td>\n",
       "      <td>4.282514e+06</td>\n",
       "      <td>40000.0</td>\n",
       "      <td>1050000.0</td>\n",
       "      <td>2898900.0</td>\n",
       "      <td>5344400.00</td>\n",
       "      <td>72000000.0</td>\n",
       "    </tr>\n",
       "    <tr>\n",
       "      <th>MITSUBISHI</th>\n",
       "      <td>7915.0</td>\n",
       "      <td>9.034161e+05</td>\n",
       "      <td>7.729267e+05</td>\n",
       "      <td>38000.0</td>\n",
       "      <td>280000.0</td>\n",
       "      <td>599999.0</td>\n",
       "      <td>1455500.00</td>\n",
       "      <td>3572805.0</td>\n",
       "    </tr>\n",
       "    <tr>\n",
       "      <th>NISSAN</th>\n",
       "      <td>12591.0</td>\n",
       "      <td>8.762641e+05</td>\n",
       "      <td>6.513000e+05</td>\n",
       "      <td>25000.0</td>\n",
       "      <td>400000.0</td>\n",
       "      <td>685000.0</td>\n",
       "      <td>1200000.00</td>\n",
       "      <td>7900000.0</td>\n",
       "    </tr>\n",
       "    <tr>\n",
       "      <th>SKODA</th>\n",
       "      <td>7137.0</td>\n",
       "      <td>7.478957e+05</td>\n",
       "      <td>5.043362e+05</td>\n",
       "      <td>20000.0</td>\n",
       "      <td>439000.0</td>\n",
       "      <td>615000.0</td>\n",
       "      <td>899000.00</td>\n",
       "      <td>3180000.0</td>\n",
       "    </tr>\n",
       "    <tr>\n",
       "      <th>TOYOTA</th>\n",
       "      <td>9774.0</td>\n",
       "      <td>1.399155e+06</td>\n",
       "      <td>1.235013e+06</td>\n",
       "      <td>30000.0</td>\n",
       "      <td>510000.0</td>\n",
       "      <td>1100000.0</td>\n",
       "      <td>1907442.25</td>\n",
       "      <td>25000000.0</td>\n",
       "    </tr>\n",
       "    <tr>\n",
       "      <th>VOLKSWAGEN</th>\n",
       "      <td>14890.0</td>\n",
       "      <td>1.010308e+06</td>\n",
       "      <td>9.498779e+05</td>\n",
       "      <td>23000.0</td>\n",
       "      <td>405000.0</td>\n",
       "      <td>695000.0</td>\n",
       "      <td>1350000.00</td>\n",
       "      <td>8500000.0</td>\n",
       "    </tr>\n",
       "    <tr>\n",
       "      <th>VOLVO</th>\n",
       "      <td>6696.0</td>\n",
       "      <td>1.533278e+06</td>\n",
       "      <td>1.546383e+06</td>\n",
       "      <td>20000.0</td>\n",
       "      <td>415000.0</td>\n",
       "      <td>850000.0</td>\n",
       "      <td>2200000.00</td>\n",
       "      <td>8047725.0</td>\n",
       "    </tr>\n",
       "    <tr>\n",
       "      <th>otherBrand</th>\n",
       "      <td>72803.0</td>\n",
       "      <td>8.369854e+05</td>\n",
       "      <td>1.267495e+06</td>\n",
       "      <td>16000.0</td>\n",
       "      <td>290000.0</td>\n",
       "      <td>495000.0</td>\n",
       "      <td>895000.00</td>\n",
       "      <td>99000000.0</td>\n",
       "    </tr>\n",
       "  </tbody>\n",
       "</table>\n",
       "</div>"
      ],
      "text/plain": [
       "              count          mean           std       min        25%  \\\n",
       "brand                                                                  \n",
       "AUDI         9433.0  1.522357e+06  1.561080e+06   25000.0   490000.0   \n",
       "BMW         25008.0  2.089682e+06  2.117583e+06   45000.0   680000.0   \n",
       "HONDA        2454.0  6.525764e+05  5.241758e+05   40000.0   340000.0   \n",
       "INFINITI     3440.0  1.478583e+06  9.872982e+05  105000.0   760000.0   \n",
       "LEXUS        4786.0  2.169833e+06  1.574467e+06   65000.0   950000.0   \n",
       "MERCEDES    19738.0  3.993114e+06  4.282514e+06   40000.0  1050000.0   \n",
       "MITSUBISHI   7915.0  9.034161e+05  7.729267e+05   38000.0   280000.0   \n",
       "NISSAN      12591.0  8.762641e+05  6.513000e+05   25000.0   400000.0   \n",
       "SKODA        7137.0  7.478957e+05  5.043362e+05   20000.0   439000.0   \n",
       "TOYOTA       9774.0  1.399155e+06  1.235013e+06   30000.0   510000.0   \n",
       "VOLKSWAGEN  14890.0  1.010308e+06  9.498779e+05   23000.0   405000.0   \n",
       "VOLVO        6696.0  1.533278e+06  1.546383e+06   20000.0   415000.0   \n",
       "otherBrand  72803.0  8.369854e+05  1.267495e+06   16000.0   290000.0   \n",
       "\n",
       "                  50%         75%         max  \n",
       "brand                                          \n",
       "AUDI         999000.0  1949000.00  14898500.0  \n",
       "BMW         1349000.0  2915250.00  16290000.0  \n",
       "HONDA        500000.0   840000.00   5697338.0  \n",
       "INFINITI    1268500.0  1800000.00   6849262.0  \n",
       "LEXUS       1799000.0  2980000.00  17450000.0  \n",
       "MERCEDES    2898900.0  5344400.00  72000000.0  \n",
       "MITSUBISHI   599999.0  1455500.00   3572805.0  \n",
       "NISSAN       685000.0  1200000.00   7900000.0  \n",
       "SKODA        615000.0   899000.00   3180000.0  \n",
       "TOYOTA      1100000.0  1907442.25  25000000.0  \n",
       "VOLKSWAGEN   695000.0  1350000.00   8500000.0  \n",
       "VOLVO        850000.0  2200000.00   8047725.0  \n",
       "otherBrand   495000.0   895000.00  99000000.0  "
      ]
     },
     "execution_count": 43,
     "metadata": {},
     "output_type": "execute_result"
    }
   ],
   "source": [
    "traincc.groupby('brand').price.describe()"
   ]
  },
  {
   "cell_type": "code",
   "execution_count": 44,
   "metadata": {},
   "outputs": [
    {
     "data": {
      "image/png": "[encoded data removed]",
      "text/plain": [
       "<Figure size 576x360 with 1 Axes>"
      ]
     },
     "metadata": {
      "needs_background": "light"
     },
     "output_type": "display_data"
    }
   ],
   "source": [
    "plt.figure(figsize=(8, 5))\n",
    "g1 = sns.boxplot(y='log_price', x='brand', \n",
    "                  data=traincc, color='darkgreen')\n",
    "g1.set_title(\"price of brands\", fontsize=20)\n",
    "\n",
    "g1.set_ylabel(\"log_price\", fontsize=15)\n",
    "g1.set_xticklabels(g1.get_xticklabels(),rotation=45)\n",
    "plt.show()"
   ]
  },
  {
   "cell_type": "markdown",
   "metadata": {},
   "source": [
    "**Как мы видим  BMW ,LEXUS и Mercedes дороже **"
   ]
  },
  {
   "cell_type": "code",
   "execution_count": 45,
   "metadata": {},
   "outputs": [],
   "source": [
    "traincc = traincc.assign(brand_length = traincc['brand'].apply(len))\n",
    "testcc = testcc.assign(brand_length = testcc['brand'].apply(len))"
   ]
  },
  {
   "cell_type": "code",
   "execution_count": 46,
   "metadata": {},
   "outputs": [
    {
     "data": {
      "image/png": "[encoded data removed]",
      "text/plain": [
       "<Figure size 576x360 with 1 Axes>"
      ]
     },
     "metadata": {
      "needs_background": "light"
     },
     "output_type": "display_data"
    }
   ],
   "source": [
    "plt.figure(figsize=(8, 5))\n",
    "g1 = sns.boxplot(y='log_price', x='brand_length', \n",
    "                  data=traincc, color='yellow')\n",
    "g1.set_title(\"price of brand_length\", fontsize=20)\n",
    "\n",
    "g1.set_ylabel(\"log_price\", fontsize=15)\n",
    "g1.set_xticklabels(g1.get_xticklabels(),rotation=45)\n",
    "plt.show()"
   ]
  },
  {
   "cell_type": "code",
   "execution_count": 47,
   "metadata": {},
   "outputs": [
    {
     "data": {
      "text/plain": [
       "(544, 1073)"
      ]
     },
     "execution_count": 47,
     "metadata": {},
     "output_type": "execute_result"
    }
   ],
   "source": [
    "len(testcc.model_name.value_counts()), len(traincc.model_name.value_counts())"
   ]
  },
  {
   "cell_type": "code",
   "execution_count": 48,
   "metadata": {},
   "outputs": [
    {
     "data": {
      "text/plain": [
       "(28268, 121020)"
      ]
     },
     "execution_count": 48,
     "metadata": {},
     "output_type": "execute_result"
    }
   ],
   "source": [
    "testcc.complectation_dict.isna().sum(),traincc.complectation_dict.isna().sum()"
   ]
  },
  {
   "cell_type": "code",
   "execution_count": 49,
   "metadata": {},
   "outputs": [
    {
     "data": {
      "text/plain": [
       "(9996, 121020)"
      ]
     },
     "execution_count": 49,
     "metadata": {},
     "output_type": "execute_result"
    }
   ],
   "source": [
    "testcc.equipment_dict.isna().sum(),traincc.equipment_dict.isna().sum()"
   ]
  },
  {
   "cell_type": "markdown",
   "metadata": {},
   "source": [
    "complectation_dict и equipment_dict удаляем ,много пропусков"
   ]
  },
  {
   "cell_type": "code",
   "execution_count": 50,
   "metadata": {},
   "outputs": [
    {
     "data": {
      "text/plain": [
       "(0         46\n",
       " 121020     7\n",
       " 34167      3\n",
       " 109812     2\n",
       " 196665     1\n",
       " 27692      1\n",
       " 148074     1\n",
       " 86856      1\n",
       " dtype: int64,\n",
       " 0        52\n",
       " 28268     1\n",
       " 22691     1\n",
       " 9996      1\n",
       " dtype: int64)"
      ]
     },
     "execution_count": 50,
     "metadata": {},
     "output_type": "execute_result"
    }
   ],
   "source": [
    "traincc.isna().sum().value_counts(), testcc.isna().sum().value_counts()"
   ]
  },
  {
   "cell_type": "markdown",
   "metadata": {},
   "source": [
    "У нас еще есть пропуски по train-> name , vehicleConfiguration,vehicleTransmission,Комплектация,Владельцы,Владение ,hidden , model......."
   ]
  },
  {
   "cell_type": "code",
   "execution_count": 51,
   "metadata": {},
   "outputs": [
    {
     "data": {
      "text/plain": [
       "(bodyType                     0\n",
       " brand                        0\n",
       " color                        0\n",
       " fuelType                     0\n",
       " modelDate                    0\n",
       " name                     34167\n",
       " numberOfDoors                0\n",
       " productionDate               0\n",
       " vehicleConfiguration     34167\n",
       " vehicleTransmission          0\n",
       " engineDisplacement           0\n",
       " enginePower                  0\n",
       " description                  0\n",
       " mileage                      0\n",
       " Комплектация            109812\n",
       " Привод                       0\n",
       " Руль                         0\n",
       " Владельцы                27692\n",
       " ПТС                          0\n",
       " Владение                148074\n",
       " price                        0\n",
       " start_date               34167\n",
       " hidden                  196665\n",
       " model                   109812\n",
       " complectation_dict      121020\n",
       " equipment_dict          121020\n",
       " image                   121020\n",
       " model_info              121020\n",
       " model_name               86856\n",
       " sell_id                      0\n",
       " dtype: int64,\n",
       " sell_id                          0\n",
       " super_gen                   121020\n",
       " vendor                           0\n",
       " price_EUR                   121020\n",
       " price_USD                   121020\n",
       " description_word                 0\n",
       " leather                          0\n",
       " carter                           0\n",
       " ABS                              0\n",
       " airbags                          0\n",
       " immob                            0\n",
       " central_locking                  0\n",
       " on_board_computer                0\n",
       " cruise_control                   0\n",
       " climat_control                   0\n",
       " multi_rudder                     0\n",
       " power_steering                   0\n",
       " light_and_rain_sensors           0\n",
       " сarbon_body_kits                 0\n",
       " rear_diffuser_rkp                0\n",
       " door_closers                     0\n",
       " rear_view_camera                 0\n",
       " amg                              0\n",
       " bi_xenon_headlights              0\n",
       " from_salon                       0\n",
       " alloy_wheels                     0\n",
       " parking_sensors                  0\n",
       " dents                            0\n",
       " roof_with_panoramic_view         0\n",
       " mileageNAN                       0\n",
       " log_price                        0\n",
       " bT_length                        0\n",
       " brand_length                     0\n",
       " dtype: int64)"
      ]
     },
     "execution_count": 51,
     "metadata": {},
     "output_type": "execute_result"
    }
   ],
   "source": [
    "traincc.isna().sum().head(30),traincc.isna().sum().tail(33)"
   ]
  },
  {
   "cell_type": "code",
   "execution_count": 52,
   "metadata": {},
   "outputs": [],
   "source": [
    "# testcc.isna().sum().head(30)"
   ]
  },
  {
   "cell_type": "code",
   "execution_count": 53,
   "metadata": {},
   "outputs": [],
   "source": [
    "traincc['model_name'] = traincc['model_name'].fillna(traincc['model'])"
   ]
  },
  {
   "cell_type": "code",
   "execution_count": 54,
   "metadata": {},
   "outputs": [
    {
     "data": {
      "text/plain": [
       "(4                                                  NaN\n",
       " 4    {'code': '100', 'name': '100', 'ru_name': '100...\n",
       " 4                                                  NaN\n",
       " Name: model_info, dtype: object,\n",
       " '{\"code\":\"OCTAVIA\",\"name\":\"Octavia\",\"ru_name\":\"Октавия\",\"morphology\":{\"gender\":\"FEMININE\"},\"nameplate\":{\"code\":\"\",\"name\":\"\",\"semantic_url\":\"\"}}')"
      ]
     },
     "execution_count": 54,
     "metadata": {},
     "output_type": "execute_result"
    }
   ],
   "source": [
    "traincc.model_info[4],testcc.model_info[4]"
   ]
  },
  {
   "cell_type": "code",
   "execution_count": 55,
   "metadata": {},
   "outputs": [
    {
     "data": {
      "text/plain": [
       "{\"leather\":true}                                                                                                                                                                                                                                                                                                                                                                                                                                                                                                                                           108\n",
       "{\"gbo\":true}                                                                                                                                                                                                                                                                                                                                                                                                                                                                                                                                               106\n",
       "{\"fabric-seats\":true}                                                                                                                                                                                                                                                                                                                                                                                                                                                                                                                                       59\n",
       "{\"roof-rails\":true}                                                                                                                                                                                                                                                                                                                                                                                                                                                                                                                                         37\n",
       "{\"cruise-control\":true,\"esp\":true,\"airbag-driver\":true,\"electro-window-front\":true,\"xenon\":true,\"airbag-passenger\":true,\"computer\":true,\"seat-transformation\":true,\"wheel-power\":true,\"alarm\":true,\"passenger-seat-electric\":true,\"lock\":true,\"electro-mirrors\":true,\"electro-window-back\":true,\"paint-metallic\":true,\"ptf\":true,\"airbag-side\":true,\"mirrors-heat\":true,\"hatch\":true,\"leather\":true,\"abs\":true,\"front-seats-heat\":true,\"wheel-configuration2\":true,\"wheel-configuration1\":true,\"immo\":true,\"climate-control-1\":true,\"music-super\":true}     21\n",
       "Name: equipment_dict, dtype: int64"
      ]
     },
     "execution_count": 55,
     "metadata": {},
     "output_type": "execute_result"
    }
   ],
   "source": [
    "testcc.equipment_dict.value_counts().head(5)"
   ]
  },
  {
   "cell_type": "code",
   "execution_count": 56,
   "metadata": {},
   "outputs": [
    {
     "data": {
      "text/plain": [
       "0          1.2 AMT (105 л.с.)\n",
       "1           1.6 MT (110 л.с.)\n",
       "2      DSG 1.8 AMT (152 л.с.)\n",
       "3           1.6 AT (110 л.с.)\n",
       "4           1.8 AT (152 л.с.)\n",
       "5          2.0 AMT (200 л.с.)\n",
       "6      1.8 AMT (152 л.с.) 4WD\n",
       "7           1.6 MT (102 л.с.)\n",
       "8       1.4 MT (150 л.с.) 4WD\n",
       "9       1.8 MT (152 л.с.) 4WD\n",
       "10           1.6 MT (90 л.с.)\n",
       "11         1.4 AMT (150 л.с.)\n",
       "12         1.8 AMT (180 л.с.)\n",
       "13     1.4 AMT (150 л.с.) 4WD\n",
       "14          1.6 AT (102 л.с.)\n",
       "15         1.4 AMT (150 л.с.)\n",
       "16         1.8 AMT (180 л.с.)\n",
       "17         1.4 AMT (150 л.с.)\n",
       "18          1.6 AT (110 л.с.)\n",
       "19          1.6 AT (110 л.с.)\n",
       "20     1.4 AMT (150 л.с.) 4WD\n",
       "21    2.0d AMT (150 л.с.) 4WD\n",
       "22          1.6 AT (110 л.с.)\n",
       "23          1.8 AT (152 л.с.)\n",
       "24         2.0 AMT (220 л.с.)\n",
       "25          1.2 MT (105 л.с.)\n",
       "26     DSG 1.8 AMT (152 л.с.)\n",
       "27         1.8 AMT (180 л.с.)\n",
       "28          1.4 MT (122 л.с.)\n",
       "29          1.6 AT (105 л.с.)\n",
       "Name: name, dtype: object"
      ]
     },
     "execution_count": 56,
     "metadata": {},
     "output_type": "execute_result"
    }
   ],
   "source": [
    "testcc.name[:30]"
   ]
  },
  {
   "cell_type": "markdown",
   "metadata": {},
   "source": [
    "equipment_dict,name,model_info можем удалить ,Информация продублированы"
   ]
  },
  {
   "cell_type": "markdown",
   "metadata": {},
   "source": [
    "**enginePower**"
   ]
  },
  {
   "cell_type": "code",
   "execution_count": 57,
   "metadata": {},
   "outputs": [
    {
     "data": {
      "text/plain": [
       "<matplotlib.axes._subplots.AxesSubplot at 0x7f6fd1b58a50>"
      ]
     },
     "execution_count": 57,
     "metadata": {},
     "output_type": "execute_result"
    },
    {
     "data": {
      "image/png": "[encoded data removed]",
      "text/plain": [
       "<Figure size 432x288 with 1 Axes>"
      ]
     },
     "metadata": {
      "needs_background": "light"
     },
     "output_type": "display_data"
    }
   ],
   "source": [
    "traincc['enginePower'].hist(bins=77)"
   ]
  },
  {
   "cell_type": "code",
   "execution_count": 58,
   "metadata": {},
   "outputs": [
    {
     "data": {
      "text/plain": [
       "count    196665.000000\n",
       "mean        178.837500\n",
       "std          86.239581\n",
       "min          11.000000\n",
       "25%         120.000000\n",
       "50%         150.000000\n",
       "75%         218.000000\n",
       "max         800.000000\n",
       "Name: enginePower, dtype: float64"
      ]
     },
     "execution_count": 58,
     "metadata": {},
     "output_type": "execute_result"
    }
   ],
   "source": [
    "traincc.enginePower.describe()"
   ]
  },
  {
   "cell_type": "code",
   "execution_count": 59,
   "metadata": {},
   "outputs": [],
   "source": [
    "traincc['log_power'] = np.log(traincc.enginePower)"
   ]
  },
  {
   "cell_type": "code",
   "execution_count": 60,
   "metadata": {},
   "outputs": [
    {
     "data": {
      "text/plain": [
       "<matplotlib.axes._subplots.AxesSubplot at 0x7f6fd1b0c050>"
      ]
     },
     "execution_count": 60,
     "metadata": {},
     "output_type": "execute_result"
    },
    {
     "data": {
      "image/png": "[encoded data removed]",
      "text/plain": [
       "<Figure size 432x288 with 1 Axes>"
      ]
     },
     "metadata": {
      "needs_background": "light"
     },
     "output_type": "display_data"
    }
   ],
   "source": [
    "traincc['log_power'].hist(bins=77)"
   ]
  },
  {
   "cell_type": "markdown",
   "metadata": {},
   "source": [
    "Логарифмирование enginePower метрику сильно  не улучшило.Попробуем ввести признак соответствующий налогу в зависимости от enginePower."
   ]
  },
  {
   "cell_type": "code",
   "execution_count": 61,
   "metadata": {},
   "outputs": [],
   "source": [
    "bins = [10, 35, 100, 125, 150, 175, 200, 225, 250, 801]\n",
    "numbers = ['5000','12','25','35', '45', '50', '65', '75', '150']"
   ]
  },
  {
   "cell_type": "code",
   "execution_count": 62,
   "metadata": {},
   "outputs": [],
   "source": [
    "traincc['Nalog_base']=pd.cut(traincc['enginePower'],bins,labels=numbers)\n",
    "testcc['Nalog_base']=pd.cut(testcc['enginePower'],bins,labels=numbers)\n"
   ]
  },
  {
   "cell_type": "code",
   "execution_count": 63,
   "metadata": {},
   "outputs": [],
   "source": [
    "traincc['Nalog_base'] = traincc['Nalog_base'].values.astype('int64')\n",
    "testcc['Nalog_base'] = testcc['Nalog_base'].values.astype('int64')"
   ]
  },
  {
   "cell_type": "code",
   "execution_count": 64,
   "metadata": {},
   "outputs": [
    {
     "data": {
      "text/plain": [
       "0        45\n",
       "1        12\n",
       "2        35\n",
       "3        12\n",
       "4        25\n",
       "         ..\n",
       "35266    45\n",
       "35267    45\n",
       "35268    35\n",
       "35269    25\n",
       "35270    50\n",
       "Name: Nalog_base, Length: 196665, dtype: int64"
      ]
     },
     "execution_count": 64,
     "metadata": {},
     "output_type": "execute_result"
    }
   ],
   "source": [
    "traincc['Nalog_base']"
   ]
  },
  {
   "cell_type": "code",
   "execution_count": 65,
   "metadata": {},
   "outputs": [],
   "source": [
    "testcc['enginePower'] = testcc['enginePower'].astype(float)"
   ]
  },
  {
   "cell_type": "code",
   "execution_count": 66,
   "metadata": {},
   "outputs": [
    {
     "data": {
      "text/plain": [
       "count    34686.000000\n",
       "mean       188.194142\n",
       "std         89.087035\n",
       "min         30.000000\n",
       "25%        125.000000\n",
       "50%        169.000000\n",
       "75%        233.000000\n",
       "max        639.000000\n",
       "Name: enginePower, dtype: float64"
      ]
     },
     "execution_count": 66,
     "metadata": {},
     "output_type": "execute_result"
    }
   ],
   "source": [
    "testcc.enginePower.describe()"
   ]
  },
  {
   "cell_type": "code",
   "execution_count": 67,
   "metadata": {},
   "outputs": [],
   "source": [
    "testcc['log_power'] = np.log(testcc.enginePower)"
   ]
  },
  {
   "cell_type": "code",
   "execution_count": 68,
   "metadata": {},
   "outputs": [],
   "source": [
    "traincc['Nalog'] = traincc['enginePower'] * traincc['Nalog_base']\n",
    "testcc['Nalog'] = testcc['enginePower'] * testcc['Nalog_base']"
   ]
  },
  {
   "cell_type": "code",
   "execution_count": 69,
   "metadata": {},
   "outputs": [
    {
     "data": {
      "text/plain": [
       "(0        7830\n",
       " 1        1080\n",
       " 2        4760\n",
       " 3        1080\n",
       " 4        2525\n",
       "          ... \n",
       " 35266    7650\n",
       " 35267    7200\n",
       " 35268    4585\n",
       " 35269    2725\n",
       " 35270    9000\n",
       " Name: Nalog, Length: 196665, dtype: int64,\n",
       " 0         2625.0\n",
       " 1         2750.0\n",
       " 2         6840.0\n",
       " 3         2750.0\n",
       " 4         6840.0\n",
       "           ...   \n",
       " 34681     4760.0\n",
       " 34682     9500.0\n",
       " 34683     7650.0\n",
       " 34684     9200.0\n",
       " 34685    17625.0\n",
       " Name: Nalog, Length: 34686, dtype: float64)"
      ]
     },
     "execution_count": 69,
     "metadata": {},
     "output_type": "execute_result"
    }
   ],
   "source": [
    "traincc['Nalog'] ,testcc['Nalog']"
   ]
  },
  {
   "cell_type": "code",
   "execution_count": 70,
   "metadata": {},
   "outputs": [
    {
     "data": {
      "image/png": "[encoded data removed]",
      "text/plain": [
       "<Figure size 576x360 with 1 Axes>"
      ]
     },
     "metadata": {
      "needs_background": "light"
     },
     "output_type": "display_data"
    }
   ],
   "source": [
    "plt.figure(figsize=(8, 5))\n",
    "g1 = sns.boxplot(y='log_price', x='Nalog_base', \n",
    "                  data=traincc, color='salmon')\n",
    "g1.set_title(\"price of Nalog\", fontsize=20)\n",
    "\n",
    "g1.set_ylabel(\"log_price\", fontsize=15)\n",
    "g1.set_xticklabels(g1.get_xticklabels(),rotation=45)\n",
    "plt.show()"
   ]
  },
  {
   "cell_type": "code",
   "execution_count": 71,
   "metadata": {},
   "outputs": [
    {
     "data": {
      "text/plain": [
       "<matplotlib.axes._subplots.AxesSubplot at 0x7f6fd1727550>"
      ]
     },
     "execution_count": 71,
     "metadata": {},
     "output_type": "execute_result"
    },
    {
     "data": {
      "image/png": "[encoded data removed]",
      "text/plain": [
       "<Figure size 432x288 with 1 Axes>"
      ]
     },
     "metadata": {
      "needs_background": "light"
     },
     "output_type": "display_data"
    }
   ],
   "source": [
    "traincc.groupby('Nalog').price.mean().plot()\n"
   ]
  },
  {
   "cell_type": "markdown",
   "metadata": {},
   "source": [
    "engineDisplacement"
   ]
  },
  {
   "cell_type": "code",
   "execution_count": 72,
   "metadata": {},
   "outputs": [
    {
     "data": {
      "text/plain": [
       "1.6          32135\n",
       "2.0          27700\n",
       "1.4          10290\n",
       "1.8           9597\n",
       "2.0 LTR       9052\n",
       "             ...  \n",
       "1.4hyb           1\n",
       "Z06              1\n",
       "+                1\n",
       "535xi            1\n",
       "Донинвест        1\n",
       "Name: engineDisplacement, Length: 592, dtype: int64"
      ]
     },
     "execution_count": 72,
     "metadata": {},
     "output_type": "execute_result"
    }
   ],
   "source": [
    "traincc.engineDisplacement.value_counts()"
   ]
  },
  {
   "cell_type": "code",
   "execution_count": 73,
   "metadata": {},
   "outputs": [],
   "source": [
    "traincc['engineDisplacement'] = traincc['engineDisplacement'].apply(lambda x: x[:3])\n",
    "testcc['engineDisplacement'] = testcc['engineDisplacement'].apply(lambda x: x[:3])"
   ]
  },
  {
   "cell_type": "code",
   "execution_count": 74,
   "metadata": {},
   "outputs": [
    {
     "data": {
      "text/plain": [
       "2.0    43031\n",
       "1.6    35843\n",
       "3.0    14368\n",
       "1.8    12109\n",
       "1.4    11515\n",
       "2.5    10527\n",
       "2.4     8250\n",
       "1.5     5433\n",
       "3.5     4631\n",
       "4.4     2036\n",
       "1.3     1988\n",
       "2.2     1987\n",
       "2.3     1928\n",
       "1.2     1885\n",
       "1.7     1519\n",
       "2.9     1514\n",
       "200     1504\n",
       "350     1436\n",
       "2.7     1383\n",
       "4.0     1225\n",
       "2.8     1140\n",
       "3.6     1136\n",
       "3.2     1126\n",
       "320     1092\n",
       "4.5     1089\n",
       "4.7      802\n",
       "3.7      765\n",
       "1.9      762\n",
       "4.2      675\n",
       "520      662\n",
       "2.1      661\n",
       "300      661\n",
       "0.8      619\n",
       "5.7      583\n",
       "250      581\n",
       "500      568\n",
       "4.6      567\n",
       "5.6      553\n",
       "5.0      539\n",
       "450      501\n",
       "4.8      498\n",
       "Name: engineDisplacement, dtype: int64"
      ]
     },
     "execution_count": 74,
     "metadata": {},
     "output_type": "execute_result"
    }
   ],
   "source": [
    "traincc['engineDisplacement'].value_counts().head(41)"
   ]
  },
  {
   "cell_type": "code",
   "execution_count": 75,
   "metadata": {},
   "outputs": [
    {
     "data": {
      "text/html": [
       "<div>\n",
       "<style scoped>\n",
       "    .dataframe tbody tr th:only-of-type {\n",
       "        vertical-align: middle;\n",
       "    }\n",
       "\n",
       "    .dataframe tbody tr th {\n",
       "        vertical-align: top;\n",
       "    }\n",
       "\n",
       "    .dataframe thead th {\n",
       "        text-align: right;\n",
       "    }\n",
       "</style>\n",
       "<table border=\"1\" class=\"dataframe\">\n",
       "  <thead>\n",
       "    <tr style=\"text-align: right;\">\n",
       "      <th></th>\n",
       "      <th>bodyType</th>\n",
       "      <th>brand</th>\n",
       "      <th>color</th>\n",
       "      <th>fuelType</th>\n",
       "      <th>modelDate</th>\n",
       "      <th>name</th>\n",
       "      <th>numberOfDoors</th>\n",
       "      <th>productionDate</th>\n",
       "      <th>vehicleConfiguration</th>\n",
       "      <th>vehicleTransmission</th>\n",
       "      <th>...</th>\n",
       "      <th>parking_sensors</th>\n",
       "      <th>dents</th>\n",
       "      <th>roof_with_panoramic_view</th>\n",
       "      <th>mileageNAN</th>\n",
       "      <th>log_price</th>\n",
       "      <th>bT_length</th>\n",
       "      <th>brand_length</th>\n",
       "      <th>log_power</th>\n",
       "      <th>Nalog_base</th>\n",
       "      <th>Nalog</th>\n",
       "    </tr>\n",
       "  </thead>\n",
       "  <tbody>\n",
       "    <tr>\n",
       "      <th>45</th>\n",
       "      <td>седан</td>\n",
       "      <td>AUDI</td>\n",
       "      <td>чёрный</td>\n",
       "      <td>бензин</td>\n",
       "      <td>1990</td>\n",
       "      <td>S4 2.2 AT (230 л.с.) 4WD</td>\n",
       "      <td>4</td>\n",
       "      <td>1992</td>\n",
       "      <td>SEDAN AUTOMATIC S4</td>\n",
       "      <td>автоматическая</td>\n",
       "      <td>...</td>\n",
       "      <td>0</td>\n",
       "      <td>0</td>\n",
       "      <td>0</td>\n",
       "      <td>0</td>\n",
       "      <td>12.301383</td>\n",
       "      <td>5</td>\n",
       "      <td>4</td>\n",
       "      <td>5.438079</td>\n",
       "      <td>75</td>\n",
       "      <td>17250</td>\n",
       "    </tr>\n",
       "    <tr>\n",
       "      <th>63640</th>\n",
       "      <td>седан</td>\n",
       "      <td>otherBrand</td>\n",
       "      <td>серебристый</td>\n",
       "      <td>бензин</td>\n",
       "      <td>2014</td>\n",
       "      <td>S4 2.0 CVT (300 л.с.) 4WD</td>\n",
       "      <td>4</td>\n",
       "      <td>2014</td>\n",
       "      <td>SEDAN VARIATOR S4</td>\n",
       "      <td>вариатор</td>\n",
       "      <td>...</td>\n",
       "      <td>0</td>\n",
       "      <td>0</td>\n",
       "      <td>0</td>\n",
       "      <td>0</td>\n",
       "      <td>14.187074</td>\n",
       "      <td>5</td>\n",
       "      <td>10</td>\n",
       "      <td>5.703782</td>\n",
       "      <td>150</td>\n",
       "      <td>45000</td>\n",
       "    </tr>\n",
       "  </tbody>\n",
       "</table>\n",
       "<p>2 rows × 65 columns</p>\n",
       "</div>"
      ],
      "text/plain": [
       "      bodyType       brand        color fuelType  modelDate  \\\n",
       "45       седан        AUDI       чёрный   бензин       1990   \n",
       "63640    седан  otherBrand  серебристый   бензин       2014   \n",
       "\n",
       "                            name  numberOfDoors  productionDate  \\\n",
       "45      S4 2.2 AT (230 л.с.) 4WD              4            1992   \n",
       "63640  S4 2.0 CVT (300 л.с.) 4WD              4            2014   \n",
       "\n",
       "      vehicleConfiguration vehicleTransmission  ... parking_sensors  dents  \\\n",
       "45      SEDAN AUTOMATIC S4      автоматическая  ...               0      0   \n",
       "63640    SEDAN VARIATOR S4            вариатор  ...               0      0   \n",
       "\n",
       "      roof_with_panoramic_view  mileageNAN  log_price bT_length brand_length  \\\n",
       "45                           0           0  12.301383         5            4   \n",
       "63640                        0           0  14.187074         5           10   \n",
       "\n",
       "      log_power Nalog_base  Nalog  \n",
       "45     5.438079         75  17250  \n",
       "63640  5.703782        150  45000  \n",
       "\n",
       "[2 rows x 65 columns]"
      ]
     },
     "execution_count": 75,
     "metadata": {},
     "output_type": "execute_result"
    }
   ],
   "source": [
    "traincc[traincc['engineDisplacement'] == 'S4']"
   ]
  },
  {
   "cell_type": "code",
   "execution_count": 76,
   "metadata": {},
   "outputs": [
    {
     "data": {
      "text/plain": [
       "55"
      ]
     },
     "execution_count": 76,
     "metadata": {},
     "output_type": "execute_result"
    }
   ],
   "source": [
    "len(testcc[testcc['engineDisplacement'] == ' LT'])"
   ]
  },
  {
   "cell_type": "code",
   "execution_count": 77,
   "metadata": {},
   "outputs": [
    {
     "data": {
      "text/html": [
       "<div>\n",
       "<style scoped>\n",
       "    .dataframe tbody tr th:only-of-type {\n",
       "        vertical-align: middle;\n",
       "    }\n",
       "\n",
       "    .dataframe tbody tr th {\n",
       "        vertical-align: top;\n",
       "    }\n",
       "\n",
       "    .dataframe thead th {\n",
       "        text-align: right;\n",
       "    }\n",
       "</style>\n",
       "<table border=\"1\" class=\"dataframe\">\n",
       "  <thead>\n",
       "    <tr style=\"text-align: right;\">\n",
       "      <th></th>\n",
       "      <th>bodyType</th>\n",
       "      <th>brand</th>\n",
       "      <th>color</th>\n",
       "      <th>fuelType</th>\n",
       "      <th>modelDate</th>\n",
       "      <th>name</th>\n",
       "      <th>numberOfDoors</th>\n",
       "      <th>productionDate</th>\n",
       "      <th>vehicleConfiguration</th>\n",
       "      <th>vehicleTransmission</th>\n",
       "      <th>...</th>\n",
       "      <th>parking_sensors</th>\n",
       "      <th>dents</th>\n",
       "      <th>roof_with_panoramic_view</th>\n",
       "      <th>mileageNAN</th>\n",
       "      <th>log_price</th>\n",
       "      <th>bT_length</th>\n",
       "      <th>brand_length</th>\n",
       "      <th>log_power</th>\n",
       "      <th>Nalog_base</th>\n",
       "      <th>Nalog</th>\n",
       "    </tr>\n",
       "  </thead>\n",
       "  <tbody>\n",
       "    <tr>\n",
       "      <th>15011</th>\n",
       "      <td>хэтчбек 5 дв.</td>\n",
       "      <td>BMW</td>\n",
       "      <td>серый</td>\n",
       "      <td>электро</td>\n",
       "      <td>2013</td>\n",
       "      <td>NaN</td>\n",
       "      <td>5</td>\n",
       "      <td>2017</td>\n",
       "      <td>NaN</td>\n",
       "      <td>автоматическая</td>\n",
       "      <td>...</td>\n",
       "      <td>0</td>\n",
       "      <td>0</td>\n",
       "      <td>0</td>\n",
       "      <td>0</td>\n",
       "      <td>14.403297</td>\n",
       "      <td>13</td>\n",
       "      <td>3</td>\n",
       "      <td>5.135798</td>\n",
       "      <td>45</td>\n",
       "      <td>7650</td>\n",
       "    </tr>\n",
       "    <tr>\n",
       "      <th>15013</th>\n",
       "      <td>хэтчбек 5 дв.</td>\n",
       "      <td>BMW</td>\n",
       "      <td>синий</td>\n",
       "      <td>электро</td>\n",
       "      <td>2017</td>\n",
       "      <td>NaN</td>\n",
       "      <td>5</td>\n",
       "      <td>2017</td>\n",
       "      <td>NaN</td>\n",
       "      <td>автоматическая</td>\n",
       "      <td>...</td>\n",
       "      <td>0</td>\n",
       "      <td>0</td>\n",
       "      <td>0</td>\n",
       "      <td>0</td>\n",
       "      <td>14.557448</td>\n",
       "      <td>13</td>\n",
       "      <td>3</td>\n",
       "      <td>5.214936</td>\n",
       "      <td>50</td>\n",
       "      <td>9200</td>\n",
       "    </tr>\n",
       "    <tr>\n",
       "      <th>15019</th>\n",
       "      <td>хэтчбек 5 дв.</td>\n",
       "      <td>BMW</td>\n",
       "      <td>серый</td>\n",
       "      <td>электро</td>\n",
       "      <td>2017</td>\n",
       "      <td>NaN</td>\n",
       "      <td>5</td>\n",
       "      <td>2018</td>\n",
       "      <td>NaN</td>\n",
       "      <td>автоматическая</td>\n",
       "      <td>...</td>\n",
       "      <td>0</td>\n",
       "      <td>0</td>\n",
       "      <td>0</td>\n",
       "      <td>0</td>\n",
       "      <td>14.483340</td>\n",
       "      <td>13</td>\n",
       "      <td>3</td>\n",
       "      <td>5.135798</td>\n",
       "      <td>45</td>\n",
       "      <td>7650</td>\n",
       "    </tr>\n",
       "    <tr>\n",
       "      <th>15022</th>\n",
       "      <td>хэтчбек 5 дв.</td>\n",
       "      <td>BMW</td>\n",
       "      <td>чёрный</td>\n",
       "      <td>электро</td>\n",
       "      <td>2013</td>\n",
       "      <td>NaN</td>\n",
       "      <td>5</td>\n",
       "      <td>2015</td>\n",
       "      <td>NaN</td>\n",
       "      <td>автоматическая</td>\n",
       "      <td>...</td>\n",
       "      <td>0</td>\n",
       "      <td>0</td>\n",
       "      <td>0</td>\n",
       "      <td>0</td>\n",
       "      <td>13.864301</td>\n",
       "      <td>13</td>\n",
       "      <td>3</td>\n",
       "      <td>5.135798</td>\n",
       "      <td>45</td>\n",
       "      <td>7650</td>\n",
       "    </tr>\n",
       "    <tr>\n",
       "      <th>15029</th>\n",
       "      <td>хэтчбек 5 дв.</td>\n",
       "      <td>BMW</td>\n",
       "      <td>белый</td>\n",
       "      <td>электро</td>\n",
       "      <td>2013</td>\n",
       "      <td>NaN</td>\n",
       "      <td>5</td>\n",
       "      <td>2016</td>\n",
       "      <td>NaN</td>\n",
       "      <td>автоматическая</td>\n",
       "      <td>...</td>\n",
       "      <td>0</td>\n",
       "      <td>0</td>\n",
       "      <td>0</td>\n",
       "      <td>0</td>\n",
       "      <td>13.955273</td>\n",
       "      <td>13</td>\n",
       "      <td>3</td>\n",
       "      <td>5.135798</td>\n",
       "      <td>45</td>\n",
       "      <td>7650</td>\n",
       "    </tr>\n",
       "    <tr>\n",
       "      <th>15031</th>\n",
       "      <td>хэтчбек 5 дв.</td>\n",
       "      <td>BMW</td>\n",
       "      <td>серый</td>\n",
       "      <td>электро</td>\n",
       "      <td>2013</td>\n",
       "      <td>NaN</td>\n",
       "      <td>5</td>\n",
       "      <td>2014</td>\n",
       "      <td>NaN</td>\n",
       "      <td>автоматическая</td>\n",
       "      <td>...</td>\n",
       "      <td>0</td>\n",
       "      <td>0</td>\n",
       "      <td>0</td>\n",
       "      <td>0</td>\n",
       "      <td>14.508658</td>\n",
       "      <td>13</td>\n",
       "      <td>3</td>\n",
       "      <td>5.135798</td>\n",
       "      <td>45</td>\n",
       "      <td>7650</td>\n",
       "    </tr>\n",
       "    <tr>\n",
       "      <th>15032</th>\n",
       "      <td>хэтчбек 5 дв.</td>\n",
       "      <td>BMW</td>\n",
       "      <td>чёрный</td>\n",
       "      <td>электро</td>\n",
       "      <td>2013</td>\n",
       "      <td>NaN</td>\n",
       "      <td>5</td>\n",
       "      <td>2014</td>\n",
       "      <td>NaN</td>\n",
       "      <td>автоматическая</td>\n",
       "      <td>...</td>\n",
       "      <td>0</td>\n",
       "      <td>0</td>\n",
       "      <td>0</td>\n",
       "      <td>0</td>\n",
       "      <td>14.247293</td>\n",
       "      <td>13</td>\n",
       "      <td>3</td>\n",
       "      <td>5.135798</td>\n",
       "      <td>45</td>\n",
       "      <td>7650</td>\n",
       "    </tr>\n",
       "    <tr>\n",
       "      <th>15033</th>\n",
       "      <td>хэтчбек 5 дв.</td>\n",
       "      <td>BMW</td>\n",
       "      <td>красный</td>\n",
       "      <td>электро</td>\n",
       "      <td>2013</td>\n",
       "      <td>NaN</td>\n",
       "      <td>5</td>\n",
       "      <td>2014</td>\n",
       "      <td>NaN</td>\n",
       "      <td>автоматическая</td>\n",
       "      <td>...</td>\n",
       "      <td>0</td>\n",
       "      <td>0</td>\n",
       "      <td>0</td>\n",
       "      <td>0</td>\n",
       "      <td>14.124465</td>\n",
       "      <td>13</td>\n",
       "      <td>3</td>\n",
       "      <td>5.135798</td>\n",
       "      <td>45</td>\n",
       "      <td>7650</td>\n",
       "    </tr>\n",
       "    <tr>\n",
       "      <th>15038</th>\n",
       "      <td>хэтчбек 5 дв.</td>\n",
       "      <td>BMW</td>\n",
       "      <td>чёрный</td>\n",
       "      <td>электро</td>\n",
       "      <td>2013</td>\n",
       "      <td>NaN</td>\n",
       "      <td>5</td>\n",
       "      <td>2015</td>\n",
       "      <td>NaN</td>\n",
       "      <td>автоматическая</td>\n",
       "      <td>...</td>\n",
       "      <td>0</td>\n",
       "      <td>0</td>\n",
       "      <td>0</td>\n",
       "      <td>0</td>\n",
       "      <td>13.955273</td>\n",
       "      <td>13</td>\n",
       "      <td>3</td>\n",
       "      <td>5.135798</td>\n",
       "      <td>45</td>\n",
       "      <td>7650</td>\n",
       "    </tr>\n",
       "    <tr>\n",
       "      <th>15041</th>\n",
       "      <td>хэтчбек 5 дв.</td>\n",
       "      <td>BMW</td>\n",
       "      <td>синий</td>\n",
       "      <td>электро</td>\n",
       "      <td>2017</td>\n",
       "      <td>NaN</td>\n",
       "      <td>5</td>\n",
       "      <td>2018</td>\n",
       "      <td>NaN</td>\n",
       "      <td>автоматическая</td>\n",
       "      <td>...</td>\n",
       "      <td>0</td>\n",
       "      <td>0</td>\n",
       "      <td>0</td>\n",
       "      <td>0</td>\n",
       "      <td>14.815775</td>\n",
       "      <td>13</td>\n",
       "      <td>3</td>\n",
       "      <td>5.214936</td>\n",
       "      <td>50</td>\n",
       "      <td>9200</td>\n",
       "    </tr>\n",
       "    <tr>\n",
       "      <th>15045</th>\n",
       "      <td>хэтчбек 5 дв.</td>\n",
       "      <td>BMW</td>\n",
       "      <td>серебристый</td>\n",
       "      <td>электро</td>\n",
       "      <td>2013</td>\n",
       "      <td>NaN</td>\n",
       "      <td>5</td>\n",
       "      <td>2014</td>\n",
       "      <td>NaN</td>\n",
       "      <td>автоматическая</td>\n",
       "      <td>...</td>\n",
       "      <td>0</td>\n",
       "      <td>0</td>\n",
       "      <td>0</td>\n",
       "      <td>0</td>\n",
       "      <td>14.269766</td>\n",
       "      <td>13</td>\n",
       "      <td>3</td>\n",
       "      <td>5.135798</td>\n",
       "      <td>45</td>\n",
       "      <td>7650</td>\n",
       "    </tr>\n",
       "    <tr>\n",
       "      <th>15046</th>\n",
       "      <td>хэтчбек 5 дв.</td>\n",
       "      <td>BMW</td>\n",
       "      <td>коричневый</td>\n",
       "      <td>электро</td>\n",
       "      <td>2013</td>\n",
       "      <td>NaN</td>\n",
       "      <td>5</td>\n",
       "      <td>2015</td>\n",
       "      <td>NaN</td>\n",
       "      <td>автоматическая</td>\n",
       "      <td>...</td>\n",
       "      <td>0</td>\n",
       "      <td>0</td>\n",
       "      <td>0</td>\n",
       "      <td>0</td>\n",
       "      <td>14.195316</td>\n",
       "      <td>13</td>\n",
       "      <td>3</td>\n",
       "      <td>5.135798</td>\n",
       "      <td>45</td>\n",
       "      <td>7650</td>\n",
       "    </tr>\n",
       "    <tr>\n",
       "      <th>23584</th>\n",
       "      <td>хэтчбек 5 дв.</td>\n",
       "      <td>VOLKSWAGEN</td>\n",
       "      <td>чёрный</td>\n",
       "      <td>электро</td>\n",
       "      <td>2012</td>\n",
       "      <td>NaN</td>\n",
       "      <td>5</td>\n",
       "      <td>2016</td>\n",
       "      <td>NaN</td>\n",
       "      <td>автоматическая</td>\n",
       "      <td>...</td>\n",
       "      <td>0</td>\n",
       "      <td>0</td>\n",
       "      <td>0</td>\n",
       "      <td>0</td>\n",
       "      <td>14.478199</td>\n",
       "      <td>13</td>\n",
       "      <td>10</td>\n",
       "      <td>4.744932</td>\n",
       "      <td>25</td>\n",
       "      <td>2875</td>\n",
       "    </tr>\n",
       "  </tbody>\n",
       "</table>\n",
       "<p>13 rows × 65 columns</p>\n",
       "</div>"
      ],
      "text/plain": [
       "            bodyType       brand        color fuelType  modelDate name  \\\n",
       "15011  хэтчбек 5 дв.         BMW        серый  электро       2013  NaN   \n",
       "15013  хэтчбек 5 дв.         BMW        синий  электро       2017  NaN   \n",
       "15019  хэтчбек 5 дв.         BMW        серый  электро       2017  NaN   \n",
       "15022  хэтчбек 5 дв.         BMW       чёрный  электро       2013  NaN   \n",
       "15029  хэтчбек 5 дв.         BMW        белый  электро       2013  NaN   \n",
       "15031  хэтчбек 5 дв.         BMW        серый  электро       2013  NaN   \n",
       "15032  хэтчбек 5 дв.         BMW       чёрный  электро       2013  NaN   \n",
       "15033  хэтчбек 5 дв.         BMW      красный  электро       2013  NaN   \n",
       "15038  хэтчбек 5 дв.         BMW       чёрный  электро       2013  NaN   \n",
       "15041  хэтчбек 5 дв.         BMW        синий  электро       2017  NaN   \n",
       "15045  хэтчбек 5 дв.         BMW  серебристый  электро       2013  NaN   \n",
       "15046  хэтчбек 5 дв.         BMW   коричневый  электро       2013  NaN   \n",
       "23584  хэтчбек 5 дв.  VOLKSWAGEN       чёрный  электро       2012  NaN   \n",
       "\n",
       "       numberOfDoors  productionDate vehicleConfiguration vehicleTransmission  \\\n",
       "15011              5            2017                  NaN      автоматическая   \n",
       "15013              5            2017                  NaN      автоматическая   \n",
       "15019              5            2018                  NaN      автоматическая   \n",
       "15022              5            2015                  NaN      автоматическая   \n",
       "15029              5            2016                  NaN      автоматическая   \n",
       "15031              5            2014                  NaN      автоматическая   \n",
       "15032              5            2014                  NaN      автоматическая   \n",
       "15033              5            2014                  NaN      автоматическая   \n",
       "15038              5            2015                  NaN      автоматическая   \n",
       "15041              5            2018                  NaN      автоматическая   \n",
       "15045              5            2014                  NaN      автоматическая   \n",
       "15046              5            2015                  NaN      автоматическая   \n",
       "23584              5            2016                  NaN      автоматическая   \n",
       "\n",
       "       ... parking_sensors  dents roof_with_panoramic_view  mileageNAN  \\\n",
       "15011  ...               0      0                        0           0   \n",
       "15013  ...               0      0                        0           0   \n",
       "15019  ...               0      0                        0           0   \n",
       "15022  ...               0      0                        0           0   \n",
       "15029  ...               0      0                        0           0   \n",
       "15031  ...               0      0                        0           0   \n",
       "15032  ...               0      0                        0           0   \n",
       "15033  ...               0      0                        0           0   \n",
       "15038  ...               0      0                        0           0   \n",
       "15041  ...               0      0                        0           0   \n",
       "15045  ...               0      0                        0           0   \n",
       "15046  ...               0      0                        0           0   \n",
       "23584  ...               0      0                        0           0   \n",
       "\n",
       "       log_price bT_length brand_length log_power Nalog_base Nalog  \n",
       "15011  14.403297        13            3  5.135798         45  7650  \n",
       "15013  14.557448        13            3  5.214936         50  9200  \n",
       "15019  14.483340        13            3  5.135798         45  7650  \n",
       "15022  13.864301        13            3  5.135798         45  7650  \n",
       "15029  13.955273        13            3  5.135798         45  7650  \n",
       "15031  14.508658        13            3  5.135798         45  7650  \n",
       "15032  14.247293        13            3  5.135798         45  7650  \n",
       "15033  14.124465        13            3  5.135798         45  7650  \n",
       "15038  13.955273        13            3  5.135798         45  7650  \n",
       "15041  14.815775        13            3  5.214936         50  9200  \n",
       "15045  14.269766        13            3  5.135798         45  7650  \n",
       "15046  14.195316        13            3  5.135798         45  7650  \n",
       "23584  14.478199        13           10  4.744932         25  2875  \n",
       "\n",
       "[13 rows x 65 columns]"
      ]
     },
     "execution_count": 77,
     "metadata": {},
     "output_type": "execute_result"
    }
   ],
   "source": [
    "traincc[traincc['engineDisplacement'] == ' LT']"
   ]
  },
  {
   "cell_type": "code",
   "execution_count": 78,
   "metadata": {},
   "outputs": [
    {
     "data": {
      "text/html": [
       "<div>\n",
       "<style scoped>\n",
       "    .dataframe tbody tr th:only-of-type {\n",
       "        vertical-align: middle;\n",
       "    }\n",
       "\n",
       "    .dataframe tbody tr th {\n",
       "        vertical-align: top;\n",
       "    }\n",
       "\n",
       "    .dataframe thead th {\n",
       "        text-align: right;\n",
       "    }\n",
       "</style>\n",
       "<table border=\"1\" class=\"dataframe\">\n",
       "  <thead>\n",
       "    <tr style=\"text-align: right;\">\n",
       "      <th></th>\n",
       "      <th>count</th>\n",
       "      <th>mean</th>\n",
       "      <th>std</th>\n",
       "      <th>min</th>\n",
       "      <th>25%</th>\n",
       "      <th>50%</th>\n",
       "      <th>75%</th>\n",
       "      <th>max</th>\n",
       "    </tr>\n",
       "    <tr>\n",
       "      <th>engineDisplacement</th>\n",
       "      <th></th>\n",
       "      <th></th>\n",
       "      <th></th>\n",
       "      <th></th>\n",
       "      <th></th>\n",
       "      <th></th>\n",
       "      <th></th>\n",
       "      <th></th>\n",
       "    </tr>\n",
       "  </thead>\n",
       "  <tbody>\n",
       "    <tr>\n",
       "      <th>LT</th>\n",
       "      <td>13.0</td>\n",
       "      <td>167.923077</td>\n",
       "      <td>16.735499</td>\n",
       "      <td>115.0</td>\n",
       "      <td>170.0</td>\n",
       "      <td>170.0</td>\n",
       "      <td>170.0</td>\n",
       "      <td>184.0</td>\n",
       "    </tr>\n",
       "    <tr>\n",
       "      <th>+</th>\n",
       "      <td>1.0</td>\n",
       "      <td>75.000000</td>\n",
       "      <td>NaN</td>\n",
       "      <td>75.0</td>\n",
       "      <td>75.0</td>\n",
       "      <td>75.0</td>\n",
       "      <td>75.0</td>\n",
       "      <td>75.0</td>\n",
       "    </tr>\n",
       "    <tr>\n",
       "      <th>0.6</th>\n",
       "      <td>8.0</td>\n",
       "      <td>173.500000</td>\n",
       "      <td>6.480741</td>\n",
       "      <td>170.0</td>\n",
       "      <td>170.0</td>\n",
       "      <td>170.0</td>\n",
       "      <td>173.5</td>\n",
       "      <td>184.0</td>\n",
       "    </tr>\n",
       "    <tr>\n",
       "      <th>0.7</th>\n",
       "      <td>166.0</td>\n",
       "      <td>75.843373</td>\n",
       "      <td>44.254356</td>\n",
       "      <td>45.0</td>\n",
       "      <td>52.0</td>\n",
       "      <td>58.0</td>\n",
       "      <td>64.0</td>\n",
       "      <td>184.0</td>\n",
       "    </tr>\n",
       "    <tr>\n",
       "      <th>0.8</th>\n",
       "      <td>619.0</td>\n",
       "      <td>51.767367</td>\n",
       "      <td>1.667557</td>\n",
       "      <td>38.0</td>\n",
       "      <td>52.0</td>\n",
       "      <td>52.0</td>\n",
       "      <td>52.0</td>\n",
       "      <td>52.0</td>\n",
       "    </tr>\n",
       "    <tr>\n",
       "      <th>1.0</th>\n",
       "      <td>384.0</td>\n",
       "      <td>64.705729</td>\n",
       "      <td>6.846651</td>\n",
       "      <td>42.0</td>\n",
       "      <td>60.0</td>\n",
       "      <td>67.0</td>\n",
       "      <td>68.0</td>\n",
       "      <td>125.0</td>\n",
       "    </tr>\n",
       "    <tr>\n",
       "      <th>1.1</th>\n",
       "      <td>144.0</td>\n",
       "      <td>65.090278</td>\n",
       "      <td>8.006914</td>\n",
       "      <td>30.0</td>\n",
       "      <td>64.0</td>\n",
       "      <td>66.0</td>\n",
       "      <td>68.0</td>\n",
       "      <td>101.0</td>\n",
       "    </tr>\n",
       "    <tr>\n",
       "      <th>1.2</th>\n",
       "      <td>1885.0</td>\n",
       "      <td>89.402653</td>\n",
       "      <td>16.469804</td>\n",
       "      <td>44.0</td>\n",
       "      <td>75.0</td>\n",
       "      <td>85.0</td>\n",
       "      <td>105.0</td>\n",
       "      <td>116.0</td>\n",
       "    </tr>\n",
       "    <tr>\n",
       "      <th>1.3</th>\n",
       "      <td>1988.0</td>\n",
       "      <td>107.733903</td>\n",
       "      <td>38.976902</td>\n",
       "      <td>40.0</td>\n",
       "      <td>82.0</td>\n",
       "      <td>88.0</td>\n",
       "      <td>150.0</td>\n",
       "      <td>255.0</td>\n",
       "    </tr>\n",
       "    <tr>\n",
       "      <th>1.4</th>\n",
       "      <td>11515.0</td>\n",
       "      <td>111.493183</td>\n",
       "      <td>27.151238</td>\n",
       "      <td>55.0</td>\n",
       "      <td>90.0</td>\n",
       "      <td>107.0</td>\n",
       "      <td>140.0</td>\n",
       "      <td>180.0</td>\n",
       "    </tr>\n",
       "    <tr>\n",
       "      <th>1.5</th>\n",
       "      <td>5433.0</td>\n",
       "      <td>103.839867</td>\n",
       "      <td>23.034914</td>\n",
       "      <td>42.0</td>\n",
       "      <td>86.0</td>\n",
       "      <td>99.0</td>\n",
       "      <td>109.0</td>\n",
       "      <td>231.0</td>\n",
       "    </tr>\n",
       "    <tr>\n",
       "      <th>1.6</th>\n",
       "      <td>35843.0</td>\n",
       "      <td>113.176910</td>\n",
       "      <td>17.024837</td>\n",
       "      <td>46.0</td>\n",
       "      <td>103.0</td>\n",
       "      <td>110.0</td>\n",
       "      <td>123.0</td>\n",
       "      <td>218.0</td>\n",
       "    </tr>\n",
       "    <tr>\n",
       "      <th>1.7</th>\n",
       "      <td>1519.0</td>\n",
       "      <td>84.730744</td>\n",
       "      <td>13.808374</td>\n",
       "      <td>38.0</td>\n",
       "      <td>80.0</td>\n",
       "      <td>80.0</td>\n",
       "      <td>80.0</td>\n",
       "      <td>141.0</td>\n",
       "    </tr>\n",
       "    <tr>\n",
       "      <th>1.8</th>\n",
       "      <td>12109.0</td>\n",
       "      <td>139.285408</td>\n",
       "      <td>25.136025</td>\n",
       "      <td>60.0</td>\n",
       "      <td>125.0</td>\n",
       "      <td>140.0</td>\n",
       "      <td>152.0</td>\n",
       "      <td>225.0</td>\n",
       "    </tr>\n",
       "    <tr>\n",
       "      <th>1.9</th>\n",
       "      <td>762.0</td>\n",
       "      <td>103.968504</td>\n",
       "      <td>21.560941</td>\n",
       "      <td>55.0</td>\n",
       "      <td>90.0</td>\n",
       "      <td>105.0</td>\n",
       "      <td>118.0</td>\n",
       "      <td>200.0</td>\n",
       "    </tr>\n",
       "    <tr>\n",
       "      <th>100</th>\n",
       "      <td>1.0</td>\n",
       "      <td>42.000000</td>\n",
       "      <td>NaN</td>\n",
       "      <td>42.0</td>\n",
       "      <td>42.0</td>\n",
       "      <td>42.0</td>\n",
       "      <td>42.0</td>\n",
       "      <td>42.0</td>\n",
       "    </tr>\n",
       "    <tr>\n",
       "      <th>105</th>\n",
       "      <td>13.0</td>\n",
       "      <td>131.000000</td>\n",
       "      <td>0.000000</td>\n",
       "      <td>131.0</td>\n",
       "      <td>131.0</td>\n",
       "      <td>131.0</td>\n",
       "      <td>131.0</td>\n",
       "      <td>131.0</td>\n",
       "    </tr>\n",
       "    <tr>\n",
       "      <th>108</th>\n",
       "      <td>15.0</td>\n",
       "      <td>80.200000</td>\n",
       "      <td>1.521278</td>\n",
       "      <td>79.0</td>\n",
       "      <td>79.0</td>\n",
       "      <td>79.0</td>\n",
       "      <td>82.0</td>\n",
       "      <td>82.0</td>\n",
       "    </tr>\n",
       "    <tr>\n",
       "      <th>109</th>\n",
       "      <td>18.0</td>\n",
       "      <td>92.111111</td>\n",
       "      <td>3.376195</td>\n",
       "      <td>88.0</td>\n",
       "      <td>88.0</td>\n",
       "      <td>95.0</td>\n",
       "      <td>95.0</td>\n",
       "      <td>95.0</td>\n",
       "    </tr>\n",
       "    <tr>\n",
       "      <th>110</th>\n",
       "      <td>37.0</td>\n",
       "      <td>113.405405</td>\n",
       "      <td>11.412614</td>\n",
       "      <td>95.0</td>\n",
       "      <td>102.0</td>\n",
       "      <td>122.0</td>\n",
       "      <td>122.0</td>\n",
       "      <td>122.0</td>\n",
       "    </tr>\n",
       "  </tbody>\n",
       "</table>\n",
       "</div>"
      ],
      "text/plain": [
       "                      count        mean        std    min    25%    50%  \\\n",
       "engineDisplacement                                                        \n",
       " LT                    13.0  167.923077  16.735499  115.0  170.0  170.0   \n",
       "+                       1.0   75.000000        NaN   75.0   75.0   75.0   \n",
       "0.6                     8.0  173.500000   6.480741  170.0  170.0  170.0   \n",
       "0.7                   166.0   75.843373  44.254356   45.0   52.0   58.0   \n",
       "0.8                   619.0   51.767367   1.667557   38.0   52.0   52.0   \n",
       "1.0                   384.0   64.705729   6.846651   42.0   60.0   67.0   \n",
       "1.1                   144.0   65.090278   8.006914   30.0   64.0   66.0   \n",
       "1.2                  1885.0   89.402653  16.469804   44.0   75.0   85.0   \n",
       "1.3                  1988.0  107.733903  38.976902   40.0   82.0   88.0   \n",
       "1.4                 11515.0  111.493183  27.151238   55.0   90.0  107.0   \n",
       "1.5                  5433.0  103.839867  23.034914   42.0   86.0   99.0   \n",
       "1.6                 35843.0  113.176910  17.024837   46.0  103.0  110.0   \n",
       "1.7                  1519.0   84.730744  13.808374   38.0   80.0   80.0   \n",
       "1.8                 12109.0  139.285408  25.136025   60.0  125.0  140.0   \n",
       "1.9                   762.0  103.968504  21.560941   55.0   90.0  105.0   \n",
       "100                     1.0   42.000000        NaN   42.0   42.0   42.0   \n",
       "105                    13.0  131.000000   0.000000  131.0  131.0  131.0   \n",
       "108                    15.0   80.200000   1.521278   79.0   79.0   79.0   \n",
       "109                    18.0   92.111111   3.376195   88.0   88.0   95.0   \n",
       "110                    37.0  113.405405  11.412614   95.0  102.0  122.0   \n",
       "\n",
       "                      75%    max  \n",
       "engineDisplacement                \n",
       " LT                 170.0  184.0  \n",
       "+                    75.0   75.0  \n",
       "0.6                 173.5  184.0  \n",
       "0.7                  64.0  184.0  \n",
       "0.8                  52.0   52.0  \n",
       "1.0                  68.0  125.0  \n",
       "1.1                  68.0  101.0  \n",
       "1.2                 105.0  116.0  \n",
       "1.3                 150.0  255.0  \n",
       "1.4                 140.0  180.0  \n",
       "1.5                 109.0  231.0  \n",
       "1.6                 123.0  218.0  \n",
       "1.7                  80.0  141.0  \n",
       "1.8                 152.0  225.0  \n",
       "1.9                 118.0  200.0  \n",
       "100                  42.0   42.0  \n",
       "105                 131.0  131.0  \n",
       "108                  82.0   82.0  \n",
       "109                  95.0   95.0  \n",
       "110                 122.0  122.0  "
      ]
     },
     "execution_count": 78,
     "metadata": {},
     "output_type": "execute_result"
    }
   ],
   "source": [
    "traincc.groupby('engineDisplacement').enginePower.describe().head(20)"
   ]
  },
  {
   "cell_type": "code",
   "execution_count": 79,
   "metadata": {},
   "outputs": [],
   "source": [
    "traincc['engineDisplacement'] = traincc['engineDisplacement'].apply(lambda x: 1.6 if x == ' LT' else x)\n",
    "testcc['engineDisplacement'] = testcc['engineDisplacement'].apply(lambda x: 1.6 if x == ' LT' else x)"
   ]
  },
  {
   "cell_type": "code",
   "execution_count": 80,
   "metadata": {},
   "outputs": [
    {
     "data": {
      "text/plain": [
       "Index(['2.0', '1.6', '3.0', '1.8', '1.4', '2.5', '2.4', '1.5', '3.5', '4.4',\n",
       "       '1.3', '2.2', '2.3', '1.2', '1.7', '2.9', '200', '350', '2.7', '4.0',\n",
       "       '2.8', '3.6', '3.2', '320', '4.5', '4.7', '3.7', '1.9', '4.2', '520',\n",
       "       '300', '2.1', '0.8', '5.7', '250', '500', '4.6', '5.6', '5.0', '450',\n",
       "       '4.8'],\n",
       "      dtype='object')"
      ]
     },
     "execution_count": 80,
     "metadata": {},
     "output_type": "execute_result"
    }
   ],
   "source": [
    "traincc['engineDisplacement'].value_counts()[:41].keys()"
   ]
  },
  {
   "cell_type": "code",
   "execution_count": 81,
   "metadata": {},
   "outputs": [],
   "source": [
    "brand_list = list(traincc['engineDisplacement'].value_counts()[:41].keys())\n",
    "traincc['engineDisplacement'] = traincc['engineDisplacement'].apply(lambda x: x if x in brand_list else 1.8)\n"
   ]
  },
  {
   "cell_type": "code",
   "execution_count": 82,
   "metadata": {},
   "outputs": [
    {
     "data": {
      "text/plain": [
       "<matplotlib.axes._subplots.AxesSubplot at 0x7f6fd12b6ed0>"
      ]
     },
     "execution_count": 82,
     "metadata": {},
     "output_type": "execute_result"
    },
    {
     "data": {
      "image/png": "[encoded data removed]",
      "text/plain": [
       "<Figure size 432x288 with 1 Axes>"
      ]
     },
     "metadata": {
      "needs_background": "light"
     },
     "output_type": "display_data"
    }
   ],
   "source": [
    "traincc['engineDisplacement'] = traincc['engineDisplacement'].astype('float')\n",
    "traincc['engineDisplacement'].value_counts().plot(kind='bar')"
   ]
  },
  {
   "cell_type": "code",
   "execution_count": 83,
   "metadata": {},
   "outputs": [
    {
     "data": {
      "text/plain": [
       "(автоматическая      112906\n",
       " механическая         51102\n",
       " роботизированная     17613\n",
       " вариатор             15044\n",
       " Name: vehicleTransmission, dtype: int64,\n",
       " автоматическая      19596\n",
       " механическая         7209\n",
       " вариатор             3999\n",
       " роботизированная     3882\n",
       " Name: vehicleTransmission, dtype: int64)"
      ]
     },
     "execution_count": 83,
     "metadata": {},
     "output_type": "execute_result"
    }
   ],
   "source": [
    "traincc.vehicleTransmission.value_counts(),testcc.vehicleTransmission.value_counts()\n"
   ]
  },
  {
   "cell_type": "code",
   "execution_count": 84,
   "metadata": {},
   "outputs": [
    {
     "data": {
      "image/png": "[encoded data removed]",
      "text/plain": [
       "<Figure size 576x360 with 1 Axes>"
      ]
     },
     "metadata": {
      "needs_background": "light"
     },
     "output_type": "display_data"
    }
   ],
   "source": [
    "plt.figure(figsize=(8, 5))\n",
    "g1 = sns.boxplot(y='log_price', x='vehicleTransmission', \n",
    "                  data=traincc, color='teal')\n",
    "g1.set_title(\"price of vehicleTransmission\", fontsize=20)\n",
    "\n",
    "g1.set_ylabel(\"log_price\", fontsize=15)\n",
    "g1.set_xticklabels(g1.get_xticklabels(),rotation=45)\n",
    "plt.show()"
   ]
  },
  {
   "cell_type": "code",
   "execution_count": 85,
   "metadata": {},
   "outputs": [
    {
     "data": {
      "text/plain": [
       "67    SEDAN MECHANICAL 2.6\n",
       "67    SEDAN MECHANICAL 2.2\n",
       "67                     NaN\n",
       "Name: vehicleConfiguration, dtype: object"
      ]
     },
     "execution_count": 85,
     "metadata": {},
     "output_type": "execute_result"
    }
   ],
   "source": [
    "traincc.vehicleConfiguration[67]"
   ]
  },
  {
   "cell_type": "code",
   "execution_count": 86,
   "metadata": {},
   "outputs": [
    {
     "data": {
      "text/html": [
       "<div>\n",
       "<style scoped>\n",
       "    .dataframe tbody tr th:only-of-type {\n",
       "        vertical-align: middle;\n",
       "    }\n",
       "\n",
       "    .dataframe tbody tr th {\n",
       "        vertical-align: top;\n",
       "    }\n",
       "\n",
       "    .dataframe thead th {\n",
       "        text-align: right;\n",
       "    }\n",
       "</style>\n",
       "<table border=\"1\" class=\"dataframe\">\n",
       "  <thead>\n",
       "    <tr style=\"text-align: right;\">\n",
       "      <th></th>\n",
       "      <th>bodyType</th>\n",
       "      <th>brand</th>\n",
       "      <th>car_url</th>\n",
       "      <th>color</th>\n",
       "      <th>complectation_dict</th>\n",
       "      <th>description</th>\n",
       "      <th>engineDisplacement</th>\n",
       "      <th>enginePower</th>\n",
       "      <th>equipment_dict</th>\n",
       "      <th>fuelType</th>\n",
       "      <th>...</th>\n",
       "      <th>from_salon</th>\n",
       "      <th>alloy_wheels</th>\n",
       "      <th>parking_sensors</th>\n",
       "      <th>dents</th>\n",
       "      <th>roof_with_panoramic_view</th>\n",
       "      <th>bT_length</th>\n",
       "      <th>brand_length</th>\n",
       "      <th>Nalog_base</th>\n",
       "      <th>log_power</th>\n",
       "      <th>Nalog</th>\n",
       "    </tr>\n",
       "  </thead>\n",
       "  <tbody>\n",
       "    <tr>\n",
       "      <th>16944</th>\n",
       "      <td>кабриолет</td>\n",
       "      <td>MERCEDES</td>\n",
       "      <td>https://auto.ru/cars/used/sale/mercedes/simple...</td>\n",
       "      <td>белый</td>\n",
       "      <td>NaN</td>\n",
       "      <td>на ходу. 1904 год. стоит в гараже, пылится.Кат...</td>\n",
       "      <td>5.3</td>\n",
       "      <td>32.0</td>\n",
       "      <td>NaN</td>\n",
       "      <td>бензин</td>\n",
       "      <td>...</td>\n",
       "      <td>0</td>\n",
       "      <td>0</td>\n",
       "      <td>0</td>\n",
       "      <td>0</td>\n",
       "      <td>0</td>\n",
       "      <td>9</td>\n",
       "      <td>8</td>\n",
       "      <td>5000</td>\n",
       "      <td>3.465736</td>\n",
       "      <td>160000.0</td>\n",
       "    </tr>\n",
       "  </tbody>\n",
       "</table>\n",
       "<p>1 rows × 58 columns</p>\n",
       "</div>"
      ],
      "text/plain": [
       "        bodyType     brand                                            car_url  \\\n",
       "16944  кабриолет  MERCEDES  https://auto.ru/cars/used/sale/mercedes/simple...   \n",
       "\n",
       "       color complectation_dict  \\\n",
       "16944  белый                NaN   \n",
       "\n",
       "                                             description engineDisplacement  \\\n",
       "16944  на ходу. 1904 год. стоит в гараже, пылится.Кат...                5.3   \n",
       "\n",
       "       enginePower equipment_dict fuelType  ... from_salon  alloy_wheels  \\\n",
       "16944         32.0            NaN   бензин  ...          0             0   \n",
       "\n",
       "       parking_sensors dents roof_with_panoramic_view bT_length  brand_length  \\\n",
       "16944                0     0                        0         9             8   \n",
       "\n",
       "       Nalog_base  log_power     Nalog  \n",
       "16944        5000   3.465736  160000.0  \n",
       "\n",
       "[1 rows x 58 columns]"
      ]
     },
     "execution_count": 86,
     "metadata": {},
     "output_type": "execute_result"
    }
   ],
   "source": [
    "testcc[testcc.numberOfDoors == 0] "
   ]
  },
  {
   "cell_type": "code",
   "execution_count": 87,
   "metadata": {},
   "outputs": [
    {
     "data": {
      "text/html": [
       "<div>\n",
       "<style scoped>\n",
       "    .dataframe tbody tr th:only-of-type {\n",
       "        vertical-align: middle;\n",
       "    }\n",
       "\n",
       "    .dataframe tbody tr th {\n",
       "        vertical-align: top;\n",
       "    }\n",
       "\n",
       "    .dataframe thead th {\n",
       "        text-align: right;\n",
       "    }\n",
       "</style>\n",
       "<table border=\"1\" class=\"dataframe\">\n",
       "  <thead>\n",
       "    <tr style=\"text-align: right;\">\n",
       "      <th></th>\n",
       "      <th>bodyType</th>\n",
       "      <th>brand</th>\n",
       "      <th>color</th>\n",
       "      <th>fuelType</th>\n",
       "      <th>modelDate</th>\n",
       "      <th>name</th>\n",
       "      <th>numberOfDoors</th>\n",
       "      <th>productionDate</th>\n",
       "      <th>vehicleConfiguration</th>\n",
       "      <th>vehicleTransmission</th>\n",
       "      <th>...</th>\n",
       "      <th>parking_sensors</th>\n",
       "      <th>dents</th>\n",
       "      <th>roof_with_panoramic_view</th>\n",
       "      <th>mileageNAN</th>\n",
       "      <th>log_price</th>\n",
       "      <th>bT_length</th>\n",
       "      <th>brand_length</th>\n",
       "      <th>log_power</th>\n",
       "      <th>Nalog_base</th>\n",
       "      <th>Nalog</th>\n",
       "    </tr>\n",
       "  </thead>\n",
       "  <tbody>\n",
       "    <tr>\n",
       "      <th>88065</th>\n",
       "      <td>кабриолет</td>\n",
       "      <td>MERCEDES</td>\n",
       "      <td>белый</td>\n",
       "      <td>бензин</td>\n",
       "      <td>1904</td>\n",
       "      <td>5.3 MT (32 л.с.)</td>\n",
       "      <td>0</td>\n",
       "      <td>1904</td>\n",
       "      <td>CABRIO MECHANICAL 5.3</td>\n",
       "      <td>механическая</td>\n",
       "      <td>...</td>\n",
       "      <td>0</td>\n",
       "      <td>0</td>\n",
       "      <td>0</td>\n",
       "      <td>0</td>\n",
       "      <td>16.300417</td>\n",
       "      <td>9</td>\n",
       "      <td>8</td>\n",
       "      <td>3.465736</td>\n",
       "      <td>5000</td>\n",
       "      <td>160000</td>\n",
       "    </tr>\n",
       "    <tr>\n",
       "      <th>76332</th>\n",
       "      <td>кабриолет</td>\n",
       "      <td>MERCEDES</td>\n",
       "      <td>белый</td>\n",
       "      <td>бензин</td>\n",
       "      <td>1904</td>\n",
       "      <td>5.3 MT (32 л.с.)</td>\n",
       "      <td>0</td>\n",
       "      <td>1904</td>\n",
       "      <td>CABRIO MECHANICAL 5.3</td>\n",
       "      <td>механическая</td>\n",
       "      <td>...</td>\n",
       "      <td>0</td>\n",
       "      <td>0</td>\n",
       "      <td>0</td>\n",
       "      <td>0</td>\n",
       "      <td>16.300417</td>\n",
       "      <td>9</td>\n",
       "      <td>8</td>\n",
       "      <td>3.465736</td>\n",
       "      <td>5000</td>\n",
       "      <td>160000</td>\n",
       "    </tr>\n",
       "  </tbody>\n",
       "</table>\n",
       "<p>2 rows × 65 columns</p>\n",
       "</div>"
      ],
      "text/plain": [
       "        bodyType     brand  color fuelType  modelDate              name  \\\n",
       "88065  кабриолет  MERCEDES  белый   бензин       1904  5.3 MT (32 л.с.)   \n",
       "76332  кабриолет  MERCEDES  белый   бензин       1904  5.3 MT (32 л.с.)   \n",
       "\n",
       "       numberOfDoors  productionDate   vehicleConfiguration  \\\n",
       "88065              0            1904  CABRIO MECHANICAL 5.3   \n",
       "76332              0            1904  CABRIO MECHANICAL 5.3   \n",
       "\n",
       "      vehicleTransmission  ...  parking_sensors  dents  \\\n",
       "88065        механическая  ...                0      0   \n",
       "76332        механическая  ...                0      0   \n",
       "\n",
       "      roof_with_panoramic_view  mileageNAN  log_price bT_length brand_length  \\\n",
       "88065                        0           0  16.300417         9            8   \n",
       "76332                        0           0  16.300417         9            8   \n",
       "\n",
       "      log_power Nalog_base   Nalog  \n",
       "88065  3.465736       5000  160000  \n",
       "76332  3.465736       5000  160000  \n",
       "\n",
       "[2 rows x 65 columns]"
      ]
     },
     "execution_count": 87,
     "metadata": {},
     "output_type": "execute_result"
    }
   ],
   "source": [
    "traincc[traincc.numberOfDoors == 0]"
   ]
  },
  {
   "cell_type": "code",
   "execution_count": 88,
   "metadata": {},
   "outputs": [
    {
     "data": {
      "image/png": "[encoded data removed]",
      "text/plain": [
       "<Figure size 576x360 with 1 Axes>"
      ]
     },
     "metadata": {
      "needs_background": "light"
     },
     "output_type": "display_data"
    }
   ],
   "source": [
    "plt.figure(figsize=(8, 5))\n",
    "g1 = sns.boxplot(y='log_price', x='numberOfDoors', \n",
    "                  data=traincc, color='crimson')\n",
    "g1.set_title(\"price of numberOfDoors\", fontsize=20)\n",
    "\n",
    "g1.set_ylabel(\"log_price\", fontsize=15)\n",
    "g1.set_xticklabels(g1.get_xticklabels(),rotation=45)\n",
    "plt.show()"
   ]
  },
  {
   "cell_type": "code",
   "execution_count": 89,
   "metadata": {},
   "outputs": [
    {
     "data": {
      "text/html": [
       "<div>\n",
       "<style scoped>\n",
       "    .dataframe tbody tr th:only-of-type {\n",
       "        vertical-align: middle;\n",
       "    }\n",
       "\n",
       "    .dataframe tbody tr th {\n",
       "        vertical-align: top;\n",
       "    }\n",
       "\n",
       "    .dataframe thead th {\n",
       "        text-align: right;\n",
       "    }\n",
       "</style>\n",
       "<table border=\"1\" class=\"dataframe\">\n",
       "  <thead>\n",
       "    <tr style=\"text-align: right;\">\n",
       "      <th></th>\n",
       "      <th>color</th>\n",
       "    </tr>\n",
       "  </thead>\n",
       "  <tbody>\n",
       "    <tr>\n",
       "      <th>чёрный</th>\n",
       "      <td>57176</td>\n",
       "    </tr>\n",
       "    <tr>\n",
       "      <th>белый</th>\n",
       "      <td>35008</td>\n",
       "    </tr>\n",
       "    <tr>\n",
       "      <th>серый</th>\n",
       "      <td>24004</td>\n",
       "    </tr>\n",
       "    <tr>\n",
       "      <th>серебристый</th>\n",
       "      <td>23214</td>\n",
       "    </tr>\n",
       "    <tr>\n",
       "      <th>синий</th>\n",
       "      <td>19901</td>\n",
       "    </tr>\n",
       "    <tr>\n",
       "      <th>красный</th>\n",
       "      <td>9942</td>\n",
       "    </tr>\n",
       "    <tr>\n",
       "      <th>бордовый</th>\n",
       "      <td>6582</td>\n",
       "    </tr>\n",
       "    <tr>\n",
       "      <th>зелёный</th>\n",
       "      <td>5500</td>\n",
       "    </tr>\n",
       "    <tr>\n",
       "      <th>коричневый</th>\n",
       "      <td>5094</td>\n",
       "    </tr>\n",
       "    <tr>\n",
       "      <th>голубой</th>\n",
       "      <td>2890</td>\n",
       "    </tr>\n",
       "    <tr>\n",
       "      <th>золотистый</th>\n",
       "      <td>1584</td>\n",
       "    </tr>\n",
       "    <tr>\n",
       "      <th>бежевый</th>\n",
       "      <td>1545</td>\n",
       "    </tr>\n",
       "    <tr>\n",
       "      <th>пурпурный</th>\n",
       "      <td>1508</td>\n",
       "    </tr>\n",
       "    <tr>\n",
       "      <th>жёлтый</th>\n",
       "      <td>1402</td>\n",
       "    </tr>\n",
       "    <tr>\n",
       "      <th>фиолетовый</th>\n",
       "      <td>1151</td>\n",
       "    </tr>\n",
       "    <tr>\n",
       "      <th>оранжевый</th>\n",
       "      <td>117</td>\n",
       "    </tr>\n",
       "    <tr>\n",
       "      <th>розовый</th>\n",
       "      <td>47</td>\n",
       "    </tr>\n",
       "  </tbody>\n",
       "</table>\n",
       "</div>"
      ],
      "text/plain": [
       "             color\n",
       "чёрный       57176\n",
       "белый        35008\n",
       "серый        24004\n",
       "серебристый  23214\n",
       "синий        19901\n",
       "красный       9942\n",
       "бордовый      6582\n",
       "зелёный       5500\n",
       "коричневый    5094\n",
       "голубой       2890\n",
       "золотистый    1584\n",
       "бежевый       1545\n",
       "пурпурный     1508\n",
       "жёлтый        1402\n",
       "фиолетовый    1151\n",
       "оранжевый      117\n",
       "розовый         47"
      ]
     },
     "metadata": {},
     "output_type": "display_data"
    }
   ],
   "source": [
    "display(pd.DataFrame(traincc.color.value_counts()))"
   ]
  },
  {
   "cell_type": "code",
   "execution_count": 90,
   "metadata": {},
   "outputs": [
    {
     "data": {
      "image/png": "[encoded data removed]",
      "text/plain": [
       "<Figure size 576x360 with 1 Axes>"
      ]
     },
     "metadata": {
      "needs_background": "light"
     },
     "output_type": "display_data"
    }
   ],
   "source": [
    "plt.figure(figsize=(8, 5))\n",
    "g1 = sns.boxplot(y='log_price', x='color', \n",
    "                  data=traincc, color='brown')\n",
    "g1.set_title(\"price of colors\", fontsize=20)\n",
    "\n",
    "g1.set_ylabel(\"log_price\", fontsize=15)\n",
    "g1.set_xticklabels(g1.get_xticklabels(),rotation=45)\n",
    "plt.show()"
   ]
  },
  {
   "cell_type": "markdown",
   "metadata": {},
   "source": [
    "Узнаем сколько год машину"
   ]
  },
  {
   "cell_type": "code",
   "execution_count": 91,
   "metadata": {},
   "outputs": [],
   "source": [
    "traincc['years_old'] = 2021 - traincc['productionDate']\n",
    "testcc['years_old'] = 2021 - testcc['productionDate']"
   ]
  },
  {
   "cell_type": "code",
   "execution_count": 92,
   "metadata": {},
   "outputs": [
    {
     "data": {
      "text/plain": [
       "<matplotlib.axes._subplots.AxesSubplot at 0x7f6fd0bd3990>"
      ]
     },
     "execution_count": 92,
     "metadata": {},
     "output_type": "execute_result"
    },
    {
     "data": {
      "image/png": "[encoded data removed]",
      "text/plain": [
       "<Figure size 432x288 with 1 Axes>"
      ]
     },
     "metadata": {
      "needs_background": "light"
     },
     "output_type": "display_data"
    }
   ],
   "source": [
    "traincc.boxplot(column=['productionDate'])\n"
   ]
  },
  {
   "cell_type": "code",
   "execution_count": 93,
   "metadata": {},
   "outputs": [
    {
     "data": {
      "text/plain": [
       "1     27209\n",
       "13    14484\n",
       "9     14020\n",
       "10    13014\n",
       "8     12361\n",
       "14    11248\n",
       "7     10482\n",
       "11     9440\n",
       "4      7947\n",
       "6      7874\n",
       "Name: years_old, dtype: int64"
      ]
     },
     "execution_count": 93,
     "metadata": {},
     "output_type": "execute_result"
    }
   ],
   "source": [
    "traincc.years_old.value_counts().head(10)"
   ]
  },
  {
   "cell_type": "code",
   "execution_count": 94,
   "metadata": {},
   "outputs": [
    {
     "data": {
      "text/plain": [
       "(count    196665.000000\n",
       " mean         10.064129\n",
       " std           7.111146\n",
       " min           1.000000\n",
       " 25%           5.000000\n",
       " 50%           9.000000\n",
       " 75%          14.000000\n",
       " max         117.000000\n",
       " Name: years_old, dtype: float64,\n",
       " count    34686.000000\n",
       " mean        11.735398\n",
       " std          7.047661\n",
       " min          1.000000\n",
       " 25%          7.000000\n",
       " 50%         10.000000\n",
       " 75%         15.000000\n",
       " max        117.000000\n",
       " Name: years_old, dtype: float64)"
      ]
     },
     "execution_count": 94,
     "metadata": {},
     "output_type": "execute_result"
    }
   ],
   "source": [
    "traincc.years_old.describe(),testcc.years_old.describe()"
   ]
  },
  {
   "cell_type": "markdown",
   "metadata": {},
   "source": [
    "*Разобьем возраст на интервалы*"
   ]
  },
  {
   "cell_type": "code",
   "execution_count": 95,
   "metadata": {},
   "outputs": [],
   "source": [
    "bins = [-1, 3, 7, 14, 20, 35, 117]\n",
    "numbers = ['3', '7','14','20','35', '117']\n",
    "\n",
    "traincc['age_intervals']=pd.cut(traincc['years_old'],bins,labels=numbers)\n",
    "testcc['age_intervals']=pd.cut(testcc['years_old'],bins,labels=numbers)"
   ]
  },
  {
   "cell_type": "code",
   "execution_count": 96,
   "metadata": {},
   "outputs": [
    {
     "data": {
      "image/png": "[encoded data removed]",
      "text/plain": [
       "<Figure size 576x360 with 1 Axes>"
      ]
     },
     "metadata": {
      "needs_background": "light"
     },
     "output_type": "display_data"
    }
   ],
   "source": [
    "plt.figure(figsize=(8, 5))\n",
    "g1 = sns.boxplot(y='log_price', x='age_intervals', \n",
    "                  data=traincc, color='teal')\n",
    "g1.set_title(\"price of age_intervals\", fontsize=20)\n",
    "\n",
    "g1.set_ylabel(\"log_price\", fontsize=15)\n",
    "g1.set_xticklabels(g1.get_xticklabels(),rotation=45)\n",
    "plt.show()"
   ]
  },
  {
   "cell_type": "markdown",
   "metadata": {},
   "source": [
    "modelDate"
   ]
  },
  {
   "cell_type": "code",
   "execution_count": 97,
   "metadata": {},
   "outputs": [
    {
     "data": {
      "text/plain": [
       "(count    196665.000000\n",
       " mean       2008.702026\n",
       " std           7.515578\n",
       " min        1904.000000\n",
       " 25%        2005.000000\n",
       " 50%        2010.000000\n",
       " 75%        2014.000000\n",
       " max        2020.000000\n",
       " Name: modelDate, dtype: float64,\n",
       " count    34686.000000\n",
       " mean      2007.074728\n",
       " std          7.415894\n",
       " min       1904.000000\n",
       " 25%       2004.000000\n",
       " 50%       2008.000000\n",
       " 75%       2012.000000\n",
       " max       2020.000000\n",
       " Name: modelDate, dtype: float64)"
      ]
     },
     "execution_count": 97,
     "metadata": {},
     "output_type": "execute_result"
    }
   ],
   "source": [
    "traincc.modelDate.describe(),testcc.modelDate.describe()"
   ]
  },
  {
   "cell_type": "code",
   "execution_count": 98,
   "metadata": {},
   "outputs": [
    {
     "data": {
      "text/plain": [
       "2006    12946\n",
       "2010    12463\n",
       "2009    11522\n",
       "2017    10761\n",
       "2018    10698\n",
       "Name: modelDate, dtype: int64"
      ]
     },
     "execution_count": 98,
     "metadata": {},
     "output_type": "execute_result"
    }
   ],
   "source": [
    "traincc.modelDate.value_counts().head()"
   ]
  },
  {
   "cell_type": "markdown",
   "metadata": {},
   "source": [
    "Владельцы"
   ]
  },
  {
   "cell_type": "code",
   "execution_count": 99,
   "metadata": {},
   "outputs": [
    {
     "data": {
      "text/plain": [
       "(27692, 0)"
      ]
     },
     "execution_count": 99,
     "metadata": {},
     "output_type": "execute_result"
    }
   ],
   "source": [
    "traincc['Владельцы'].isna().sum(),testcc['Владельцы'].isna().sum(),"
   ]
  },
  {
   "cell_type": "code",
   "execution_count": 100,
   "metadata": {},
   "outputs": [
    {
     "data": {
      "text/plain": [
       "(3.0            62962\n",
       " 2.0            36779\n",
       " 1.0            35068\n",
       " 3 или более    16398\n",
       " 1владелец       9226\n",
       " 2владельца      8540\n",
       " Name: Владельцы, dtype: int64,\n",
       " 3 или более    15957\n",
       " 1 владелец      9459\n",
       " 2 владельца     9270\n",
       " Name: Владельцы, dtype: int64)"
      ]
     },
     "execution_count": 100,
     "metadata": {},
     "output_type": "execute_result"
    }
   ],
   "source": [
    "traincc.Владельцы.value_counts() ,testcc.Владельцы.value_counts()"
   ]
  },
  {
   "cell_type": "code",
   "execution_count": 101,
   "metadata": {},
   "outputs": [],
   "source": [
    "testcc['Владельцы']= testcc['Владельцы'].astype('category')\n",
    "traincc['Владельцы']= traincc['Владельцы'].astype('category')\n",
    "\n",
    "traincc['Владельцы']= traincc['Владельцы'].apply(lambda x: int(re.findall('\\d', str(x))[0]))\n",
    "testcc['Владельцы']= testcc['Владельцы'].apply(lambda x: int(re.findall('\\d', str(x))[0]))"
   ]
  },
  {
   "cell_type": "code",
   "execution_count": 102,
   "metadata": {},
   "outputs": [
    {
     "data": {
      "text/plain": [
       "<matplotlib.axes._subplots.AxesSubplot at 0x7f6fd0a70810>"
      ]
     },
     "execution_count": 102,
     "metadata": {},
     "output_type": "execute_result"
    },
    {
     "data": {
      "image/png": "[encoded data removed]",
      "text/plain": [
       "<Figure size 432x288 with 1 Axes>"
      ]
     },
     "metadata": {
      "needs_background": "light"
     },
     "output_type": "display_data"
    }
   ],
   "source": [
    "sns.countplot(x = \"Владельцы\", data = testcc, palette = \"Blues\")"
   ]
  },
  {
   "cell_type": "code",
   "execution_count": 103,
   "metadata": {},
   "outputs": [
    {
     "data": {
      "text/plain": [
       "<matplotlib.axes._subplots.AxesSubplot at 0x7f6fd16a8f90>"
      ]
     },
     "execution_count": 103,
     "metadata": {},
     "output_type": "execute_result"
    },
    {
     "data": {
      "image/png": "[encoded data removed]",
      "text/plain": [
       "<Figure size 432x288 with 1 Axes>"
      ]
     },
     "metadata": {
      "needs_background": "light"
     },
     "output_type": "display_data"
    }
   ],
   "source": [
    "sns.countplot(x = \"Владельцы\", data = traincc, palette = \"Blues\")"
   ]
  },
  {
   "cell_type": "code",
   "execution_count": 104,
   "metadata": {},
   "outputs": [],
   "source": [
    "traincc['Владельцы'] = traincc['Владельцы'].astype(\"category\")"
   ]
  },
  {
   "cell_type": "code",
   "execution_count": 105,
   "metadata": {},
   "outputs": [
    {
     "data": {
      "image/png": "[encoded data removed]",
      "text/plain": [
       "<Figure size 576x360 with 1 Axes>"
      ]
     },
     "metadata": {
      "needs_background": "light"
     },
     "output_type": "display_data"
    }
   ],
   "source": [
    "plt.figure(figsize=(8, 5))\n",
    "g1 = sns.boxplot(y='log_price', x='Владельцы', \n",
    "                  data=traincc, color='plum')\n",
    "g1.set_title(\"price of Владельцы\", fontsize=20)\n",
    "\n",
    "g1.set_ylabel(\"log_price\", fontsize=15)\n",
    "g1.set_xticklabels(g1.get_xticklabels(),rotation=45)\n",
    "plt.show()"
   ]
  },
  {
   "cell_type": "markdown",
   "metadata": {},
   "source": [
    " Число владельца напрямую влияет на цену.Как мы видим если в машине  1 Владелец,то этот машина дороже чем остальные"
   ]
  },
  {
   "cell_type": "markdown",
   "metadata": {},
   "source": [
    "Владение"
   ]
  },
  {
   "cell_type": "code",
   "execution_count": 106,
   "metadata": {},
   "outputs": [
    {
     "data": {
      "text/plain": [
       "(148074, 22691)"
      ]
     },
     "execution_count": 106,
     "metadata": {},
     "output_type": "execute_result"
    }
   ],
   "source": [
    "traincc.Владение.isna().sum(),testcc.Владение.isna().sum()"
   ]
  },
  {
   "cell_type": "code",
   "execution_count": 107,
   "metadata": {},
   "outputs": [
    {
     "data": {
      "text/html": [
       "<div>\n",
       "<style scoped>\n",
       "    .dataframe tbody tr th:only-of-type {\n",
       "        vertical-align: middle;\n",
       "    }\n",
       "\n",
       "    .dataframe tbody tr th {\n",
       "        vertical-align: top;\n",
       "    }\n",
       "\n",
       "    .dataframe thead th {\n",
       "        text-align: right;\n",
       "    }\n",
       "</style>\n",
       "<table border=\"1\" class=\"dataframe\">\n",
       "  <thead>\n",
       "    <tr style=\"text-align: right;\">\n",
       "      <th></th>\n",
       "      <th>count</th>\n",
       "      <th>unique</th>\n",
       "      <th>top</th>\n",
       "      <th>freq</th>\n",
       "    </tr>\n",
       "    <tr>\n",
       "      <th>Владельцы</th>\n",
       "      <th></th>\n",
       "      <th></th>\n",
       "      <th></th>\n",
       "      <th></th>\n",
       "    </tr>\n",
       "  </thead>\n",
       "  <tbody>\n",
       "    <tr>\n",
       "      <th>1.0</th>\n",
       "      <td>12659</td>\n",
       "      <td>265</td>\n",
       "      <td>{'year': 2018, 'month': 12}</td>\n",
       "      <td>191</td>\n",
       "    </tr>\n",
       "    <tr>\n",
       "      <th>2.0</th>\n",
       "      <td>13509</td>\n",
       "      <td>261</td>\n",
       "      <td>{'year': 2018, 'month': 11}</td>\n",
       "      <td>237</td>\n",
       "    </tr>\n",
       "    <tr>\n",
       "      <th>3.0</th>\n",
       "      <td>22423</td>\n",
       "      <td>262</td>\n",
       "      <td>{'year': 2019, 'month': 8}</td>\n",
       "      <td>503</td>\n",
       "    </tr>\n",
       "  </tbody>\n",
       "</table>\n",
       "</div>"
      ],
      "text/plain": [
       "           count unique                          top freq\n",
       "Владельцы                                                \n",
       "1.0        12659    265  {'year': 2018, 'month': 12}  191\n",
       "2.0        13509    261  {'year': 2018, 'month': 11}  237\n",
       "3.0        22423    262   {'year': 2019, 'month': 8}  503"
      ]
     },
     "execution_count": 107,
     "metadata": {},
     "output_type": "execute_result"
    }
   ],
   "source": [
    "traincc.groupby('Владельцы').Владение.describe()"
   ]
  },
  {
   "cell_type": "markdown",
   "metadata": {},
   "source": [
    "РУЛЬ"
   ]
  },
  {
   "cell_type": "code",
   "execution_count": 108,
   "metadata": {},
   "outputs": [
    {
     "data": {
      "text/plain": [
       "(Левый     33287\n",
       " Правый     1399\n",
       " Name: Руль, dtype: int64,\n",
       " LEFT      159327\n",
       " Левый      34021\n",
       " RIGHT       3171\n",
       " Правый       146\n",
       " Name: Руль, dtype: int64)"
      ]
     },
     "execution_count": 108,
     "metadata": {},
     "output_type": "execute_result"
    }
   ],
   "source": [
    "testcc.Руль.value_counts(), traincc.Руль.value_counts()"
   ]
  },
  {
   "cell_type": "code",
   "execution_count": 109,
   "metadata": {},
   "outputs": [
    {
     "data": {
      "text/plain": [
       "<matplotlib.axes._subplots.AxesSubplot at 0x7f6fd1625ad0>"
      ]
     },
     "execution_count": 109,
     "metadata": {},
     "output_type": "execute_result"
    },
    {
     "data": {
      "image/png": "[encoded data removed]",
      "text/plain": [
       "<Figure size 432x288 with 1 Axes>"
      ]
     },
     "metadata": {
      "needs_background": "light"
     },
     "output_type": "display_data"
    }
   ],
   "source": [
    "rule={'LEFT': 'Левый', 'RIGHT': 'Правый' }\n",
    "traincc['Руль'] = traincc['Руль'].replace(rule)\n",
    "traincc['Руль'].value_counts().plot.bar()"
   ]
  },
  {
   "cell_type": "markdown",
   "metadata": {},
   "source": [
    "    **Как правило ,видим что леворульки больше чем правый**"
   ]
  },
  {
   "cell_type": "markdown",
   "metadata": {},
   "source": [
    "**fuelType**"
   ]
  },
  {
   "cell_type": "code",
   "execution_count": 110,
   "metadata": {},
   "outputs": [
    {
     "data": {
      "text/plain": [
       "(бензин     162658\n",
       " дизель      32955\n",
       " гибрид        805\n",
       " электро       214\n",
       " газ            33\n",
       " Name: fuelType, dtype: int64,\n",
       " бензин     28601\n",
       " дизель      5800\n",
       " гибрид       223\n",
       " электро       55\n",
       " газ            7\n",
       " Name: fuelType, dtype: int64)"
      ]
     },
     "execution_count": 110,
     "metadata": {},
     "output_type": "execute_result"
    }
   ],
   "source": [
    "traincc.fuelType.value_counts(),testcc.fuelType.value_counts()"
   ]
  },
  {
   "cell_type": "code",
   "execution_count": 111,
   "metadata": {},
   "outputs": [
    {
     "data": {
      "image/png": "[encoded data removed]",
      "text/plain": [
       "<Figure size 576x360 with 1 Axes>"
      ]
     },
     "metadata": {
      "needs_background": "light"
     },
     "output_type": "display_data"
    }
   ],
   "source": [
    "plt.figure(figsize=(8, 5))\n",
    "g1 = sns.boxplot(y='log_price', x='fuelType', \n",
    "                  data=traincc, color='peru')\n",
    "g1.set_title(\"price of fuelType\", fontsize=20)\n",
    "\n",
    "g1.set_ylabel(\"log_price\", fontsize=15)\n",
    "g1.set_xticklabels(g1.get_xticklabels(),rotation=45)\n",
    "\n",
    "\n",
    "plt.show()"
   ]
  },
  {
   "cell_type": "code",
   "execution_count": 112,
   "metadata": {},
   "outputs": [
    {
     "data": {
      "text/plain": [
       "'{\"id\":\"20026323\",\"nameplate\":\"DSG\",\"displacement\":1798,\"engine_type\":\"GASOLINE\",\"gear_type\":\"FORWARD_CONTROL\",\"transmission\":\"ROBOT\",\"power\":152,\"power_kvt\":112,\"human_name\":\"DSG 1.8 AMT (152 л.с.)\",\"acceleration\":8.7,\"clearance_min\":139,\"fuel_rate\":7.1,\"clearance_max\":158}'"
      ]
     },
     "execution_count": 112,
     "metadata": {},
     "output_type": "execute_result"
    }
   ],
   "source": [
    "testcc.super_gen[2]"
   ]
  },
  {
   "cell_type": "markdown",
   "metadata": {},
   "source": [
    "**vendor**"
   ]
  },
  {
   "cell_type": "code",
   "execution_count": 113,
   "metadata": {},
   "outputs": [
    {
     "data": {
      "text/plain": [
       "(V_UNKNOWN    121020\n",
       " EUROPEAN      40010\n",
       " JAPANESE      16513\n",
       " KOREAN         9666\n",
       " AMERICAN       7359\n",
       " RUSSIAN        1057\n",
       " CHINESE        1040\n",
       " Name: vendor, dtype: int64,\n",
       " EUROPEAN    20682\n",
       " JAPANESE    14004\n",
       " Name: vendor, dtype: int64)"
      ]
     },
     "execution_count": 113,
     "metadata": {},
     "output_type": "execute_result"
    }
   ],
   "source": [
    "traincc.vendor.value_counts(),testcc.vendor.value_counts()"
   ]
  },
  {
   "cell_type": "code",
   "execution_count": 114,
   "metadata": {},
   "outputs": [
    {
     "data": {
      "image/png": "[encoded data removed]",
      "text/plain": [
       "<Figure size 576x360 with 1 Axes>"
      ]
     },
     "metadata": {
      "needs_background": "light"
     },
     "output_type": "display_data"
    }
   ],
   "source": [
    "plt.figure(figsize=(8, 5))\n",
    "g1 = sns.boxplot(y='log_price', x='vendor', \n",
    "                  data=traincc, color='lightgreen')\n",
    "g1.set_title(\"price of vendor\", fontsize=20)\n",
    "\n",
    "g1.set_ylabel(\"log_price\", fontsize=15)\n",
    "g1.set_xticklabels(g1.get_xticklabels(),rotation=45)\n",
    "\n",
    "\n",
    "plt.show()"
   ]
  },
  {
   "cell_type": "markdown",
   "metadata": {},
   "source": [
    "mileage"
   ]
  },
  {
   "cell_type": "code",
   "execution_count": 115,
   "metadata": {},
   "outputs": [
    {
     "data": {
      "text/plain": [
       "count     196665.000000\n",
       "mean      135667.779264\n",
       "std       103891.426898\n",
       "min            0.000000\n",
       "25%        56137.000000\n",
       "50%       129000.000000\n",
       "75%       196000.000000\n",
       "max      1000000.000000\n",
       "Name: mileage, dtype: float64"
      ]
     },
     "execution_count": 115,
     "metadata": {},
     "output_type": "execute_result"
    }
   ],
   "source": [
    "traincc.mileage.describe()"
   ]
  },
  {
   "cell_type": "code",
   "execution_count": 116,
   "metadata": {},
   "outputs": [
    {
     "data": {
      "text/html": [
       "<div>\n",
       "<style scoped>\n",
       "    .dataframe tbody tr th:only-of-type {\n",
       "        vertical-align: middle;\n",
       "    }\n",
       "\n",
       "    .dataframe tbody tr th {\n",
       "        vertical-align: top;\n",
       "    }\n",
       "\n",
       "    .dataframe thead th {\n",
       "        text-align: right;\n",
       "    }\n",
       "</style>\n",
       "<table border=\"1\" class=\"dataframe\">\n",
       "  <thead>\n",
       "    <tr style=\"text-align: right;\">\n",
       "      <th></th>\n",
       "      <th>count</th>\n",
       "      <th>mean</th>\n",
       "      <th>std</th>\n",
       "      <th>min</th>\n",
       "      <th>25%</th>\n",
       "      <th>50%</th>\n",
       "      <th>75%</th>\n",
       "      <th>max</th>\n",
       "    </tr>\n",
       "    <tr>\n",
       "      <th>years_old</th>\n",
       "      <th></th>\n",
       "      <th></th>\n",
       "      <th></th>\n",
       "      <th></th>\n",
       "      <th></th>\n",
       "      <th></th>\n",
       "      <th></th>\n",
       "      <th></th>\n",
       "    </tr>\n",
       "  </thead>\n",
       "  <tbody>\n",
       "    <tr>\n",
       "      <th>1</th>\n",
       "      <td>26047.0</td>\n",
       "      <td>4.028237e+06</td>\n",
       "      <td>3.125717e+06</td>\n",
       "      <td>627000.0</td>\n",
       "      <td>1910500.0</td>\n",
       "      <td>3140000.0</td>\n",
       "      <td>4930000.0</td>\n",
       "      <td>65435792.0</td>\n",
       "    </tr>\n",
       "    <tr>\n",
       "      <th>2</th>\n",
       "      <td>1540.0</td>\n",
       "      <td>6.147286e+06</td>\n",
       "      <td>4.370824e+06</td>\n",
       "      <td>871900.0</td>\n",
       "      <td>2532000.0</td>\n",
       "      <td>4061500.0</td>\n",
       "      <td>9041330.0</td>\n",
       "      <td>20770330.0</td>\n",
       "    </tr>\n",
       "    <tr>\n",
       "      <th>3</th>\n",
       "      <td>101.0</td>\n",
       "      <td>1.418830e+07</td>\n",
       "      <td>1.947822e+07</td>\n",
       "      <td>899900.0</td>\n",
       "      <td>4725000.0</td>\n",
       "      <td>6570070.0</td>\n",
       "      <td>7850000.0</td>\n",
       "      <td>59087576.0</td>\n",
       "    </tr>\n",
       "    <tr>\n",
       "      <th>4</th>\n",
       "      <td>1.0</td>\n",
       "      <td>3.829900e+06</td>\n",
       "      <td>NaN</td>\n",
       "      <td>3829900.0</td>\n",
       "      <td>3829900.0</td>\n",
       "      <td>3829900.0</td>\n",
       "      <td>3829900.0</td>\n",
       "      <td>3829900.0</td>\n",
       "    </tr>\n",
       "  </tbody>\n",
       "</table>\n",
       "</div>"
      ],
      "text/plain": [
       "             count          mean           std        min        25%  \\\n",
       "years_old                                                              \n",
       "1          26047.0  4.028237e+06  3.125717e+06   627000.0  1910500.0   \n",
       "2           1540.0  6.147286e+06  4.370824e+06   871900.0  2532000.0   \n",
       "3            101.0  1.418830e+07  1.947822e+07   899900.0  4725000.0   \n",
       "4              1.0  3.829900e+06           NaN  3829900.0  3829900.0   \n",
       "\n",
       "                 50%        75%         max  \n",
       "years_old                                    \n",
       "1          3140000.0  4930000.0  65435792.0  \n",
       "2          4061500.0  9041330.0  20770330.0  \n",
       "3          6570070.0  7850000.0  59087576.0  \n",
       "4          3829900.0  3829900.0   3829900.0  "
      ]
     },
     "execution_count": 116,
     "metadata": {},
     "output_type": "execute_result"
    }
   ],
   "source": [
    "traincc[traincc.mileage == 0].groupby('years_old').price.describe()"
   ]
  },
  {
   "cell_type": "code",
   "execution_count": 117,
   "metadata": {},
   "outputs": [
    {
     "data": {
      "text/plain": [
       "years_old\n",
       "1        221.086442\n",
       "2      18540.637895\n",
       "3      47010.312286\n",
       "4      69362.186863\n",
       "5      87640.432554\n",
       "6     100440.519812\n",
       "7     114898.115150\n",
       "8     126626.361621\n",
       "9     136818.031384\n",
       "10    147449.666282\n",
       "Name: mileage, dtype: float64"
      ]
     },
     "execution_count": 117,
     "metadata": {},
     "output_type": "execute_result"
    }
   ],
   "source": [
    "traincc.groupby('years_old').mileage.mean().head(10)\n"
   ]
  },
  {
   "cell_type": "markdown",
   "metadata": {},
   "source": [
    "Мы считали что в среднем за первый год машина проходит до 10 000 км, а после по  как минимум 20000 "
   ]
  },
  {
   "cell_type": "code",
   "execution_count": 118,
   "metadata": {},
   "outputs": [],
   "source": [
    "traincc['mileageNAN'] = traincc.mileageNAN * (traincc.years_old * 20000 + 10000)"
   ]
  },
  {
   "cell_type": "code",
   "execution_count": 119,
   "metadata": {},
   "outputs": [],
   "source": [
    "traincc.mileage = traincc.mileage + traincc.mileageNAN"
   ]
  },
  {
   "cell_type": "code",
   "execution_count": 120,
   "metadata": {},
   "outputs": [
    {
     "data": {
      "text/plain": [
       "count     196665.000000\n",
       "mean      140069.019953\n",
       "std        98596.005712\n",
       "min            1.000000\n",
       "25%        56666.000000\n",
       "50%       129000.000000\n",
       "75%       196000.000000\n",
       "max      1000000.000000\n",
       "Name: mileage, dtype: float64"
      ]
     },
     "execution_count": 120,
     "metadata": {},
     "output_type": "execute_result"
    }
   ],
   "source": [
    "traincc.mileage.describe()"
   ]
  },
  {
   "cell_type": "code",
   "execution_count": 121,
   "metadata": {},
   "outputs": [
    {
     "data": {
      "text/plain": [
       "years_old\n",
       "1      28939.892719\n",
       "2      30780.345414\n",
       "3      48018.008979\n",
       "4      69373.511891\n",
       "5      87640.432554\n",
       "6     100440.519812\n",
       "7     114898.115150\n",
       "8     126626.361621\n",
       "9     136818.031384\n",
       "10    147449.666282\n",
       "Name: mileage, dtype: float64"
      ]
     },
     "execution_count": 121,
     "metadata": {},
     "output_type": "execute_result"
    }
   ],
   "source": [
    "traincc.groupby('years_old').mileage.mean().head(10)\n"
   ]
  },
  {
   "cell_type": "code",
   "execution_count": 122,
   "metadata": {},
   "outputs": [
    {
     "data": {
      "text/plain": [
       "18051    2005\n",
       "24788    2019\n",
       "24789    2019\n",
       "42002    2019\n",
       "53666    1996\n",
       "59535    2014\n",
       "83747    2020\n",
       "83820    2020\n",
       "85056    2020\n",
       "86843    2020\n",
       "88166    2020\n",
       "88167    2020\n",
       "88210    2020\n",
       "88213    2020\n",
       "88290    2020\n",
       "88291    2019\n",
       "88305    2020\n",
       "88440    2008\n",
       "88652    1936\n",
       "45944    1956\n",
       "56361    2020\n",
       "70389    2020\n",
       "70483    2020\n",
       "76421    2020\n",
       "76528    2020\n",
       "76546    2020\n",
       "76548    2020\n",
       "76561    2020\n",
       "76584    2020\n",
       "8513     2020\n",
       "8558     2020\n",
       "8563     2020\n",
       "11683    1990\n",
       "15948    2020\n",
       "26081    2020\n",
       "28090    2020\n",
       "29743    2020\n",
       "29747    2020\n",
       "29749    2020\n",
       "29750    2020\n",
       "29755    2020\n",
       "30311    2020\n",
       "30943    2020\n",
       "31136    2020\n",
       "31276    2020\n",
       "31305    2020\n",
       "31603    2020\n",
       "31956    2020\n",
       "32354    2020\n",
       "Name: productionDate, dtype: int64"
      ]
     },
     "execution_count": 122,
     "metadata": {},
     "output_type": "execute_result"
    }
   ],
   "source": [
    "traincc[traincc.mileage == 1].productionDate"
   ]
  },
  {
   "cell_type": "markdown",
   "metadata": {},
   "source": [
    "Новый машина пробег = 1 это слишком мало .Поэтому тоже изменим"
   ]
  },
  {
   "cell_type": "code",
   "execution_count": 123,
   "metadata": {},
   "outputs": [],
   "source": [
    "traincc['mileage'] = traincc['mileage'].apply(lambda x: 1000 if x <100 else x)\n",
    "testcc['mileage'] = testcc['mileage'].apply(lambda x: 1000 if x < 100 else x)"
   ]
  },
  {
   "cell_type": "code",
   "execution_count": 124,
   "metadata": {},
   "outputs": [
    {
     "data": {
      "text/plain": [
       "(count     196665.000000\n",
       " mean      140071.122676\n",
       " std        98593.029370\n",
       " min          100.000000\n",
       " 25%        56666.000000\n",
       " 50%       129000.000000\n",
       " 75%       196000.000000\n",
       " max      1000000.000000\n",
       " Name: mileage, dtype: float64,\n",
       " count      34686.000000\n",
       " mean      162012.941360\n",
       " std       100671.468542\n",
       " min          100.000000\n",
       " 25%        91153.500000\n",
       " 50%       149779.500000\n",
       " 75%       215000.000000\n",
       " max      1000000.000000\n",
       " Name: mileage, dtype: float64)"
      ]
     },
     "execution_count": 124,
     "metadata": {},
     "output_type": "execute_result"
    }
   ],
   "source": [
    "traincc.mileage.describe(),testcc.mileage.describe()"
   ]
  },
  {
   "cell_type": "markdown",
   "metadata": {},
   "source": [
    "Привод"
   ]
  },
  {
   "cell_type": "code",
   "execution_count": 125,
   "metadata": {},
   "outputs": [
    {
     "data": {
      "text/plain": [
       "(передний    15565\n",
       " полный      15020\n",
       " задний       4101\n",
       " Name: Привод, dtype: int64,\n",
       " передний    94123\n",
       " полный      82574\n",
       " задний      19968\n",
       " Name: Привод, dtype: int64)"
      ]
     },
     "execution_count": 125,
     "metadata": {},
     "output_type": "execute_result"
    }
   ],
   "source": [
    "testcc.Привод.value_counts(),traincc.Привод.value_counts()"
   ]
  },
  {
   "cell_type": "code",
   "execution_count": 126,
   "metadata": {},
   "outputs": [
    {
     "data": {
      "text/plain": [
       "<matplotlib.axes._subplots.AxesSubplot at 0x7f6fd17ec790>"
      ]
     },
     "execution_count": 126,
     "metadata": {},
     "output_type": "execute_result"
    },
    {
     "data": {
      "image/png": "[encoded data removed]",
      "text/plain": [
       "<Figure size 432x288 with 1 Axes>"
      ]
     },
     "metadata": {
      "needs_background": "light"
     },
     "output_type": "display_data"
    }
   ],
   "source": [
    "sns.countplot(x = \"Привод\", data = testcc, palette = \"Blues_r\")"
   ]
  },
  {
   "cell_type": "code",
   "execution_count": 127,
   "metadata": {},
   "outputs": [
    {
     "data": {
      "text/plain": [
       "<matplotlib.axes._subplots.AxesSubplot at 0x7f6fd1d030d0>"
      ]
     },
     "execution_count": 127,
     "metadata": {},
     "output_type": "execute_result"
    },
    {
     "data": {
      "image/png": "[encoded data removed]",
      "text/plain": [
       "<Figure size 432x288 with 1 Axes>"
      ]
     },
     "metadata": {
      "needs_background": "light"
     },
     "output_type": "display_data"
    }
   ],
   "source": [
    "sns.countplot(x = \"Привод\", data = train, palette = \"Blues_r\")"
   ]
  },
  {
   "cell_type": "markdown",
   "metadata": {},
   "source": [
    "**price**"
   ]
  },
  {
   "cell_type": "code",
   "execution_count": 128,
   "metadata": {},
   "outputs": [
    {
     "data": {
      "text/plain": [
       "<matplotlib.axes._subplots.AxesSubplot at 0x7f6fd1e19390>"
      ]
     },
     "execution_count": 128,
     "metadata": {},
     "output_type": "execute_result"
    },
    {
     "data": {
      "image/png": "[encoded data removed]",
      "text/plain": [
       "<Figure size 432x288 with 1 Axes>"
      ]
     },
     "metadata": {
      "needs_background": "light"
     },
     "output_type": "display_data"
    }
   ],
   "source": [
    "traincc['price'].hist(bins=77)"
   ]
  },
  {
   "cell_type": "code",
   "execution_count": 129,
   "metadata": {},
   "outputs": [
    {
     "data": {
      "text/plain": [
       "<matplotlib.axes._subplots.AxesSubplot at 0x7f6fd2298d10>"
      ]
     },
     "execution_count": 129,
     "metadata": {},
     "output_type": "execute_result"
    },
    {
     "data": {
      "image/png": "[encoded data removed]",
      "text/plain": [
       "<Figure size 432x288 with 1 Axes>"
      ]
     },
     "metadata": {
      "needs_background": "light"
     },
     "output_type": "display_data"
    }
   ],
   "source": [
    "traincc['log_price'].hist(bins=77)"
   ]
  },
  {
   "cell_type": "markdown",
   "metadata": {},
   "source": [
    "Drop columns"
   ]
  },
  {
   "cell_type": "code",
   "execution_count": 130,
   "metadata": {},
   "outputs": [],
   "source": [
    "columns_drop1 = ['model_info', 'name', 'car_url', 'sell_id', 'complectation_dict', 'equipment_dict',\n",
    "                'vehicleConfiguration','Владение', 'image', 'parsing_unixtime', 'super_gen',\n",
    "                'description',  'log_power']\n",
    "columns_drop2 = ['model_info', 'name', 'sell_id', 'complectation_dict', 'equipment_dict',\n",
    "                'vehicleConfiguration','Владение', 'image', 'super_gen','description',  'log_power',\n",
    "                 'mileageNAN','hidden', 'price_EUR', 'price_USD','Комплектация','model','start_date']"
   ]
  },
  {
   "cell_type": "code",
   "execution_count": 131,
   "metadata": {},
   "outputs": [],
   "source": [
    "testcc.drop(columns_drop1, axis=1, inplace=True)\n",
    "traincc.drop(columns_drop2, axis=1, inplace=True)"
   ]
  },
  {
   "cell_type": "code",
   "execution_count": 132,
   "metadata": {},
   "outputs": [],
   "source": [
    "traincc['model_name'] = traincc['model_name'].fillna(traincc['model_name'].describe().top)\n",
    "traincc['Владельцы'] = traincc['Владельцы'].fillna(traincc['Владельцы'].describe().top)"
   ]
  },
  {
   "cell_type": "code",
   "execution_count": 133,
   "metadata": {},
   "outputs": [
    {
     "data": {
      "text/html": [
       "<div>\n",
       "<style scoped>\n",
       "    .dataframe tbody tr th:only-of-type {\n",
       "        vertical-align: middle;\n",
       "    }\n",
       "\n",
       "    .dataframe tbody tr th {\n",
       "        vertical-align: top;\n",
       "    }\n",
       "\n",
       "    .dataframe thead th {\n",
       "        text-align: right;\n",
       "    }\n",
       "</style>\n",
       "<table border=\"1\" class=\"dataframe\">\n",
       "  <thead>\n",
       "    <tr style=\"text-align: right;\">\n",
       "      <th></th>\n",
       "      <th>modelDate</th>\n",
       "      <th>numberOfDoors</th>\n",
       "      <th>productionDate</th>\n",
       "      <th>engineDisplacement</th>\n",
       "      <th>enginePower</th>\n",
       "      <th>mileage</th>\n",
       "      <th>price</th>\n",
       "      <th>leather</th>\n",
       "      <th>carter</th>\n",
       "      <th>ABS</th>\n",
       "      <th>...</th>\n",
       "      <th>alloy_wheels</th>\n",
       "      <th>parking_sensors</th>\n",
       "      <th>dents</th>\n",
       "      <th>roof_with_panoramic_view</th>\n",
       "      <th>log_price</th>\n",
       "      <th>bT_length</th>\n",
       "      <th>brand_length</th>\n",
       "      <th>Nalog_base</th>\n",
       "      <th>Nalog</th>\n",
       "      <th>years_old</th>\n",
       "    </tr>\n",
       "  </thead>\n",
       "  <tbody>\n",
       "    <tr>\n",
       "      <th>count</th>\n",
       "      <td>196665.000000</td>\n",
       "      <td>196665.000000</td>\n",
       "      <td>196665.000000</td>\n",
       "      <td>196665.000000</td>\n",
       "      <td>196665.000000</td>\n",
       "      <td>196665.000000</td>\n",
       "      <td>1.966650e+05</td>\n",
       "      <td>196665.000000</td>\n",
       "      <td>196665.000000</td>\n",
       "      <td>196665.000000</td>\n",
       "      <td>...</td>\n",
       "      <td>196665.000000</td>\n",
       "      <td>196665.000000</td>\n",
       "      <td>196665.000000</td>\n",
       "      <td>196665.000000</td>\n",
       "      <td>196665.000000</td>\n",
       "      <td>196665.000000</td>\n",
       "      <td>196665.000000</td>\n",
       "      <td>196665.000000</td>\n",
       "      <td>196665.000000</td>\n",
       "      <td>196665.000000</td>\n",
       "    </tr>\n",
       "    <tr>\n",
       "      <th>mean</th>\n",
       "      <td>2008.702026</td>\n",
       "      <td>4.518003</td>\n",
       "      <td>2010.935871</td>\n",
       "      <td>14.015820</td>\n",
       "      <td>178.837500</td>\n",
       "      <td>140071.122676</td>\n",
       "      <td>1.453994e+06</td>\n",
       "      <td>0.162006</td>\n",
       "      <td>0.041904</td>\n",
       "      <td>0.183225</td>\n",
       "      <td>...</td>\n",
       "      <td>0.117428</td>\n",
       "      <td>0.054026</td>\n",
       "      <td>0.001708</td>\n",
       "      <td>0.028439</td>\n",
       "      <td>13.602085</td>\n",
       "      <td>11.209854</td>\n",
       "      <td>7.595734</td>\n",
       "      <td>54.241609</td>\n",
       "      <td>12955.995302</td>\n",
       "      <td>10.064129</td>\n",
       "    </tr>\n",
       "    <tr>\n",
       "      <th>std</th>\n",
       "      <td>7.515578</td>\n",
       "      <td>0.653853</td>\n",
       "      <td>7.111146</td>\n",
       "      <td>64.905772</td>\n",
       "      <td>86.239581</td>\n",
       "      <td>98593.029370</td>\n",
       "      <td>2.101454e+06</td>\n",
       "      <td>0.368458</td>\n",
       "      <td>0.200370</td>\n",
       "      <td>0.386852</td>\n",
       "      <td>...</td>\n",
       "      <td>0.321931</td>\n",
       "      <td>0.226069</td>\n",
       "      <td>0.041299</td>\n",
       "      <td>0.166224</td>\n",
       "      <td>1.067077</td>\n",
       "      <td>5.491664</td>\n",
       "      <td>2.673367</td>\n",
       "      <td>54.514696</td>\n",
       "      <td>16911.543762</td>\n",
       "      <td>7.111146</td>\n",
       "    </tr>\n",
       "    <tr>\n",
       "      <th>min</th>\n",
       "      <td>1904.000000</td>\n",
       "      <td>0.000000</td>\n",
       "      <td>1904.000000</td>\n",
       "      <td>0.800000</td>\n",
       "      <td>11.000000</td>\n",
       "      <td>100.000000</td>\n",
       "      <td>1.600000e+04</td>\n",
       "      <td>0.000000</td>\n",
       "      <td>0.000000</td>\n",
       "      <td>0.000000</td>\n",
       "      <td>...</td>\n",
       "      <td>0.000000</td>\n",
       "      <td>0.000000</td>\n",
       "      <td>0.000000</td>\n",
       "      <td>0.000000</td>\n",
       "      <td>9.680344</td>\n",
       "      <td>4.000000</td>\n",
       "      <td>3.000000</td>\n",
       "      <td>12.000000</td>\n",
       "      <td>456.000000</td>\n",
       "      <td>1.000000</td>\n",
       "    </tr>\n",
       "    <tr>\n",
       "      <th>25%</th>\n",
       "      <td>2005.000000</td>\n",
       "      <td>4.000000</td>\n",
       "      <td>2007.000000</td>\n",
       "      <td>1.600000</td>\n",
       "      <td>120.000000</td>\n",
       "      <td>56666.000000</td>\n",
       "      <td>3.950000e+05</td>\n",
       "      <td>0.000000</td>\n",
       "      <td>0.000000</td>\n",
       "      <td>0.000000</td>\n",
       "      <td>...</td>\n",
       "      <td>0.000000</td>\n",
       "      <td>0.000000</td>\n",
       "      <td>0.000000</td>\n",
       "      <td>0.000000</td>\n",
       "      <td>12.886641</td>\n",
       "      <td>5.000000</td>\n",
       "      <td>5.000000</td>\n",
       "      <td>25.000000</td>\n",
       "      <td>3000.000000</td>\n",
       "      <td>5.000000</td>\n",
       "    </tr>\n",
       "    <tr>\n",
       "      <th>50%</th>\n",
       "      <td>2010.000000</td>\n",
       "      <td>5.000000</td>\n",
       "      <td>2012.000000</td>\n",
       "      <td>2.000000</td>\n",
       "      <td>150.000000</td>\n",
       "      <td>129000.000000</td>\n",
       "      <td>7.500000e+05</td>\n",
       "      <td>0.000000</td>\n",
       "      <td>0.000000</td>\n",
       "      <td>0.000000</td>\n",
       "      <td>...</td>\n",
       "      <td>0.000000</td>\n",
       "      <td>0.000000</td>\n",
       "      <td>0.000000</td>\n",
       "      <td>0.000000</td>\n",
       "      <td>13.527828</td>\n",
       "      <td>13.000000</td>\n",
       "      <td>8.000000</td>\n",
       "      <td>35.000000</td>\n",
       "      <td>5250.000000</td>\n",
       "      <td>9.000000</td>\n",
       "    </tr>\n",
       "    <tr>\n",
       "      <th>75%</th>\n",
       "      <td>2014.000000</td>\n",
       "      <td>5.000000</td>\n",
       "      <td>2016.000000</td>\n",
       "      <td>2.500000</td>\n",
       "      <td>218.000000</td>\n",
       "      <td>196000.000000</td>\n",
       "      <td>1.654990e+06</td>\n",
       "      <td>0.000000</td>\n",
       "      <td>0.000000</td>\n",
       "      <td>0.000000</td>\n",
       "      <td>...</td>\n",
       "      <td>0.000000</td>\n",
       "      <td>0.000000</td>\n",
       "      <td>0.000000</td>\n",
       "      <td>0.000000</td>\n",
       "      <td>14.319306</td>\n",
       "      <td>17.000000</td>\n",
       "      <td>10.000000</td>\n",
       "      <td>65.000000</td>\n",
       "      <td>14170.000000</td>\n",
       "      <td>14.000000</td>\n",
       "    </tr>\n",
       "    <tr>\n",
       "      <th>max</th>\n",
       "      <td>2020.000000</td>\n",
       "      <td>5.000000</td>\n",
       "      <td>2020.000000</td>\n",
       "      <td>520.000000</td>\n",
       "      <td>800.000000</td>\n",
       "      <td>1000000.000000</td>\n",
       "      <td>9.900000e+07</td>\n",
       "      <td>1.000000</td>\n",
       "      <td>1.000000</td>\n",
       "      <td>1.000000</td>\n",
       "      <td>...</td>\n",
       "      <td>1.000000</td>\n",
       "      <td>1.000000</td>\n",
       "      <td>1.000000</td>\n",
       "      <td>1.000000</td>\n",
       "      <td>18.410630</td>\n",
       "      <td>23.000000</td>\n",
       "      <td>10.000000</td>\n",
       "      <td>5000.000000</td>\n",
       "      <td>160000.000000</td>\n",
       "      <td>117.000000</td>\n",
       "    </tr>\n",
       "  </tbody>\n",
       "</table>\n",
       "<p>8 rows × 36 columns</p>\n",
       "</div>"
      ],
      "text/plain": [
       "           modelDate  numberOfDoors  productionDate  engineDisplacement  \\\n",
       "count  196665.000000  196665.000000   196665.000000       196665.000000   \n",
       "mean     2008.702026       4.518003     2010.935871           14.015820   \n",
       "std         7.515578       0.653853        7.111146           64.905772   \n",
       "min      1904.000000       0.000000     1904.000000            0.800000   \n",
       "25%      2005.000000       4.000000     2007.000000            1.600000   \n",
       "50%      2010.000000       5.000000     2012.000000            2.000000   \n",
       "75%      2014.000000       5.000000     2016.000000            2.500000   \n",
       "max      2020.000000       5.000000     2020.000000          520.000000   \n",
       "\n",
       "         enginePower         mileage         price        leather  \\\n",
       "count  196665.000000   196665.000000  1.966650e+05  196665.000000   \n",
       "mean      178.837500   140071.122676  1.453994e+06       0.162006   \n",
       "std        86.239581    98593.029370  2.101454e+06       0.368458   \n",
       "min        11.000000      100.000000  1.600000e+04       0.000000   \n",
       "25%       120.000000    56666.000000  3.950000e+05       0.000000   \n",
       "50%       150.000000   129000.000000  7.500000e+05       0.000000   \n",
       "75%       218.000000   196000.000000  1.654990e+06       0.000000   \n",
       "max       800.000000  1000000.000000  9.900000e+07       1.000000   \n",
       "\n",
       "              carter            ABS  ...   alloy_wheels  parking_sensors  \\\n",
       "count  196665.000000  196665.000000  ...  196665.000000    196665.000000   \n",
       "mean        0.041904       0.183225  ...       0.117428         0.054026   \n",
       "std         0.200370       0.386852  ...       0.321931         0.226069   \n",
       "min         0.000000       0.000000  ...       0.000000         0.000000   \n",
       "25%         0.000000       0.000000  ...       0.000000         0.000000   \n",
       "50%         0.000000       0.000000  ...       0.000000         0.000000   \n",
       "75%         0.000000       0.000000  ...       0.000000         0.000000   \n",
       "max         1.000000       1.000000  ...       1.000000         1.000000   \n",
       "\n",
       "               dents  roof_with_panoramic_view      log_price      bT_length  \\\n",
       "count  196665.000000             196665.000000  196665.000000  196665.000000   \n",
       "mean        0.001708                  0.028439      13.602085      11.209854   \n",
       "std         0.041299                  0.166224       1.067077       5.491664   \n",
       "min         0.000000                  0.000000       9.680344       4.000000   \n",
       "25%         0.000000                  0.000000      12.886641       5.000000   \n",
       "50%         0.000000                  0.000000      13.527828      13.000000   \n",
       "75%         0.000000                  0.000000      14.319306      17.000000   \n",
       "max         1.000000                  1.000000      18.410630      23.000000   \n",
       "\n",
       "        brand_length     Nalog_base          Nalog      years_old  \n",
       "count  196665.000000  196665.000000  196665.000000  196665.000000  \n",
       "mean        7.595734      54.241609   12955.995302      10.064129  \n",
       "std         2.673367      54.514696   16911.543762       7.111146  \n",
       "min         3.000000      12.000000     456.000000       1.000000  \n",
       "25%         5.000000      25.000000    3000.000000       5.000000  \n",
       "50%         8.000000      35.000000    5250.000000       9.000000  \n",
       "75%        10.000000      65.000000   14170.000000      14.000000  \n",
       "max        10.000000    5000.000000  160000.000000     117.000000  \n",
       "\n",
       "[8 rows x 36 columns]"
      ]
     },
     "execution_count": 133,
     "metadata": {},
     "output_type": "execute_result"
    }
   ],
   "source": [
    "traincc.describe()"
   ]
  },
  {
   "cell_type": "code",
   "execution_count": 134,
   "metadata": {},
   "outputs": [
    {
     "data": {
      "text/html": [
       "<div>\n",
       "<style scoped>\n",
       "    .dataframe tbody tr th:only-of-type {\n",
       "        vertical-align: middle;\n",
       "    }\n",
       "\n",
       "    .dataframe tbody tr th {\n",
       "        vertical-align: top;\n",
       "    }\n",
       "\n",
       "    .dataframe thead th {\n",
       "        text-align: right;\n",
       "    }\n",
       "</style>\n",
       "<table border=\"1\" class=\"dataframe\">\n",
       "  <thead>\n",
       "    <tr style=\"text-align: right;\">\n",
       "      <th></th>\n",
       "      <th>enginePower</th>\n",
       "      <th>mileage</th>\n",
       "      <th>modelDate</th>\n",
       "      <th>numberOfDoors</th>\n",
       "      <th>productionDate</th>\n",
       "      <th>leather</th>\n",
       "      <th>carter</th>\n",
       "      <th>ABS</th>\n",
       "      <th>airbags</th>\n",
       "      <th>immob</th>\n",
       "      <th>...</th>\n",
       "      <th>from_salon</th>\n",
       "      <th>alloy_wheels</th>\n",
       "      <th>parking_sensors</th>\n",
       "      <th>dents</th>\n",
       "      <th>roof_with_panoramic_view</th>\n",
       "      <th>bT_length</th>\n",
       "      <th>brand_length</th>\n",
       "      <th>Nalog_base</th>\n",
       "      <th>Nalog</th>\n",
       "      <th>years_old</th>\n",
       "    </tr>\n",
       "  </thead>\n",
       "  <tbody>\n",
       "    <tr>\n",
       "      <th>count</th>\n",
       "      <td>34686.000000</td>\n",
       "      <td>34686.000000</td>\n",
       "      <td>34686.000000</td>\n",
       "      <td>34686.000000</td>\n",
       "      <td>34686.000000</td>\n",
       "      <td>34686.000000</td>\n",
       "      <td>34686.000000</td>\n",
       "      <td>34686.000000</td>\n",
       "      <td>34686.000000</td>\n",
       "      <td>34686.000000</td>\n",
       "      <td>...</td>\n",
       "      <td>34686.000000</td>\n",
       "      <td>34686.000000</td>\n",
       "      <td>34686.000000</td>\n",
       "      <td>34686.000000</td>\n",
       "      <td>34686.000000</td>\n",
       "      <td>34686.000000</td>\n",
       "      <td>34686.000000</td>\n",
       "      <td>34686.000000</td>\n",
       "      <td>34686.000000</td>\n",
       "      <td>34686.000000</td>\n",
       "    </tr>\n",
       "    <tr>\n",
       "      <th>mean</th>\n",
       "      <td>188.194142</td>\n",
       "      <td>162012.941360</td>\n",
       "      <td>2007.074728</td>\n",
       "      <td>4.450816</td>\n",
       "      <td>2009.264602</td>\n",
       "      <td>0.153635</td>\n",
       "      <td>0.013983</td>\n",
       "      <td>0.112524</td>\n",
       "      <td>0.075881</td>\n",
       "      <td>0.046272</td>\n",
       "      <td>...</td>\n",
       "      <td>0.045897</td>\n",
       "      <td>0.053912</td>\n",
       "      <td>0.042005</td>\n",
       "      <td>0.001845</td>\n",
       "      <td>0.016058</td>\n",
       "      <td>10.655625</td>\n",
       "      <td>6.364441</td>\n",
       "      <td>59.171135</td>\n",
       "      <td>14557.270772</td>\n",
       "      <td>11.735398</td>\n",
       "    </tr>\n",
       "    <tr>\n",
       "      <th>std</th>\n",
       "      <td>89.087035</td>\n",
       "      <td>100671.468542</td>\n",
       "      <td>7.415894</td>\n",
       "      <td>0.703040</td>\n",
       "      <td>7.047661</td>\n",
       "      <td>0.360604</td>\n",
       "      <td>0.117420</td>\n",
       "      <td>0.316014</td>\n",
       "      <td>0.264811</td>\n",
       "      <td>0.210077</td>\n",
       "      <td>...</td>\n",
       "      <td>0.209266</td>\n",
       "      <td>0.225848</td>\n",
       "      <td>0.200604</td>\n",
       "      <td>0.042916</td>\n",
       "      <td>0.125702</td>\n",
       "      <td>5.543661</td>\n",
       "      <td>2.350798</td>\n",
       "      <td>57.081272</td>\n",
       "      <td>17809.774780</td>\n",
       "      <td>7.047661</td>\n",
       "    </tr>\n",
       "    <tr>\n",
       "      <th>min</th>\n",
       "      <td>30.000000</td>\n",
       "      <td>100.000000</td>\n",
       "      <td>1904.000000</td>\n",
       "      <td>0.000000</td>\n",
       "      <td>1904.000000</td>\n",
       "      <td>0.000000</td>\n",
       "      <td>0.000000</td>\n",
       "      <td>0.000000</td>\n",
       "      <td>0.000000</td>\n",
       "      <td>0.000000</td>\n",
       "      <td>...</td>\n",
       "      <td>0.000000</td>\n",
       "      <td>0.000000</td>\n",
       "      <td>0.000000</td>\n",
       "      <td>0.000000</td>\n",
       "      <td>0.000000</td>\n",
       "      <td>4.000000</td>\n",
       "      <td>3.000000</td>\n",
       "      <td>12.000000</td>\n",
       "      <td>456.000000</td>\n",
       "      <td>1.000000</td>\n",
       "    </tr>\n",
       "    <tr>\n",
       "      <th>25%</th>\n",
       "      <td>125.000000</td>\n",
       "      <td>91153.500000</td>\n",
       "      <td>2004.000000</td>\n",
       "      <td>4.000000</td>\n",
       "      <td>2006.000000</td>\n",
       "      <td>0.000000</td>\n",
       "      <td>0.000000</td>\n",
       "      <td>0.000000</td>\n",
       "      <td>0.000000</td>\n",
       "      <td>0.000000</td>\n",
       "      <td>...</td>\n",
       "      <td>0.000000</td>\n",
       "      <td>0.000000</td>\n",
       "      <td>0.000000</td>\n",
       "      <td>0.000000</td>\n",
       "      <td>0.000000</td>\n",
       "      <td>5.000000</td>\n",
       "      <td>5.000000</td>\n",
       "      <td>25.000000</td>\n",
       "      <td>3125.000000</td>\n",
       "      <td>7.000000</td>\n",
       "    </tr>\n",
       "    <tr>\n",
       "      <th>50%</th>\n",
       "      <td>169.000000</td>\n",
       "      <td>149779.500000</td>\n",
       "      <td>2008.000000</td>\n",
       "      <td>5.000000</td>\n",
       "      <td>2011.000000</td>\n",
       "      <td>0.000000</td>\n",
       "      <td>0.000000</td>\n",
       "      <td>0.000000</td>\n",
       "      <td>0.000000</td>\n",
       "      <td>0.000000</td>\n",
       "      <td>...</td>\n",
       "      <td>0.000000</td>\n",
       "      <td>0.000000</td>\n",
       "      <td>0.000000</td>\n",
       "      <td>0.000000</td>\n",
       "      <td>0.000000</td>\n",
       "      <td>7.000000</td>\n",
       "      <td>6.000000</td>\n",
       "      <td>45.000000</td>\n",
       "      <td>7605.000000</td>\n",
       "      <td>10.000000</td>\n",
       "    </tr>\n",
       "    <tr>\n",
       "      <th>75%</th>\n",
       "      <td>233.000000</td>\n",
       "      <td>215000.000000</td>\n",
       "      <td>2012.000000</td>\n",
       "      <td>5.000000</td>\n",
       "      <td>2014.000000</td>\n",
       "      <td>0.000000</td>\n",
       "      <td>0.000000</td>\n",
       "      <td>0.000000</td>\n",
       "      <td>0.000000</td>\n",
       "      <td>0.000000</td>\n",
       "      <td>...</td>\n",
       "      <td>0.000000</td>\n",
       "      <td>0.000000</td>\n",
       "      <td>0.000000</td>\n",
       "      <td>0.000000</td>\n",
       "      <td>0.000000</td>\n",
       "      <td>17.000000</td>\n",
       "      <td>8.000000</td>\n",
       "      <td>75.000000</td>\n",
       "      <td>17550.000000</td>\n",
       "      <td>15.000000</td>\n",
       "    </tr>\n",
       "    <tr>\n",
       "      <th>max</th>\n",
       "      <td>639.000000</td>\n",
       "      <td>1000000.000000</td>\n",
       "      <td>2020.000000</td>\n",
       "      <td>5.000000</td>\n",
       "      <td>2020.000000</td>\n",
       "      <td>1.000000</td>\n",
       "      <td>1.000000</td>\n",
       "      <td>1.000000</td>\n",
       "      <td>1.000000</td>\n",
       "      <td>1.000000</td>\n",
       "      <td>...</td>\n",
       "      <td>1.000000</td>\n",
       "      <td>1.000000</td>\n",
       "      <td>1.000000</td>\n",
       "      <td>1.000000</td>\n",
       "      <td>1.000000</td>\n",
       "      <td>23.000000</td>\n",
       "      <td>10.000000</td>\n",
       "      <td>5000.000000</td>\n",
       "      <td>160000.000000</td>\n",
       "      <td>117.000000</td>\n",
       "    </tr>\n",
       "  </tbody>\n",
       "</table>\n",
       "<p>8 rows × 33 columns</p>\n",
       "</div>"
      ],
      "text/plain": [
       "        enginePower         mileage     modelDate  numberOfDoors  \\\n",
       "count  34686.000000    34686.000000  34686.000000   34686.000000   \n",
       "mean     188.194142   162012.941360   2007.074728       4.450816   \n",
       "std       89.087035   100671.468542      7.415894       0.703040   \n",
       "min       30.000000      100.000000   1904.000000       0.000000   \n",
       "25%      125.000000    91153.500000   2004.000000       4.000000   \n",
       "50%      169.000000   149779.500000   2008.000000       5.000000   \n",
       "75%      233.000000   215000.000000   2012.000000       5.000000   \n",
       "max      639.000000  1000000.000000   2020.000000       5.000000   \n",
       "\n",
       "       productionDate       leather        carter           ABS       airbags  \\\n",
       "count    34686.000000  34686.000000  34686.000000  34686.000000  34686.000000   \n",
       "mean      2009.264602      0.153635      0.013983      0.112524      0.075881   \n",
       "std          7.047661      0.360604      0.117420      0.316014      0.264811   \n",
       "min       1904.000000      0.000000      0.000000      0.000000      0.000000   \n",
       "25%       2006.000000      0.000000      0.000000      0.000000      0.000000   \n",
       "50%       2011.000000      0.000000      0.000000      0.000000      0.000000   \n",
       "75%       2014.000000      0.000000      0.000000      0.000000      0.000000   \n",
       "max       2020.000000      1.000000      1.000000      1.000000      1.000000   \n",
       "\n",
       "              immob  ...    from_salon  alloy_wheels  parking_sensors  \\\n",
       "count  34686.000000  ...  34686.000000  34686.000000     34686.000000   \n",
       "mean       0.046272  ...      0.045897      0.053912         0.042005   \n",
       "std        0.210077  ...      0.209266      0.225848         0.200604   \n",
       "min        0.000000  ...      0.000000      0.000000         0.000000   \n",
       "25%        0.000000  ...      0.000000      0.000000         0.000000   \n",
       "50%        0.000000  ...      0.000000      0.000000         0.000000   \n",
       "75%        0.000000  ...      0.000000      0.000000         0.000000   \n",
       "max        1.000000  ...      1.000000      1.000000         1.000000   \n",
       "\n",
       "              dents  roof_with_panoramic_view     bT_length  brand_length  \\\n",
       "count  34686.000000              34686.000000  34686.000000  34686.000000   \n",
       "mean       0.001845                  0.016058     10.655625      6.364441   \n",
       "std        0.042916                  0.125702      5.543661      2.350798   \n",
       "min        0.000000                  0.000000      4.000000      3.000000   \n",
       "25%        0.000000                  0.000000      5.000000      5.000000   \n",
       "50%        0.000000                  0.000000      7.000000      6.000000   \n",
       "75%        0.000000                  0.000000     17.000000      8.000000   \n",
       "max        1.000000                  1.000000     23.000000     10.000000   \n",
       "\n",
       "         Nalog_base          Nalog     years_old  \n",
       "count  34686.000000   34686.000000  34686.000000  \n",
       "mean      59.171135   14557.270772     11.735398  \n",
       "std       57.081272   17809.774780      7.047661  \n",
       "min       12.000000     456.000000      1.000000  \n",
       "25%       25.000000    3125.000000      7.000000  \n",
       "50%       45.000000    7605.000000     10.000000  \n",
       "75%       75.000000   17550.000000     15.000000  \n",
       "max     5000.000000  160000.000000    117.000000  \n",
       "\n",
       "[8 rows x 33 columns]"
      ]
     },
     "execution_count": 134,
     "metadata": {},
     "output_type": "execute_result"
    }
   ],
   "source": [
    "testcc.describe()"
   ]
  },
  {
   "cell_type": "code",
   "execution_count": 135,
   "metadata": {},
   "outputs": [],
   "source": [
    "num_cols = ['engineDisplacement', 'enginePower', 'mileage', 'bT_length', 'Nalog_base',\n",
    "       'brand_length', 'Nalog', 'years_old', 'log_price']"
   ]
  },
  {
   "cell_type": "code",
   "execution_count": null,
   "metadata": {},
   "outputs": [],
   "source": []
  },
  {
   "cell_type": "code",
   "execution_count": 136,
   "metadata": {},
   "outputs": [
    {
     "data": {
      "text/html": [
       "<div>\n",
       "<style scoped>\n",
       "    .dataframe tbody tr th:only-of-type {\n",
       "        vertical-align: middle;\n",
       "    }\n",
       "\n",
       "    .dataframe tbody tr th {\n",
       "        vertical-align: top;\n",
       "    }\n",
       "\n",
       "    .dataframe thead th {\n",
       "        text-align: right;\n",
       "    }\n",
       "</style>\n",
       "<table border=\"1\" class=\"dataframe\">\n",
       "  <thead>\n",
       "    <tr style=\"text-align: right;\">\n",
       "      <th></th>\n",
       "      <th>engineDisplacement</th>\n",
       "      <th>enginePower</th>\n",
       "      <th>mileage</th>\n",
       "      <th>bT_length</th>\n",
       "      <th>Nalog_base</th>\n",
       "      <th>brand_length</th>\n",
       "      <th>Nalog</th>\n",
       "      <th>years_old</th>\n",
       "      <th>log_price</th>\n",
       "    </tr>\n",
       "  </thead>\n",
       "  <tbody>\n",
       "    <tr>\n",
       "      <th>engineDisplacement</th>\n",
       "      <td>1.000000</td>\n",
       "      <td>0.148985</td>\n",
       "      <td>-0.041928</td>\n",
       "      <td>-0.047293</td>\n",
       "      <td>0.115049</td>\n",
       "      <td>-0.079169</td>\n",
       "      <td>0.131753</td>\n",
       "      <td>-0.047357</td>\n",
       "      <td>0.146826</td>\n",
       "    </tr>\n",
       "    <tr>\n",
       "      <th>enginePower</th>\n",
       "      <td>0.148985</td>\n",
       "      <td>1.000000</td>\n",
       "      <td>-0.159357</td>\n",
       "      <td>0.184949</td>\n",
       "      <td>0.692481</td>\n",
       "      <td>-0.315387</td>\n",
       "      <td>0.953934</td>\n",
       "      <td>-0.197514</td>\n",
       "      <td>0.601898</td>\n",
       "    </tr>\n",
       "    <tr>\n",
       "      <th>mileage</th>\n",
       "      <td>-0.041928</td>\n",
       "      <td>-0.159357</td>\n",
       "      <td>1.000000</td>\n",
       "      <td>-0.175326</td>\n",
       "      <td>-0.083630</td>\n",
       "      <td>-0.026556</td>\n",
       "      <td>-0.121274</td>\n",
       "      <td>0.727474</td>\n",
       "      <td>-0.628831</td>\n",
       "    </tr>\n",
       "    <tr>\n",
       "      <th>bT_length</th>\n",
       "      <td>-0.047293</td>\n",
       "      <td>0.184949</td>\n",
       "      <td>-0.175326</td>\n",
       "      <td>1.000000</td>\n",
       "      <td>0.134259</td>\n",
       "      <td>0.040776</td>\n",
       "      <td>0.156143</td>\n",
       "      <td>-0.198110</td>\n",
       "      <td>0.299142</td>\n",
       "    </tr>\n",
       "    <tr>\n",
       "      <th>Nalog_base</th>\n",
       "      <td>0.115049</td>\n",
       "      <td>0.692481</td>\n",
       "      <td>-0.083630</td>\n",
       "      <td>0.134259</td>\n",
       "      <td>1.000000</td>\n",
       "      <td>-0.233066</td>\n",
       "      <td>0.752939</td>\n",
       "      <td>-0.060675</td>\n",
       "      <td>0.395302</td>\n",
       "    </tr>\n",
       "    <tr>\n",
       "      <th>brand_length</th>\n",
       "      <td>-0.079169</td>\n",
       "      <td>-0.315387</td>\n",
       "      <td>-0.026556</td>\n",
       "      <td>0.040776</td>\n",
       "      <td>-0.233066</td>\n",
       "      <td>1.000000</td>\n",
       "      <td>-0.255352</td>\n",
       "      <td>0.002356</td>\n",
       "      <td>-0.254858</td>\n",
       "    </tr>\n",
       "    <tr>\n",
       "      <th>Nalog</th>\n",
       "      <td>0.131753</td>\n",
       "      <td>0.953934</td>\n",
       "      <td>-0.121274</td>\n",
       "      <td>0.156143</td>\n",
       "      <td>0.752939</td>\n",
       "      <td>-0.255352</td>\n",
       "      <td>1.000000</td>\n",
       "      <td>-0.129520</td>\n",
       "      <td>0.493030</td>\n",
       "    </tr>\n",
       "    <tr>\n",
       "      <th>years_old</th>\n",
       "      <td>-0.047357</td>\n",
       "      <td>-0.197514</td>\n",
       "      <td>0.727474</td>\n",
       "      <td>-0.198110</td>\n",
       "      <td>-0.060675</td>\n",
       "      <td>0.002356</td>\n",
       "      <td>-0.129520</td>\n",
       "      <td>1.000000</td>\n",
       "      <td>-0.738937</td>\n",
       "    </tr>\n",
       "    <tr>\n",
       "      <th>log_price</th>\n",
       "      <td>0.146826</td>\n",
       "      <td>0.601898</td>\n",
       "      <td>-0.628831</td>\n",
       "      <td>0.299142</td>\n",
       "      <td>0.395302</td>\n",
       "      <td>-0.254858</td>\n",
       "      <td>0.493030</td>\n",
       "      <td>-0.738937</td>\n",
       "      <td>1.000000</td>\n",
       "    </tr>\n",
       "  </tbody>\n",
       "</table>\n",
       "</div>"
      ],
      "text/plain": [
       "                    engineDisplacement  enginePower   mileage  bT_length  \\\n",
       "engineDisplacement            1.000000     0.148985 -0.041928  -0.047293   \n",
       "enginePower                   0.148985     1.000000 -0.159357   0.184949   \n",
       "mileage                      -0.041928    -0.159357  1.000000  -0.175326   \n",
       "bT_length                    -0.047293     0.184949 -0.175326   1.000000   \n",
       "Nalog_base                    0.115049     0.692481 -0.083630   0.134259   \n",
       "brand_length                 -0.079169    -0.315387 -0.026556   0.040776   \n",
       "Nalog                         0.131753     0.953934 -0.121274   0.156143   \n",
       "years_old                    -0.047357    -0.197514  0.727474  -0.198110   \n",
       "log_price                     0.146826     0.601898 -0.628831   0.299142   \n",
       "\n",
       "                    Nalog_base  brand_length     Nalog  years_old  log_price  \n",
       "engineDisplacement    0.115049     -0.079169  0.131753  -0.047357   0.146826  \n",
       "enginePower           0.692481     -0.315387  0.953934  -0.197514   0.601898  \n",
       "mileage              -0.083630     -0.026556 -0.121274   0.727474  -0.628831  \n",
       "bT_length             0.134259      0.040776  0.156143  -0.198110   0.299142  \n",
       "Nalog_base            1.000000     -0.233066  0.752939  -0.060675   0.395302  \n",
       "brand_length         -0.233066      1.000000 -0.255352   0.002356  -0.254858  \n",
       "Nalog                 0.752939     -0.255352  1.000000  -0.129520   0.493030  \n",
       "years_old            -0.060675      0.002356 -0.129520   1.000000  -0.738937  \n",
       "log_price             0.395302     -0.254858  0.493030  -0.738937   1.000000  "
      ]
     },
     "execution_count": 136,
     "metadata": {},
     "output_type": "execute_result"
    }
   ],
   "source": [
    "correlation = traincc[num_cols].corr()\n",
    "correlation"
   ]
  },
  {
   "cell_type": "code",
   "execution_count": 137,
   "metadata": {},
   "outputs": [
    {
     "data": {
      "text/plain": [
       "<matplotlib.axes._subplots.AxesSubplot at 0x7f6fd1819a90>"
      ]
     },
     "execution_count": 137,
     "metadata": {},
     "output_type": "execute_result"
    },
    {
     "data": {
      "image/png": "[encoded data removed]",
      "text/plain": [
       "<Figure size 1440x864 with 2 Axes>"
      ]
     },
     "metadata": {
      "needs_background": "light"
     },
     "output_type": "display_data"
    }
   ],
   "source": [
    "plt.figure(figsize=(20, 12))\n",
    "sns.heatmap(correlation, annot=True, cmap='coolwarm')"
   ]
  },
  {
   "cell_type": "code",
   "execution_count": 138,
   "metadata": {},
   "outputs": [],
   "source": [
    "columns_d = ['brand_length','description_word']\n",
    "traincc.drop(columns_d, axis=1, inplace=True)\n",
    "testcc.drop(columns_d, axis=1, inplace=True)"
   ]
  },
  {
   "cell_type": "code",
   "execution_count": 139,
   "metadata": {},
   "outputs": [
    {
     "data": {
      "text/plain": [
       "<matplotlib.axes._subplots.AxesSubplot at 0x7f6f2e8df490>"
      ]
     },
     "execution_count": 139,
     "metadata": {},
     "output_type": "execute_result"
    },
    {
     "data": {
      "image/png": "[encoded data removed]",
      "text/plain": [
       "<Figure size 432x288 with 1 Axes>"
      ]
     },
     "metadata": {
      "needs_background": "light"
     },
     "output_type": "display_data"
    }
   ],
   "source": [
    "sns.distplot(traincc['mileage'])"
   ]
  },
  {
   "cell_type": "code",
   "execution_count": 140,
   "metadata": {},
   "outputs": [
    {
     "data": {
      "text/plain": [
       "<matplotlib.axes._subplots.AxesSubplot at 0x7f6f2e5b0350>"
      ]
     },
     "execution_count": 140,
     "metadata": {},
     "output_type": "execute_result"
    },
    {
     "data": {
      "image/png": "[encoded data removed]",
      "text/plain": [
       "<Figure size 432x288 with 1 Axes>"
      ]
     },
     "metadata": {
      "needs_background": "light"
     },
     "output_type": "display_data"
    }
   ],
   "source": [
    "sns.distplot(traincc['log_price'])"
   ]
  },
  {
   "cell_type": "code",
   "execution_count": 141,
   "metadata": {},
   "outputs": [
    {
     "name": "stdout",
     "output_type": "stream",
     "text": [
      "<class 'pandas.core.frame.DataFrame'>\n",
      "RangeIndex: 34686 entries, 0 to 34685\n",
      "Data columns (total 45 columns):\n",
      " #   Column                    Non-Null Count  Dtype   \n",
      "---  ------                    --------------  -----   \n",
      " 0   bodyType                  34686 non-null  object  \n",
      " 1   brand                     34686 non-null  object  \n",
      " 2   color                     34686 non-null  object  \n",
      " 3   engineDisplacement        34686 non-null  object  \n",
      " 4   enginePower               34686 non-null  float64 \n",
      " 5   fuelType                  34686 non-null  object  \n",
      " 6   mileage                   34686 non-null  int64   \n",
      " 7   modelDate                 34686 non-null  int64   \n",
      " 8   model_name                34686 non-null  object  \n",
      " 9   numberOfDoors             34686 non-null  int64   \n",
      " 10  productionDate            34686 non-null  int64   \n",
      " 11  vehicleTransmission       34686 non-null  object  \n",
      " 12  vendor                    34686 non-null  object  \n",
      " 13  Владельцы                 34686 non-null  category\n",
      " 14  ПТС                       34686 non-null  object  \n",
      " 15  Привод                    34686 non-null  object  \n",
      " 16  Руль                      34686 non-null  object  \n",
      " 17  leather                   34686 non-null  int64   \n",
      " 18  carter                    34686 non-null  int64   \n",
      " 19  ABS                       34686 non-null  int64   \n",
      " 20  airbags                   34686 non-null  int64   \n",
      " 21  immob                     34686 non-null  int64   \n",
      " 22  central_locking           34686 non-null  int64   \n",
      " 23  on_board_computer         34686 non-null  int64   \n",
      " 24  cruise_control            34686 non-null  int64   \n",
      " 25  climat_control            34686 non-null  int64   \n",
      " 26  multi_rudder              34686 non-null  int64   \n",
      " 27  power_steering            34686 non-null  int64   \n",
      " 28  light_and_rain_sensors    34686 non-null  int64   \n",
      " 29  сarbon_body_kits          34686 non-null  int64   \n",
      " 30  rear_diffuser_rkp         34686 non-null  int64   \n",
      " 31  door_closers              34686 non-null  int64   \n",
      " 32  rear_view_camera          34686 non-null  int64   \n",
      " 33  amg                       34686 non-null  int64   \n",
      " 34  bi_xenon_headlights       34686 non-null  int64   \n",
      " 35  from_salon                34686 non-null  int64   \n",
      " 36  alloy_wheels              34686 non-null  int64   \n",
      " 37  parking_sensors           34686 non-null  int64   \n",
      " 38  dents                     34686 non-null  int64   \n",
      " 39  roof_with_panoramic_view  34686 non-null  int64   \n",
      " 40  bT_length                 34686 non-null  int64   \n",
      " 41  Nalog_base                34686 non-null  int64   \n",
      " 42  Nalog                     34686 non-null  float64 \n",
      " 43  years_old                 34686 non-null  int64   \n",
      " 44  age_intervals             34686 non-null  category\n",
      "dtypes: category(2), float64(2), int64(30), object(11)\n",
      "memory usage: 11.4+ MB\n"
     ]
    }
   ],
   "source": [
    "testcc.info()"
   ]
  },
  {
   "cell_type": "markdown",
   "metadata": {},
   "source": [
    "**Concatenation train and test **"
   ]
  },
  {
   "cell_type": "code",
   "execution_count": 143,
   "metadata": {},
   "outputs": [],
   "source": [
    "columns = list(testcc.columns) "
   ]
  },
  {
   "cell_type": "code",
   "execution_count": 148,
   "metadata": {},
   "outputs": [],
   "source": [
    "columns.remove('Nalog_base')"
   ]
  },
  {
   "cell_type": "code",
   "execution_count": 150,
   "metadata": {},
   "outputs": [
    {
     "data": {
      "text/plain": [
       "['bodyType',\n",
       " 'brand',\n",
       " 'color',\n",
       " 'engineDisplacement',\n",
       " 'enginePower',\n",
       " 'fuelType',\n",
       " 'mileage',\n",
       " 'modelDate',\n",
       " 'model_name',\n",
       " 'numberOfDoors',\n",
       " 'productionDate',\n",
       " 'vehicleTransmission',\n",
       " 'vendor',\n",
       " 'Владельцы',\n",
       " 'ПТС',\n",
       " 'Привод',\n",
       " 'Руль',\n",
       " 'leather',\n",
       " 'carter',\n",
       " 'ABS',\n",
       " 'airbags',\n",
       " 'immob',\n",
       " 'central_locking',\n",
       " 'on_board_computer',\n",
       " 'cruise_control',\n",
       " 'climat_control',\n",
       " 'multi_rudder',\n",
       " 'power_steering',\n",
       " 'light_and_rain_sensors',\n",
       " 'сarbon_body_kits',\n",
       " 'rear_diffuser_rkp',\n",
       " 'door_closers',\n",
       " 'rear_view_camera',\n",
       " 'amg',\n",
       " 'bi_xenon_headlights',\n",
       " 'from_salon',\n",
       " 'alloy_wheels',\n",
       " 'parking_sensors',\n",
       " 'dents',\n",
       " 'roof_with_panoramic_view',\n",
       " 'bT_length',\n",
       " 'Nalog',\n",
       " 'years_old',\n",
       " 'age_intervals']"
      ]
     },
     "execution_count": 150,
     "metadata": {},
     "output_type": "execute_result"
    }
   ],
   "source": [
    "columns"
   ]
  },
  {
   "cell_type": "code",
   "execution_count": 151,
   "metadata": {},
   "outputs": [],
   "source": [
    "df_train = traincc[columns]\n",
    "df_test = testcc[columns]"
   ]
  },
  {
   "cell_type": "code",
   "execution_count": 152,
   "metadata": {},
   "outputs": [
    {
     "name": "stdout",
     "output_type": "stream",
     "text": [
      "<class 'pandas.core.frame.DataFrame'>\n",
      "Int64Index: 196665 entries, 0 to 35270\n",
      "Data columns (total 44 columns):\n",
      " #   Column                    Non-Null Count   Dtype   \n",
      "---  ------                    --------------   -----   \n",
      " 0   bodyType                  196665 non-null  object  \n",
      " 1   brand                     196665 non-null  object  \n",
      " 2   color                     196665 non-null  object  \n",
      " 3   engineDisplacement        196665 non-null  float64 \n",
      " 4   enginePower               196665 non-null  int64   \n",
      " 5   fuelType                  196665 non-null  object  \n",
      " 6   mileage                   196665 non-null  int64   \n",
      " 7   modelDate                 196665 non-null  int64   \n",
      " 8   model_name                196665 non-null  object  \n",
      " 9   numberOfDoors             196665 non-null  int64   \n",
      " 10  productionDate            196665 non-null  int64   \n",
      " 11  vehicleTransmission       196665 non-null  object  \n",
      " 12  vendor                    196665 non-null  object  \n",
      " 13  Владельцы                 196665 non-null  category\n",
      " 14  ПТС                       196665 non-null  object  \n",
      " 15  Привод                    196665 non-null  object  \n",
      " 16  Руль                      196665 non-null  object  \n",
      " 17  leather                   196665 non-null  int64   \n",
      " 18  carter                    196665 non-null  int64   \n",
      " 19  ABS                       196665 non-null  int64   \n",
      " 20  airbags                   196665 non-null  int64   \n",
      " 21  immob                     196665 non-null  int64   \n",
      " 22  central_locking           196665 non-null  int64   \n",
      " 23  on_board_computer         196665 non-null  int64   \n",
      " 24  cruise_control            196665 non-null  int64   \n",
      " 25  climat_control            196665 non-null  int64   \n",
      " 26  multi_rudder              196665 non-null  int64   \n",
      " 27  power_steering            196665 non-null  int64   \n",
      " 28  light_and_rain_sensors    196665 non-null  int64   \n",
      " 29  сarbon_body_kits          196665 non-null  int64   \n",
      " 30  rear_diffuser_rkp         196665 non-null  int64   \n",
      " 31  door_closers              196665 non-null  int64   \n",
      " 32  rear_view_camera          196665 non-null  int64   \n",
      " 33  amg                       196665 non-null  int64   \n",
      " 34  bi_xenon_headlights       196665 non-null  int64   \n",
      " 35  from_salon                196665 non-null  int64   \n",
      " 36  alloy_wheels              196665 non-null  int64   \n",
      " 37  parking_sensors           196665 non-null  int64   \n",
      " 38  dents                     196665 non-null  int64   \n",
      " 39  roof_with_panoramic_view  196665 non-null  int64   \n",
      " 40  bT_length                 196665 non-null  int64   \n",
      " 41  Nalog                     196665 non-null  int64   \n",
      " 42  years_old                 196665 non-null  int64   \n",
      " 43  age_intervals             196665 non-null  category\n",
      "dtypes: category(2), float64(1), int64(31), object(10)\n",
      "memory usage: 69.9+ MB\n"
     ]
    }
   ],
   "source": [
    "df_train.info()"
   ]
  },
  {
   "cell_type": "code",
   "execution_count": 153,
   "metadata": {},
   "outputs": [
    {
     "name": "stdout",
     "output_type": "stream",
     "text": [
      "<class 'pandas.core.frame.DataFrame'>\n",
      "RangeIndex: 34686 entries, 0 to 34685\n",
      "Data columns (total 44 columns):\n",
      " #   Column                    Non-Null Count  Dtype   \n",
      "---  ------                    --------------  -----   \n",
      " 0   bodyType                  34686 non-null  object  \n",
      " 1   brand                     34686 non-null  object  \n",
      " 2   color                     34686 non-null  object  \n",
      " 3   engineDisplacement        34686 non-null  object  \n",
      " 4   enginePower               34686 non-null  float64 \n",
      " 5   fuelType                  34686 non-null  object  \n",
      " 6   mileage                   34686 non-null  int64   \n",
      " 7   modelDate                 34686 non-null  int64   \n",
      " 8   model_name                34686 non-null  object  \n",
      " 9   numberOfDoors             34686 non-null  int64   \n",
      " 10  productionDate            34686 non-null  int64   \n",
      " 11  vehicleTransmission       34686 non-null  object  \n",
      " 12  vendor                    34686 non-null  object  \n",
      " 13  Владельцы                 34686 non-null  category\n",
      " 14  ПТС                       34686 non-null  object  \n",
      " 15  Привод                    34686 non-null  object  \n",
      " 16  Руль                      34686 non-null  object  \n",
      " 17  leather                   34686 non-null  int64   \n",
      " 18  carter                    34686 non-null  int64   \n",
      " 19  ABS                       34686 non-null  int64   \n",
      " 20  airbags                   34686 non-null  int64   \n",
      " 21  immob                     34686 non-null  int64   \n",
      " 22  central_locking           34686 non-null  int64   \n",
      " 23  on_board_computer         34686 non-null  int64   \n",
      " 24  cruise_control            34686 non-null  int64   \n",
      " 25  climat_control            34686 non-null  int64   \n",
      " 26  multi_rudder              34686 non-null  int64   \n",
      " 27  power_steering            34686 non-null  int64   \n",
      " 28  light_and_rain_sensors    34686 non-null  int64   \n",
      " 29  сarbon_body_kits          34686 non-null  int64   \n",
      " 30  rear_diffuser_rkp         34686 non-null  int64   \n",
      " 31  door_closers              34686 non-null  int64   \n",
      " 32  rear_view_camera          34686 non-null  int64   \n",
      " 33  amg                       34686 non-null  int64   \n",
      " 34  bi_xenon_headlights       34686 non-null  int64   \n",
      " 35  from_salon                34686 non-null  int64   \n",
      " 36  alloy_wheels              34686 non-null  int64   \n",
      " 37  parking_sensors           34686 non-null  int64   \n",
      " 38  dents                     34686 non-null  int64   \n",
      " 39  roof_with_panoramic_view  34686 non-null  int64   \n",
      " 40  bT_length                 34686 non-null  int64   \n",
      " 41  Nalog                     34686 non-null  float64 \n",
      " 42  years_old                 34686 non-null  int64   \n",
      " 43  age_intervals             34686 non-null  category\n",
      "dtypes: category(2), float64(2), int64(29), object(11)\n",
      "memory usage: 11.2+ MB\n"
     ]
    }
   ],
   "source": [
    "df_test.info()"
   ]
  },
  {
   "cell_type": "code",
   "execution_count": 154,
   "metadata": {},
   "outputs": [],
   "source": [
    "y = traincc['price']"
   ]
  },
  {
   "cell_type": "code",
   "execution_count": 155,
   "metadata": {},
   "outputs": [],
   "source": [
    "# y.to_csv('yy2201.csv', encoding = 'utf-8')"
   ]
  },
  {
   "cell_type": "code",
   "execution_count": 156,
   "metadata": {},
   "outputs": [
    {
     "data": {
      "text/plain": [
       "0        200000.0\n",
       "1         60000.0\n",
       "2         99000.0\n",
       "3         65000.0\n",
       "4        100000.0\n",
       "           ...   \n",
       "35266    280000.0\n",
       "35267    230000.0\n",
       "35268    150000.0\n",
       "35269    170000.0\n",
       "35270    750000.0\n",
       "Name: price, Length: 196665, dtype: float64"
      ]
     },
     "execution_count": 156,
     "metadata": {},
     "output_type": "execute_result"
    }
   ],
   "source": [
    "y"
   ]
  },
  {
   "cell_type": "markdown",
   "metadata": {},
   "source": [
    "# Label Encoding"
   ]
  },
  {
   "cell_type": "code",
   "execution_count": 157,
   "metadata": {},
   "outputs": [
    {
     "name": "stderr",
     "output_type": "stream",
     "text": [
      "/opt/conda/lib/python3.7/site-packages/ipykernel_launcher.py:1: SettingWithCopyWarning: \n",
      "A value is trying to be set on a copy of a slice from a DataFrame.\n",
      "Try using .loc[row_indexer,col_indexer] = value instead\n",
      "\n",
      "See the caveats in the documentation: https://pandas.pydata.org/pandas-docs/stable/user_guide/indexing.html#returning-a-view-versus-a-copy\n",
      "  \"\"\"Entry point for launching an IPython kernel.\n"
     ]
    }
   ],
   "source": [
    "df_train['sample'] = 1 # трейн\n",
    "df_test['sample'] = 0 # тест"
   ]
  },
  {
   "cell_type": "code",
   "execution_count": 158,
   "metadata": {},
   "outputs": [],
   "source": [
    "data = df_test.append(df_train, sort=False).reset_index(drop=True) "
   ]
  },
  {
   "cell_type": "code",
   "execution_count": 159,
   "metadata": {},
   "outputs": [
    {
     "data": {
      "text/plain": [
       "bodyType                    0\n",
       "brand                       0\n",
       "color                       0\n",
       "engineDisplacement          0\n",
       "enginePower                 0\n",
       "fuelType                    0\n",
       "mileage                     0\n",
       "modelDate                   0\n",
       "model_name                  0\n",
       "numberOfDoors               0\n",
       "productionDate              0\n",
       "vehicleTransmission         0\n",
       "vendor                      0\n",
       "Владельцы                   0\n",
       "ПТС                         0\n",
       "Привод                      0\n",
       "Руль                        0\n",
       "leather                     0\n",
       "carter                      0\n",
       "ABS                         0\n",
       "airbags                     0\n",
       "immob                       0\n",
       "central_locking             0\n",
       "on_board_computer           0\n",
       "cruise_control              0\n",
       "climat_control              0\n",
       "multi_rudder                0\n",
       "power_steering              0\n",
       "light_and_rain_sensors      0\n",
       "сarbon_body_kits            0\n",
       "rear_diffuser_rkp           0\n",
       "door_closers                0\n",
       "rear_view_camera            0\n",
       "amg                         0\n",
       "bi_xenon_headlights         0\n",
       "from_salon                  0\n",
       "alloy_wheels                0\n",
       "parking_sensors             0\n",
       "dents                       0\n",
       "roof_with_panoramic_view    0\n",
       "bT_length                   0\n",
       "Nalog                       0\n",
       "years_old                   0\n",
       "age_intervals               0\n",
       "sample                      0\n",
       "dtype: int64"
      ]
     },
     "execution_count": 159,
     "metadata": {},
     "output_type": "execute_result"
    }
   ],
   "source": [
    "data.isna().sum()"
   ]
  },
  {
   "cell_type": "code",
   "execution_count": 160,
   "metadata": {},
   "outputs": [],
   "source": [
    "for column in ['bodyType', 'brand', 'color', 'fuelType', 'model_name', 'vendor', 'Владельцы', 'vehicleTransmission', 'Привод', 'age_intervals']:\n",
    "    data[column] = data[column].astype('category').cat.codes"
   ]
  },
  {
   "cell_type": "code",
   "execution_count": 161,
   "metadata": {},
   "outputs": [
    {
     "data": {
      "text/html": [
       "<div>\n",
       "<style scoped>\n",
       "    .dataframe tbody tr th:only-of-type {\n",
       "        vertical-align: middle;\n",
       "    }\n",
       "\n",
       "    .dataframe tbody tr th {\n",
       "        vertical-align: top;\n",
       "    }\n",
       "\n",
       "    .dataframe thead th {\n",
       "        text-align: right;\n",
       "    }\n",
       "</style>\n",
       "<table border=\"1\" class=\"dataframe\">\n",
       "  <thead>\n",
       "    <tr style=\"text-align: right;\">\n",
       "      <th></th>\n",
       "      <th>bodyType</th>\n",
       "      <th>brand</th>\n",
       "      <th>color</th>\n",
       "      <th>engineDisplacement</th>\n",
       "      <th>enginePower</th>\n",
       "      <th>fuelType</th>\n",
       "      <th>mileage</th>\n",
       "      <th>modelDate</th>\n",
       "      <th>model_name</th>\n",
       "      <th>numberOfDoors</th>\n",
       "      <th>...</th>\n",
       "      <th>from_salon</th>\n",
       "      <th>alloy_wheels</th>\n",
       "      <th>parking_sensors</th>\n",
       "      <th>dents</th>\n",
       "      <th>roof_with_panoramic_view</th>\n",
       "      <th>bT_length</th>\n",
       "      <th>Nalog</th>\n",
       "      <th>years_old</th>\n",
       "      <th>age_intervals</th>\n",
       "      <th>sample</th>\n",
       "    </tr>\n",
       "  </thead>\n",
       "  <tbody>\n",
       "    <tr>\n",
       "      <th>0</th>\n",
       "      <td>9</td>\n",
       "      <td>8</td>\n",
       "      <td>14</td>\n",
       "      <td>1.2</td>\n",
       "      <td>105.0</td>\n",
       "      <td>0</td>\n",
       "      <td>74000</td>\n",
       "      <td>2013</td>\n",
       "      <td>713</td>\n",
       "      <td>5</td>\n",
       "      <td>...</td>\n",
       "      <td>0</td>\n",
       "      <td>0</td>\n",
       "      <td>0</td>\n",
       "      <td>0</td>\n",
       "      <td>0</td>\n",
       "      <td>7</td>\n",
       "      <td>2625.0</td>\n",
       "      <td>7</td>\n",
       "      <td>1</td>\n",
       "      <td>0</td>\n",
       "    </tr>\n",
       "    <tr>\n",
       "      <th>1</th>\n",
       "      <td>9</td>\n",
       "      <td>8</td>\n",
       "      <td>16</td>\n",
       "      <td>1.6</td>\n",
       "      <td>110.0</td>\n",
       "      <td>0</td>\n",
       "      <td>60563</td>\n",
       "      <td>2017</td>\n",
       "      <td>713</td>\n",
       "      <td>5</td>\n",
       "      <td>...</td>\n",
       "      <td>0</td>\n",
       "      <td>1</td>\n",
       "      <td>0</td>\n",
       "      <td>0</td>\n",
       "      <td>0</td>\n",
       "      <td>7</td>\n",
       "      <td>2750.0</td>\n",
       "      <td>4</td>\n",
       "      <td>1</td>\n",
       "      <td>0</td>\n",
       "    </tr>\n",
       "    <tr>\n",
       "      <th>2</th>\n",
       "      <td>9</td>\n",
       "      <td>8</td>\n",
       "      <td>13</td>\n",
       "      <td>1.8</td>\n",
       "      <td>152.0</td>\n",
       "      <td>0</td>\n",
       "      <td>88000</td>\n",
       "      <td>2013</td>\n",
       "      <td>957</td>\n",
       "      <td>5</td>\n",
       "      <td>...</td>\n",
       "      <td>0</td>\n",
       "      <td>0</td>\n",
       "      <td>0</td>\n",
       "      <td>0</td>\n",
       "      <td>0</td>\n",
       "      <td>7</td>\n",
       "      <td>6840.0</td>\n",
       "      <td>7</td>\n",
       "      <td>1</td>\n",
       "      <td>0</td>\n",
       "    </tr>\n",
       "    <tr>\n",
       "      <th>3</th>\n",
       "      <td>9</td>\n",
       "      <td>8</td>\n",
       "      <td>7</td>\n",
       "      <td>1.6</td>\n",
       "      <td>110.0</td>\n",
       "      <td>0</td>\n",
       "      <td>95000</td>\n",
       "      <td>2013</td>\n",
       "      <td>713</td>\n",
       "      <td>5</td>\n",
       "      <td>...</td>\n",
       "      <td>0</td>\n",
       "      <td>0</td>\n",
       "      <td>0</td>\n",
       "      <td>0</td>\n",
       "      <td>0</td>\n",
       "      <td>7</td>\n",
       "      <td>2750.0</td>\n",
       "      <td>7</td>\n",
       "      <td>1</td>\n",
       "      <td>0</td>\n",
       "    </tr>\n",
       "    <tr>\n",
       "      <th>4</th>\n",
       "      <td>9</td>\n",
       "      <td>8</td>\n",
       "      <td>1</td>\n",
       "      <td>1.8</td>\n",
       "      <td>152.0</td>\n",
       "      <td>0</td>\n",
       "      <td>58536</td>\n",
       "      <td>2008</td>\n",
       "      <td>713</td>\n",
       "      <td>5</td>\n",
       "      <td>...</td>\n",
       "      <td>0</td>\n",
       "      <td>1</td>\n",
       "      <td>0</td>\n",
       "      <td>0</td>\n",
       "      <td>0</td>\n",
       "      <td>7</td>\n",
       "      <td>6840.0</td>\n",
       "      <td>9</td>\n",
       "      <td>2</td>\n",
       "      <td>0</td>\n",
       "    </tr>\n",
       "  </tbody>\n",
       "</table>\n",
       "<p>5 rows × 45 columns</p>\n",
       "</div>"
      ],
      "text/plain": [
       "   bodyType  brand  color engineDisplacement  enginePower  fuelType  mileage  \\\n",
       "0         9      8     14                1.2        105.0         0    74000   \n",
       "1         9      8     16                1.6        110.0         0    60563   \n",
       "2         9      8     13                1.8        152.0         0    88000   \n",
       "3         9      8      7                1.6        110.0         0    95000   \n",
       "4         9      8      1                1.8        152.0         0    58536   \n",
       "\n",
       "   modelDate  model_name  numberOfDoors  ...  from_salon  alloy_wheels  \\\n",
       "0       2013         713              5  ...           0             0   \n",
       "1       2017         713              5  ...           0             1   \n",
       "2       2013         957              5  ...           0             0   \n",
       "3       2013         713              5  ...           0             0   \n",
       "4       2008         713              5  ...           0             1   \n",
       "\n",
       "   parking_sensors  dents  roof_with_panoramic_view  bT_length   Nalog  \\\n",
       "0                0      0                         0          7  2625.0   \n",
       "1                0      0                         0          7  2750.0   \n",
       "2                0      0                         0          7  6840.0   \n",
       "3                0      0                         0          7  2750.0   \n",
       "4                0      0                         0          7  6840.0   \n",
       "\n",
       "   years_old  age_intervals  sample  \n",
       "0          7              1       0  \n",
       "1          4              1       0  \n",
       "2          7              1       0  \n",
       "3          7              1       0  \n",
       "4          9              2       0  \n",
       "\n",
       "[5 rows x 45 columns]"
      ]
     },
     "execution_count": 161,
     "metadata": {},
     "output_type": "execute_result"
    }
   ],
   "source": [
    "bin_cols = ['ПТС', 'Руль']\n",
    "label_encoder = LabelEncoder()\n",
    "for column in bin_cols:\n",
    "    data[column] = label_encoder.fit_transform(data[column])\n",
    "data.head()"
   ]
  },
  {
   "cell_type": "code",
   "execution_count": 162,
   "metadata": {},
   "outputs": [
    {
     "name": "stdout",
     "output_type": "stream",
     "text": [
      "<class 'pandas.core.frame.DataFrame'>\n",
      "RangeIndex: 231351 entries, 0 to 231350\n",
      "Data columns (total 45 columns):\n",
      " #   Column                    Non-Null Count   Dtype  \n",
      "---  ------                    --------------   -----  \n",
      " 0   bodyType                  231351 non-null  int8   \n",
      " 1   brand                     231351 non-null  int8   \n",
      " 2   color                     231351 non-null  int8   \n",
      " 3   engineDisplacement        231351 non-null  object \n",
      " 4   enginePower               231351 non-null  float64\n",
      " 5   fuelType                  231351 non-null  int8   \n",
      " 6   mileage                   231351 non-null  int64  \n",
      " 7   modelDate                 231351 non-null  int64  \n",
      " 8   model_name                231351 non-null  int16  \n",
      " 9   numberOfDoors             231351 non-null  int64  \n",
      " 10  productionDate            231351 non-null  int64  \n",
      " 11  vehicleTransmission       231351 non-null  int8   \n",
      " 12  vendor                    231351 non-null  int8   \n",
      " 13  Владельцы                 231351 non-null  int8   \n",
      " 14  ПТС                       231351 non-null  int64  \n",
      " 15  Привод                    231351 non-null  int8   \n",
      " 16  Руль                      231351 non-null  int64  \n",
      " 17  leather                   231351 non-null  int64  \n",
      " 18  carter                    231351 non-null  int64  \n",
      " 19  ABS                       231351 non-null  int64  \n",
      " 20  airbags                   231351 non-null  int64  \n",
      " 21  immob                     231351 non-null  int64  \n",
      " 22  central_locking           231351 non-null  int64  \n",
      " 23  on_board_computer         231351 non-null  int64  \n",
      " 24  cruise_control            231351 non-null  int64  \n",
      " 25  climat_control            231351 non-null  int64  \n",
      " 26  multi_rudder              231351 non-null  int64  \n",
      " 27  power_steering            231351 non-null  int64  \n",
      " 28  light_and_rain_sensors    231351 non-null  int64  \n",
      " 29  сarbon_body_kits          231351 non-null  int64  \n",
      " 30  rear_diffuser_rkp         231351 non-null  int64  \n",
      " 31  door_closers              231351 non-null  int64  \n",
      " 32  rear_view_camera          231351 non-null  int64  \n",
      " 33  amg                       231351 non-null  int64  \n",
      " 34  bi_xenon_headlights       231351 non-null  int64  \n",
      " 35  from_salon                231351 non-null  int64  \n",
      " 36  alloy_wheels              231351 non-null  int64  \n",
      " 37  parking_sensors           231351 non-null  int64  \n",
      " 38  dents                     231351 non-null  int64  \n",
      " 39  roof_with_panoramic_view  231351 non-null  int64  \n",
      " 40  bT_length                 231351 non-null  int64  \n",
      " 41  Nalog                     231351 non-null  float64\n",
      " 42  years_old                 231351 non-null  int64  \n",
      " 43  age_intervals             231351 non-null  int8   \n",
      " 44  sample                    231351 non-null  int64  \n",
      "dtypes: float64(2), int16(1), int64(32), int8(9), object(1)\n",
      "memory usage: 64.2+ MB\n"
     ]
    }
   ],
   "source": [
    "data.info()"
   ]
  },
  {
   "cell_type": "code",
   "execution_count": 163,
   "metadata": {},
   "outputs": [],
   "source": [
    "# data.to_csv('data2201.csv')"
   ]
  },
  {
   "cell_type": "code",
   "execution_count": 164,
   "metadata": {},
   "outputs": [],
   "source": [
    "X = data.query('sample == 1').drop(['sample'], axis=1)\n",
    "X_sub = data.query('sample == 0').drop(['sample'], axis=1)"
   ]
  },
  {
   "cell_type": "markdown",
   "metadata": {},
   "source": [
    "**Function to determine value of mape**"
   ]
  },
  {
   "cell_type": "code",
   "execution_count": 166,
   "metadata": {},
   "outputs": [],
   "source": [
    "def mape(y_true, y_pred):\n",
    "    return np.mean(np.abs((y_pred-y_true)/y_true))"
   ]
  },
  {
   "cell_type": "markdown",
   "metadata": {},
   "source": [
    "# Train test split"
   ]
  },
  {
   "cell_type": "code",
   "execution_count": 167,
   "metadata": {},
   "outputs": [],
   "source": [
    "X_train, X_test, y_train, y_test = train_test_split(X, y, test_size=VAL_SIZE, shuffle=True, random_state=RANDOM_SEED)"
   ]
  },
  {
   "cell_type": "code",
   "execution_count": 168,
   "metadata": {},
   "outputs": [
    {
     "data": {
      "text/plain": [
       "8784     13.997832\n",
       "34056    13.369223\n",
       "36674    13.910821\n",
       "28342    13.963931\n",
       "22769    12.611538\n",
       "           ...    \n",
       "33843    13.763164\n",
       "17258    12.254863\n",
       "46120    16.077065\n",
       "61405    13.440090\n",
       "35955    12.206073\n",
       "Name: price, Length: 157332, dtype: float64"
      ]
     },
     "execution_count": 168,
     "metadata": {},
     "output_type": "execute_result"
    }
   ],
   "source": [
    "np.log(y_train)"
   ]
  },
  {
   "cell_type": "code",
   "execution_count": null,
   "metadata": {},
   "outputs": [],
   "source": [
    "import xgboost as xgb"
   ]
  },
  {
   "cell_type": "code",
   "execution_count": null,
   "metadata": {},
   "outputs": [],
   "source": []
  }
 ],
 "metadata": {
  "kernelspec": {
   "display_name": "Python 3",
   "language": "python",
   "name": "python3"
  },
  "language_info": {
   "codemirror_mode": {
    "name": "ipython",
    "version": 3
   },
   "file_extension": ".py",
   "mimetype": "text/x-python",
   "name": "python",
   "nbconvert_exporter": "python",
   "pygments_lexer": "ipython3",
   "version": "3.8.5"
  }
 },
 "nbformat": 4,
 "nbformat_minor": 4
}
